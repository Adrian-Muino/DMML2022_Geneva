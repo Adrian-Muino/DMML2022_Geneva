{
  "nbformat": 4,
  "nbformat_minor": 0,
  "metadata": {
    "colab": {
      "provenance": [],
      "collapsed_sections": [
        "xBLCHLRyCeGs",
        "SaJyDpDGDOSH",
        "IekpHyvqEc2I",
        "rSSUB_4yFULp",
        "ldcy7ElvVSR1",
        "KzN8xnVIH7_x",
        "eFMo5IenItmy",
        "pueSQ8rlYosB",
        "C6Fs620Nd3SU",
        "dhR4y8HleKHr",
        "5b6ImOiulMPV",
        "renriEfumKb8",
        "itR2d-KYmXDn",
        "5Oxo9FQdm-yt",
        "2HS9KVtTn96m",
        "68VACqGYpZlX",
        "fPRNJKfephSr",
        "Z4oga3zwqhN_",
        "mpqEOZVcrTp2",
        "lGZSlO0arfgN",
        "qqjAMiqNsC1k",
        "_Zkc2GXSs8nG",
        "euLYn4nftBdG",
        "yu-MvkWV_l78",
        "St-SKAcf_rhS",
        "BLf2Bf0RAQcf",
        "q_9u9DjUEpNS",
        "l7ok-EGsEtLi",
        "GDPL0w9gEvZ6",
        "jbx_t0fdGPcJ",
        "4JXemBQBGZFU",
        "xo6oZsw1kh3x",
        "PBmzSzblklRt",
        "rAdCMFVIyKpf"
      ],
      "include_colab_link": true
    },
    "kernelspec": {
      "name": "python3",
      "display_name": "Python 3"
    },
    "language_info": {
      "name": "python"
    }
  },
  "cells": [
    {
      "cell_type": "markdown",
      "metadata": {
        "id": "view-in-github",
        "colab_type": "text"
      },
      "source": [
        "<a href=\"https://colab.research.google.com/github/Adrian-Muino/DMML2022_Geneva/blob/main/DMML_Geneva_First_Models.ipynb\" target=\"_parent\"><img src=\"https://colab.research.google.com/assets/colab-badge.svg\" alt=\"Open In Colab\"/></a>"
      ]
    },
    {
      "cell_type": "markdown",
      "source": [
        "\n",
        "#Detecting the difficulty level of French texts by UNIL_GENEVA"
      ],
      "metadata": {
        "id": "_CvttdfuCAbK"
      }
    },
    {
      "cell_type": "markdown",
      "source": [
        "##A) Prerequisites"
      ],
      "metadata": {
        "id": "XYaduem1EpPn"
      }
    },
    {
      "cell_type": "markdown",
      "source": [],
      "metadata": {
        "id": "LQLdA0tnhE9n"
      }
    },
    {
      "cell_type": "markdown",
      "source": [
        "### Imports"
      ],
      "metadata": {
        "id": "xBLCHLRyCeGs"
      }
    },
    {
      "cell_type": "code",
      "source": [
        "import string\n",
        "import re\n",
        "\n",
        "import pandas as pd\n",
        "\n",
        "import spacy\n",
        "from spacy import displacy\n",
        "from spacy.lang.en.stop_words import STOP_WORDS\n",
        "from spacy.lang.en import English\n",
        "\n",
        "import nltk\n",
        "from nltk.tokenize import word_tokenize\n",
        "from nltk.stem import PorterStemmer, SnowballStemmer, WordNetLemmatizer\n",
        "nltk.download('punkt')\n",
        "\n",
        "import numpy as np\n",
        "\n",
        "import matplotlib.pyplot as plt\n",
        "\n",
        "import seaborn as sns\n",
        "\n",
        "from sklearn.base import TransformerMixin\n",
        "from sklearn.pipeline import Pipeline\n",
        "from sklearn.preprocessing import OrdinalEncoder, OneHotEncoder, LabelEncoder\n",
        "from sklearn.model_selection import train_test_split, GridSearchCV\n",
        "from sklearn.ensemble import RandomForestClassifier, GradientBoostingClassifier\n",
        "from sklearn.linear_model import LogisticRegression, LogisticRegressionCV, RidgeClassifier, Perceptron\n",
        "from sklearn.svm import LinearSVC\n",
        "from sklearn.feature_extraction.text import CountVectorizer, TfidfVectorizer\n",
        "from sklearn.utils.multiclass import unique_labels\n",
        "from sklearn.neighbors import KNeighborsClassifier\n",
        "from sklearn.tree import DecisionTreeClassifier\n",
        "from sklearn.metrics import recall_score, precision_score, f1_score, accuracy_score, confusion_matrix, ConfusionMatrixDisplay\n",
        "\n",
        "\n",
        "\n",
        "np.random.seed = 0\n",
        "\n",
        "def evaluate(y_true, pred):\n",
        "  \"\"\"\n",
        "  This method calculates the model performance metrics. Since it is a multi-class\n",
        "  classification, we decided to take the weighted average \n",
        "  for the metrics that are calculated for each class.\n",
        "\n",
        "  \"\"\"\n",
        "\n",
        "  report = {\n",
        "      'accuracy':accuracy_score(y_true, pred),\n",
        "      'recall':recall_score(y_true, pred, average='macro'),\n",
        "      'precision':precision_score(y_true, pred, average='macro'),\n",
        "      'f1_score':f1_score(y_true, pred, average='macro')\n",
        "  }\n",
        "\n",
        "  return report\n",
        "\n",
        "def plot_confusion_matrix(y_true, pred, model):\n",
        "  \n",
        "  \"\"\"\n",
        "  A method plotting the models into a confusion matrix.\n",
        "  \"\"\"\n",
        "\n",
        "  cf_matrix = confusion_matrix(y_test, pred)\n",
        "\n",
        "  disp = ConfusionMatrixDisplay(confusion_matrix=cf_matrix,\n",
        "                              display_labels=model.classes_)\n",
        "    \n",
        "  disp.plot()\n",
        "\n",
        "\n",
        "reports = {}\n"
      ],
      "metadata": {
        "id": "xetHYKv1Cw01",
        "colab": {
          "base_uri": "https://localhost:8080/"
        },
        "outputId": "f231843f-daf8-448f-e458-0ae9d3b14150"
      },
      "execution_count": null,
      "outputs": [
        {
          "output_type": "stream",
          "name": "stderr",
          "text": [
            "[nltk_data] Downloading package punkt to /root/nltk_data...\n",
            "[nltk_data]   Package punkt is already up-to-date!\n"
          ]
        }
      ]
    },
    {
      "cell_type": "code",
      "source": [
        "# Download the french spacy model\n",
        "!python -m spacy download fr_core_news_md\n",
        "!python -m spacy download fr_core_news_sm"
      ],
      "metadata": {
        "id": "19GQo-C8C4DN",
        "colab": {
          "base_uri": "https://localhost:8080/"
        },
        "outputId": "63378641-e843-49cb-f143-fc5467691a73"
      },
      "execution_count": null,
      "outputs": [
        {
          "output_type": "stream",
          "name": "stdout",
          "text": [
            "/usr/local/lib/python3.8/dist-packages/torch/cuda/__init__.py:497: UserWarning: Can't initialize NVML\n",
            "  warnings.warn(\"Can't initialize NVML\")\n",
            "2022-12-18 11:33:02.937693: E tensorflow/stream_executor/cuda/cuda_driver.cc:271] failed call to cuInit: CUDA_ERROR_NO_DEVICE: no CUDA-capable device is detected\n",
            "Looking in indexes: https://pypi.org/simple, https://us-python.pkg.dev/colab-wheels/public/simple/\n",
            "Collecting fr-core-news-md==3.4.0\n",
            "  Downloading https://github.com/explosion/spacy-models/releases/download/fr_core_news_md-3.4.0/fr_core_news_md-3.4.0-py3-none-any.whl (45.8 MB)\n",
            "\u001b[K     |████████████████████████████████| 45.8 MB 1.3 MB/s \n",
            "\u001b[?25hRequirement already satisfied: spacy<3.5.0,>=3.4.0 in /usr/local/lib/python3.8/dist-packages (from fr-core-news-md==3.4.0) (3.4.4)\n",
            "Requirement already satisfied: spacy-loggers<2.0.0,>=1.0.0 in /usr/local/lib/python3.8/dist-packages (from spacy<3.5.0,>=3.4.0->fr-core-news-md==3.4.0) (1.0.4)\n",
            "Requirement already satisfied: numpy>=1.15.0 in /usr/local/lib/python3.8/dist-packages (from spacy<3.5.0,>=3.4.0->fr-core-news-md==3.4.0) (1.21.6)\n",
            "Requirement already satisfied: setuptools in /usr/local/lib/python3.8/dist-packages (from spacy<3.5.0,>=3.4.0->fr-core-news-md==3.4.0) (57.4.0)\n",
            "Requirement already satisfied: spacy-legacy<3.1.0,>=3.0.10 in /usr/local/lib/python3.8/dist-packages (from spacy<3.5.0,>=3.4.0->fr-core-news-md==3.4.0) (3.0.10)\n",
            "Requirement already satisfied: typer<0.8.0,>=0.3.0 in /usr/local/lib/python3.8/dist-packages (from spacy<3.5.0,>=3.4.0->fr-core-news-md==3.4.0) (0.7.0)\n",
            "Requirement already satisfied: pydantic!=1.8,!=1.8.1,<1.11.0,>=1.7.4 in /usr/local/lib/python3.8/dist-packages (from spacy<3.5.0,>=3.4.0->fr-core-news-md==3.4.0) (1.10.2)\n",
            "Requirement already satisfied: thinc<8.2.0,>=8.1.0 in /usr/local/lib/python3.8/dist-packages (from spacy<3.5.0,>=3.4.0->fr-core-news-md==3.4.0) (8.1.5)\n",
            "Requirement already satisfied: wasabi<1.1.0,>=0.9.1 in /usr/local/lib/python3.8/dist-packages (from spacy<3.5.0,>=3.4.0->fr-core-news-md==3.4.0) (0.10.1)\n",
            "Requirement already satisfied: cymem<2.1.0,>=2.0.2 in /usr/local/lib/python3.8/dist-packages (from spacy<3.5.0,>=3.4.0->fr-core-news-md==3.4.0) (2.0.7)\n",
            "Requirement already satisfied: pathy>=0.3.5 in /usr/local/lib/python3.8/dist-packages (from spacy<3.5.0,>=3.4.0->fr-core-news-md==3.4.0) (0.10.1)\n",
            "Requirement already satisfied: requests<3.0.0,>=2.13.0 in /usr/local/lib/python3.8/dist-packages (from spacy<3.5.0,>=3.4.0->fr-core-news-md==3.4.0) (2.23.0)\n",
            "Requirement already satisfied: srsly<3.0.0,>=2.4.3 in /usr/local/lib/python3.8/dist-packages (from spacy<3.5.0,>=3.4.0->fr-core-news-md==3.4.0) (2.4.5)\n",
            "Requirement already satisfied: packaging>=20.0 in /usr/local/lib/python3.8/dist-packages (from spacy<3.5.0,>=3.4.0->fr-core-news-md==3.4.0) (21.3)\n",
            "Requirement already satisfied: jinja2 in /usr/local/lib/python3.8/dist-packages (from spacy<3.5.0,>=3.4.0->fr-core-news-md==3.4.0) (2.11.3)\n",
            "Requirement already satisfied: catalogue<2.1.0,>=2.0.6 in /usr/local/lib/python3.8/dist-packages (from spacy<3.5.0,>=3.4.0->fr-core-news-md==3.4.0) (2.0.8)\n",
            "Requirement already satisfied: langcodes<4.0.0,>=3.2.0 in /usr/local/lib/python3.8/dist-packages (from spacy<3.5.0,>=3.4.0->fr-core-news-md==3.4.0) (3.3.0)\n",
            "Requirement already satisfied: murmurhash<1.1.0,>=0.28.0 in /usr/local/lib/python3.8/dist-packages (from spacy<3.5.0,>=3.4.0->fr-core-news-md==3.4.0) (1.0.9)\n",
            "Requirement already satisfied: preshed<3.1.0,>=3.0.2 in /usr/local/lib/python3.8/dist-packages (from spacy<3.5.0,>=3.4.0->fr-core-news-md==3.4.0) (3.0.8)\n",
            "Requirement already satisfied: smart-open<7.0.0,>=5.2.1 in /usr/local/lib/python3.8/dist-packages (from spacy<3.5.0,>=3.4.0->fr-core-news-md==3.4.0) (6.3.0)\n",
            "Requirement already satisfied: tqdm<5.0.0,>=4.38.0 in /usr/local/lib/python3.8/dist-packages (from spacy<3.5.0,>=3.4.0->fr-core-news-md==3.4.0) (4.64.1)\n",
            "Requirement already satisfied: pyparsing!=3.0.5,>=2.0.2 in /usr/local/lib/python3.8/dist-packages (from packaging>=20.0->spacy<3.5.0,>=3.4.0->fr-core-news-md==3.4.0) (3.0.9)\n",
            "Requirement already satisfied: typing-extensions>=4.1.0 in /usr/local/lib/python3.8/dist-packages (from pydantic!=1.8,!=1.8.1,<1.11.0,>=1.7.4->spacy<3.5.0,>=3.4.0->fr-core-news-md==3.4.0) (4.4.0)\n",
            "Requirement already satisfied: idna<3,>=2.5 in /usr/local/lib/python3.8/dist-packages (from requests<3.0.0,>=2.13.0->spacy<3.5.0,>=3.4.0->fr-core-news-md==3.4.0) (2.10)\n",
            "Requirement already satisfied: chardet<4,>=3.0.2 in /usr/local/lib/python3.8/dist-packages (from requests<3.0.0,>=2.13.0->spacy<3.5.0,>=3.4.0->fr-core-news-md==3.4.0) (3.0.4)\n",
            "Requirement already satisfied: certifi>=2017.4.17 in /usr/local/lib/python3.8/dist-packages (from requests<3.0.0,>=2.13.0->spacy<3.5.0,>=3.4.0->fr-core-news-md==3.4.0) (2022.12.7)\n",
            "Requirement already satisfied: urllib3!=1.25.0,!=1.25.1,<1.26,>=1.21.1 in /usr/local/lib/python3.8/dist-packages (from requests<3.0.0,>=2.13.0->spacy<3.5.0,>=3.4.0->fr-core-news-md==3.4.0) (1.24.3)\n",
            "Requirement already satisfied: confection<1.0.0,>=0.0.1 in /usr/local/lib/python3.8/dist-packages (from thinc<8.2.0,>=8.1.0->spacy<3.5.0,>=3.4.0->fr-core-news-md==3.4.0) (0.0.3)\n",
            "Requirement already satisfied: blis<0.8.0,>=0.7.8 in /usr/local/lib/python3.8/dist-packages (from thinc<8.2.0,>=8.1.0->spacy<3.5.0,>=3.4.0->fr-core-news-md==3.4.0) (0.7.9)\n",
            "Requirement already satisfied: click<9.0.0,>=7.1.1 in /usr/local/lib/python3.8/dist-packages (from typer<0.8.0,>=0.3.0->spacy<3.5.0,>=3.4.0->fr-core-news-md==3.4.0) (7.1.2)\n",
            "Requirement already satisfied: MarkupSafe>=0.23 in /usr/local/lib/python3.8/dist-packages (from jinja2->spacy<3.5.0,>=3.4.0->fr-core-news-md==3.4.0) (2.0.1)\n",
            "\u001b[38;5;2m✔ Download and installation successful\u001b[0m\n",
            "You can now load the package via spacy.load('fr_core_news_md')\n",
            "/usr/local/lib/python3.8/dist-packages/torch/cuda/__init__.py:497: UserWarning: Can't initialize NVML\n",
            "  warnings.warn(\"Can't initialize NVML\")\n",
            "2022-12-18 11:33:15.517885: E tensorflow/stream_executor/cuda/cuda_driver.cc:271] failed call to cuInit: CUDA_ERROR_NO_DEVICE: no CUDA-capable device is detected\n",
            "Looking in indexes: https://pypi.org/simple, https://us-python.pkg.dev/colab-wheels/public/simple/\n",
            "Collecting fr-core-news-sm==3.4.0\n",
            "  Downloading https://github.com/explosion/spacy-models/releases/download/fr_core_news_sm-3.4.0/fr_core_news_sm-3.4.0-py3-none-any.whl (16.3 MB)\n",
            "\u001b[K     |████████████████████████████████| 16.3 MB 1.6 MB/s \n",
            "\u001b[?25hRequirement already satisfied: spacy<3.5.0,>=3.4.0 in /usr/local/lib/python3.8/dist-packages (from fr-core-news-sm==3.4.0) (3.4.4)\n",
            "Requirement already satisfied: packaging>=20.0 in /usr/local/lib/python3.8/dist-packages (from spacy<3.5.0,>=3.4.0->fr-core-news-sm==3.4.0) (21.3)\n",
            "Requirement already satisfied: tqdm<5.0.0,>=4.38.0 in /usr/local/lib/python3.8/dist-packages (from spacy<3.5.0,>=3.4.0->fr-core-news-sm==3.4.0) (4.64.1)\n",
            "Requirement already satisfied: langcodes<4.0.0,>=3.2.0 in /usr/local/lib/python3.8/dist-packages (from spacy<3.5.0,>=3.4.0->fr-core-news-sm==3.4.0) (3.3.0)\n",
            "Requirement already satisfied: spacy-loggers<2.0.0,>=1.0.0 in /usr/local/lib/python3.8/dist-packages (from spacy<3.5.0,>=3.4.0->fr-core-news-sm==3.4.0) (1.0.4)\n",
            "Requirement already satisfied: pathy>=0.3.5 in /usr/local/lib/python3.8/dist-packages (from spacy<3.5.0,>=3.4.0->fr-core-news-sm==3.4.0) (0.10.1)\n",
            "Requirement already satisfied: murmurhash<1.1.0,>=0.28.0 in /usr/local/lib/python3.8/dist-packages (from spacy<3.5.0,>=3.4.0->fr-core-news-sm==3.4.0) (1.0.9)\n",
            "Requirement already satisfied: thinc<8.2.0,>=8.1.0 in /usr/local/lib/python3.8/dist-packages (from spacy<3.5.0,>=3.4.0->fr-core-news-sm==3.4.0) (8.1.5)\n",
            "Requirement already satisfied: srsly<3.0.0,>=2.4.3 in /usr/local/lib/python3.8/dist-packages (from spacy<3.5.0,>=3.4.0->fr-core-news-sm==3.4.0) (2.4.5)\n",
            "Requirement already satisfied: requests<3.0.0,>=2.13.0 in /usr/local/lib/python3.8/dist-packages (from spacy<3.5.0,>=3.4.0->fr-core-news-sm==3.4.0) (2.23.0)\n",
            "Requirement already satisfied: pydantic!=1.8,!=1.8.1,<1.11.0,>=1.7.4 in /usr/local/lib/python3.8/dist-packages (from spacy<3.5.0,>=3.4.0->fr-core-news-sm==3.4.0) (1.10.2)\n",
            "Requirement already satisfied: numpy>=1.15.0 in /usr/local/lib/python3.8/dist-packages (from spacy<3.5.0,>=3.4.0->fr-core-news-sm==3.4.0) (1.21.6)\n",
            "Requirement already satisfied: wasabi<1.1.0,>=0.9.1 in /usr/local/lib/python3.8/dist-packages (from spacy<3.5.0,>=3.4.0->fr-core-news-sm==3.4.0) (0.10.1)\n",
            "Requirement already satisfied: catalogue<2.1.0,>=2.0.6 in /usr/local/lib/python3.8/dist-packages (from spacy<3.5.0,>=3.4.0->fr-core-news-sm==3.4.0) (2.0.8)\n",
            "Requirement already satisfied: jinja2 in /usr/local/lib/python3.8/dist-packages (from spacy<3.5.0,>=3.4.0->fr-core-news-sm==3.4.0) (2.11.3)\n",
            "Requirement already satisfied: cymem<2.1.0,>=2.0.2 in /usr/local/lib/python3.8/dist-packages (from spacy<3.5.0,>=3.4.0->fr-core-news-sm==3.4.0) (2.0.7)\n",
            "Requirement already satisfied: setuptools in /usr/local/lib/python3.8/dist-packages (from spacy<3.5.0,>=3.4.0->fr-core-news-sm==3.4.0) (57.4.0)\n",
            "Requirement already satisfied: spacy-legacy<3.1.0,>=3.0.10 in /usr/local/lib/python3.8/dist-packages (from spacy<3.5.0,>=3.4.0->fr-core-news-sm==3.4.0) (3.0.10)\n",
            "Requirement already satisfied: preshed<3.1.0,>=3.0.2 in /usr/local/lib/python3.8/dist-packages (from spacy<3.5.0,>=3.4.0->fr-core-news-sm==3.4.0) (3.0.8)\n",
            "Requirement already satisfied: smart-open<7.0.0,>=5.2.1 in /usr/local/lib/python3.8/dist-packages (from spacy<3.5.0,>=3.4.0->fr-core-news-sm==3.4.0) (6.3.0)\n",
            "Requirement already satisfied: typer<0.8.0,>=0.3.0 in /usr/local/lib/python3.8/dist-packages (from spacy<3.5.0,>=3.4.0->fr-core-news-sm==3.4.0) (0.7.0)\n",
            "Requirement already satisfied: pyparsing!=3.0.5,>=2.0.2 in /usr/local/lib/python3.8/dist-packages (from packaging>=20.0->spacy<3.5.0,>=3.4.0->fr-core-news-sm==3.4.0) (3.0.9)\n",
            "Requirement already satisfied: typing-extensions>=4.1.0 in /usr/local/lib/python3.8/dist-packages (from pydantic!=1.8,!=1.8.1,<1.11.0,>=1.7.4->spacy<3.5.0,>=3.4.0->fr-core-news-sm==3.4.0) (4.4.0)\n",
            "Requirement already satisfied: urllib3!=1.25.0,!=1.25.1,<1.26,>=1.21.1 in /usr/local/lib/python3.8/dist-packages (from requests<3.0.0,>=2.13.0->spacy<3.5.0,>=3.4.0->fr-core-news-sm==3.4.0) (1.24.3)\n",
            "Requirement already satisfied: idna<3,>=2.5 in /usr/local/lib/python3.8/dist-packages (from requests<3.0.0,>=2.13.0->spacy<3.5.0,>=3.4.0->fr-core-news-sm==3.4.0) (2.10)\n",
            "Requirement already satisfied: chardet<4,>=3.0.2 in /usr/local/lib/python3.8/dist-packages (from requests<3.0.0,>=2.13.0->spacy<3.5.0,>=3.4.0->fr-core-news-sm==3.4.0) (3.0.4)\n",
            "Requirement already satisfied: certifi>=2017.4.17 in /usr/local/lib/python3.8/dist-packages (from requests<3.0.0,>=2.13.0->spacy<3.5.0,>=3.4.0->fr-core-news-sm==3.4.0) (2022.12.7)\n",
            "Requirement already satisfied: confection<1.0.0,>=0.0.1 in /usr/local/lib/python3.8/dist-packages (from thinc<8.2.0,>=8.1.0->spacy<3.5.0,>=3.4.0->fr-core-news-sm==3.4.0) (0.0.3)\n",
            "Requirement already satisfied: blis<0.8.0,>=0.7.8 in /usr/local/lib/python3.8/dist-packages (from thinc<8.2.0,>=8.1.0->spacy<3.5.0,>=3.4.0->fr-core-news-sm==3.4.0) (0.7.9)\n",
            "Requirement already satisfied: click<9.0.0,>=7.1.1 in /usr/local/lib/python3.8/dist-packages (from typer<0.8.0,>=0.3.0->spacy<3.5.0,>=3.4.0->fr-core-news-sm==3.4.0) (7.1.2)\n",
            "Requirement already satisfied: MarkupSafe>=0.23 in /usr/local/lib/python3.8/dist-packages (from jinja2->spacy<3.5.0,>=3.4.0->fr-core-news-sm==3.4.0) (2.0.1)\n",
            "\u001b[38;5;2m✔ Download and installation successful\u001b[0m\n",
            "You can now load the package via spacy.load('fr_core_news_sm')\n"
          ]
        }
      ]
    },
    {
      "cell_type": "markdown",
      "source": [
        "###Setting up of the environment & getting the csv"
      ],
      "metadata": {
        "id": "SaJyDpDGDOSH"
      }
    },
    {
      "cell_type": "code",
      "source": [
        "# reading in the data via the Kaggle API & mount your Google Drive\n",
        "from google.colab import drive\n",
        "drive.mount('/content/drive', force_remount=True)\n",
        "# install Kaggle\n",
        "! pip install kaggle\n",
        "!mkdir ~/.kaggle\n",
        "#read in your Kaggle credentials from Google Drive\n",
        "!cp /content/drive/MyDrive/kaggle.json ~/.kaggle/kaggle.json\n",
        "\n",
        "# download the dataset from the competition page\n",
        "! kaggle competitions download -c detecting-french-texts-difficulty-level-2022\n",
        "!unzip detecting-french-texts-difficulty-level-2022.zip\n"
      ],
      "metadata": {
        "id": "fCG4QYErC75x",
        "colab": {
          "base_uri": "https://localhost:8080/"
        },
        "outputId": "5fb174b8-2fcb-436b-d35b-27fd18f59da0"
      },
      "execution_count": null,
      "outputs": [
        {
          "output_type": "stream",
          "name": "stdout",
          "text": [
            "Mounted at /content/drive\n",
            "Looking in indexes: https://pypi.org/simple, https://us-python.pkg.dev/colab-wheels/public/simple/\n",
            "Requirement already satisfied: kaggle in /usr/local/lib/python3.8/dist-packages (1.5.12)\n",
            "Requirement already satisfied: six>=1.10 in /usr/local/lib/python3.8/dist-packages (from kaggle) (1.15.0)\n",
            "Requirement already satisfied: python-slugify in /usr/local/lib/python3.8/dist-packages (from kaggle) (7.0.0)\n",
            "Requirement already satisfied: tqdm in /usr/local/lib/python3.8/dist-packages (from kaggle) (4.64.1)\n",
            "Requirement already satisfied: certifi in /usr/local/lib/python3.8/dist-packages (from kaggle) (2022.12.7)\n",
            "Requirement already satisfied: python-dateutil in /usr/local/lib/python3.8/dist-packages (from kaggle) (2.8.2)\n",
            "Requirement already satisfied: requests in /usr/local/lib/python3.8/dist-packages (from kaggle) (2.23.0)\n",
            "Requirement already satisfied: urllib3 in /usr/local/lib/python3.8/dist-packages (from kaggle) (1.24.3)\n",
            "Requirement already satisfied: text-unidecode>=1.3 in /usr/local/lib/python3.8/dist-packages (from python-slugify->kaggle) (1.3)\n",
            "Requirement already satisfied: idna<3,>=2.5 in /usr/local/lib/python3.8/dist-packages (from requests->kaggle) (2.10)\n",
            "Requirement already satisfied: chardet<4,>=3.0.2 in /usr/local/lib/python3.8/dist-packages (from requests->kaggle) (3.0.4)\n",
            "mkdir: cannot create directory ‘/root/.kaggle’: File exists\n",
            "detecting-french-texts-difficulty-level-2022.zip: Skipping, found more recently modified local copy (use --force to force download)\n",
            "Archive:  detecting-french-texts-difficulty-level-2022.zip\n",
            "replace sample_submission.csv? [y]es, [n]o, [A]ll, [N]one, [r]ename: y\n",
            "  inflating: sample_submission.csv   \n",
            "replace training_data.csv? [y]es, [n]o, [A]ll, [N]one, [r]ename: y\n",
            "  inflating: training_data.csv       \n",
            "replace unlabelled_test_data.csv? [y]es, [n]o, [A]ll, [N]one, [r]ename: y\n",
            "  inflating: unlabelled_test_data.csv  \n"
          ]
        }
      ]
    },
    {
      "cell_type": "markdown",
      "source": [
        "###Loading the data"
      ],
      "metadata": {
        "id": "IekpHyvqEc2I"
      }
    },
    {
      "cell_type": "code",
      "source": [
        "df = df_train = pd.read_csv(\"training_data.csv\")\n",
        "df_unlabeled = df_test = pd.read_csv('/content/unlabelled_test_data.csv')"
      ],
      "metadata": {
        "id": "RDqc9k4dEcb7"
      },
      "execution_count": null,
      "outputs": []
    },
    {
      "cell_type": "markdown",
      "source": [
        "###Data tables"
      ],
      "metadata": {
        "id": "rSSUB_4yFULp"
      }
    },
    {
      "cell_type": "code",
      "source": [
        "df.head()"
      ],
      "metadata": {
        "id": "6D4GYCATFTYK",
        "colab": {
          "base_uri": "https://localhost:8080/",
          "height": 206
        },
        "outputId": "1311dd73-7b7f-4353-e4a4-8a2d4add8a93"
      },
      "execution_count": null,
      "outputs": [
        {
          "output_type": "execute_result",
          "data": {
            "text/plain": [
              "   id                                           sentence difficulty\n",
              "0   0  Les coûts kilométriques réels peuvent diverger...         C1\n",
              "1   1  Le bleu, c'est ma couleur préférée mais je n'a...         A1\n",
              "2   2  Le test de niveau en français est sur le site ...         A1\n",
              "3   3           Est-ce que ton mari est aussi de Boston?         A1\n",
              "4   4  Dans les écoles de commerce, dans les couloirs...         B1"
            ],
            "text/html": [
              "\n",
              "  <div id=\"df-495d0b8f-27b7-436c-aab9-2a6a93939141\">\n",
              "    <div class=\"colab-df-container\">\n",
              "      <div>\n",
              "<style scoped>\n",
              "    .dataframe tbody tr th:only-of-type {\n",
              "        vertical-align: middle;\n",
              "    }\n",
              "\n",
              "    .dataframe tbody tr th {\n",
              "        vertical-align: top;\n",
              "    }\n",
              "\n",
              "    .dataframe thead th {\n",
              "        text-align: right;\n",
              "    }\n",
              "</style>\n",
              "<table border=\"1\" class=\"dataframe\">\n",
              "  <thead>\n",
              "    <tr style=\"text-align: right;\">\n",
              "      <th></th>\n",
              "      <th>id</th>\n",
              "      <th>sentence</th>\n",
              "      <th>difficulty</th>\n",
              "    </tr>\n",
              "  </thead>\n",
              "  <tbody>\n",
              "    <tr>\n",
              "      <th>0</th>\n",
              "      <td>0</td>\n",
              "      <td>Les coûts kilométriques réels peuvent diverger...</td>\n",
              "      <td>C1</td>\n",
              "    </tr>\n",
              "    <tr>\n",
              "      <th>1</th>\n",
              "      <td>1</td>\n",
              "      <td>Le bleu, c'est ma couleur préférée mais je n'a...</td>\n",
              "      <td>A1</td>\n",
              "    </tr>\n",
              "    <tr>\n",
              "      <th>2</th>\n",
              "      <td>2</td>\n",
              "      <td>Le test de niveau en français est sur le site ...</td>\n",
              "      <td>A1</td>\n",
              "    </tr>\n",
              "    <tr>\n",
              "      <th>3</th>\n",
              "      <td>3</td>\n",
              "      <td>Est-ce que ton mari est aussi de Boston?</td>\n",
              "      <td>A1</td>\n",
              "    </tr>\n",
              "    <tr>\n",
              "      <th>4</th>\n",
              "      <td>4</td>\n",
              "      <td>Dans les écoles de commerce, dans les couloirs...</td>\n",
              "      <td>B1</td>\n",
              "    </tr>\n",
              "  </tbody>\n",
              "</table>\n",
              "</div>\n",
              "      <button class=\"colab-df-convert\" onclick=\"convertToInteractive('df-495d0b8f-27b7-436c-aab9-2a6a93939141')\"\n",
              "              title=\"Convert this dataframe to an interactive table.\"\n",
              "              style=\"display:none;\">\n",
              "        \n",
              "  <svg xmlns=\"http://www.w3.org/2000/svg\" height=\"24px\"viewBox=\"0 0 24 24\"\n",
              "       width=\"24px\">\n",
              "    <path d=\"M0 0h24v24H0V0z\" fill=\"none\"/>\n",
              "    <path d=\"M18.56 5.44l.94 2.06.94-2.06 2.06-.94-2.06-.94-.94-2.06-.94 2.06-2.06.94zm-11 1L8.5 8.5l.94-2.06 2.06-.94-2.06-.94L8.5 2.5l-.94 2.06-2.06.94zm10 10l.94 2.06.94-2.06 2.06-.94-2.06-.94-.94-2.06-.94 2.06-2.06.94z\"/><path d=\"M17.41 7.96l-1.37-1.37c-.4-.4-.92-.59-1.43-.59-.52 0-1.04.2-1.43.59L10.3 9.45l-7.72 7.72c-.78.78-.78 2.05 0 2.83L4 21.41c.39.39.9.59 1.41.59.51 0 1.02-.2 1.41-.59l7.78-7.78 2.81-2.81c.8-.78.8-2.07 0-2.86zM5.41 20L4 18.59l7.72-7.72 1.47 1.35L5.41 20z\"/>\n",
              "  </svg>\n",
              "      </button>\n",
              "      \n",
              "  <style>\n",
              "    .colab-df-container {\n",
              "      display:flex;\n",
              "      flex-wrap:wrap;\n",
              "      gap: 12px;\n",
              "    }\n",
              "\n",
              "    .colab-df-convert {\n",
              "      background-color: #E8F0FE;\n",
              "      border: none;\n",
              "      border-radius: 50%;\n",
              "      cursor: pointer;\n",
              "      display: none;\n",
              "      fill: #1967D2;\n",
              "      height: 32px;\n",
              "      padding: 0 0 0 0;\n",
              "      width: 32px;\n",
              "    }\n",
              "\n",
              "    .colab-df-convert:hover {\n",
              "      background-color: #E2EBFA;\n",
              "      box-shadow: 0px 1px 2px rgba(60, 64, 67, 0.3), 0px 1px 3px 1px rgba(60, 64, 67, 0.15);\n",
              "      fill: #174EA6;\n",
              "    }\n",
              "\n",
              "    [theme=dark] .colab-df-convert {\n",
              "      background-color: #3B4455;\n",
              "      fill: #D2E3FC;\n",
              "    }\n",
              "\n",
              "    [theme=dark] .colab-df-convert:hover {\n",
              "      background-color: #434B5C;\n",
              "      box-shadow: 0px 1px 3px 1px rgba(0, 0, 0, 0.15);\n",
              "      filter: drop-shadow(0px 1px 2px rgba(0, 0, 0, 0.3));\n",
              "      fill: #FFFFFF;\n",
              "    }\n",
              "  </style>\n",
              "\n",
              "      <script>\n",
              "        const buttonEl =\n",
              "          document.querySelector('#df-495d0b8f-27b7-436c-aab9-2a6a93939141 button.colab-df-convert');\n",
              "        buttonEl.style.display =\n",
              "          google.colab.kernel.accessAllowed ? 'block' : 'none';\n",
              "\n",
              "        async function convertToInteractive(key) {\n",
              "          const element = document.querySelector('#df-495d0b8f-27b7-436c-aab9-2a6a93939141');\n",
              "          const dataTable =\n",
              "            await google.colab.kernel.invokeFunction('convertToInteractive',\n",
              "                                                     [key], {});\n",
              "          if (!dataTable) return;\n",
              "\n",
              "          const docLinkHtml = 'Like what you see? Visit the ' +\n",
              "            '<a target=\"_blank\" href=https://colab.research.google.com/notebooks/data_table.ipynb>data table notebook</a>'\n",
              "            + ' to learn more about interactive tables.';\n",
              "          element.innerHTML = '';\n",
              "          dataTable['output_type'] = 'display_data';\n",
              "          await google.colab.output.renderOutput(dataTable, element);\n",
              "          const docLink = document.createElement('div');\n",
              "          docLink.innerHTML = docLinkHtml;\n",
              "          element.appendChild(docLink);\n",
              "        }\n",
              "      </script>\n",
              "    </div>\n",
              "  </div>\n",
              "  "
            ]
          },
          "metadata": {},
          "execution_count": 59
        }
      ]
    },
    {
      "cell_type": "code",
      "source": [
        "df_unlabeled.head()"
      ],
      "metadata": {
        "id": "XmbFEObqHfV2",
        "colab": {
          "base_uri": "https://localhost:8080/",
          "height": 206
        },
        "outputId": "1455ab14-1cbf-4568-ed76-61eba3272b52"
      },
      "execution_count": null,
      "outputs": [
        {
          "output_type": "execute_result",
          "data": {
            "text/plain": [
              "   id                                           sentence\n",
              "0   0  Nous dûmes nous excuser des propos que nous eû...\n",
              "1   1  Vous ne pouvez pas savoir le plaisir que j'ai ...\n",
              "2   2  Et, paradoxalement, boire froid n'est pas la b...\n",
              "3   3  Ce n'est pas étonnant, car c'est une saison my...\n",
              "4   4  Le corps de Golo lui-même, d'une essence aussi..."
            ],
            "text/html": [
              "\n",
              "  <div id=\"df-8f74c5f7-5552-4030-bcfb-e3973eab6e8b\">\n",
              "    <div class=\"colab-df-container\">\n",
              "      <div>\n",
              "<style scoped>\n",
              "    .dataframe tbody tr th:only-of-type {\n",
              "        vertical-align: middle;\n",
              "    }\n",
              "\n",
              "    .dataframe tbody tr th {\n",
              "        vertical-align: top;\n",
              "    }\n",
              "\n",
              "    .dataframe thead th {\n",
              "        text-align: right;\n",
              "    }\n",
              "</style>\n",
              "<table border=\"1\" class=\"dataframe\">\n",
              "  <thead>\n",
              "    <tr style=\"text-align: right;\">\n",
              "      <th></th>\n",
              "      <th>id</th>\n",
              "      <th>sentence</th>\n",
              "    </tr>\n",
              "  </thead>\n",
              "  <tbody>\n",
              "    <tr>\n",
              "      <th>0</th>\n",
              "      <td>0</td>\n",
              "      <td>Nous dûmes nous excuser des propos que nous eû...</td>\n",
              "    </tr>\n",
              "    <tr>\n",
              "      <th>1</th>\n",
              "      <td>1</td>\n",
              "      <td>Vous ne pouvez pas savoir le plaisir que j'ai ...</td>\n",
              "    </tr>\n",
              "    <tr>\n",
              "      <th>2</th>\n",
              "      <td>2</td>\n",
              "      <td>Et, paradoxalement, boire froid n'est pas la b...</td>\n",
              "    </tr>\n",
              "    <tr>\n",
              "      <th>3</th>\n",
              "      <td>3</td>\n",
              "      <td>Ce n'est pas étonnant, car c'est une saison my...</td>\n",
              "    </tr>\n",
              "    <tr>\n",
              "      <th>4</th>\n",
              "      <td>4</td>\n",
              "      <td>Le corps de Golo lui-même, d'une essence aussi...</td>\n",
              "    </tr>\n",
              "  </tbody>\n",
              "</table>\n",
              "</div>\n",
              "      <button class=\"colab-df-convert\" onclick=\"convertToInteractive('df-8f74c5f7-5552-4030-bcfb-e3973eab6e8b')\"\n",
              "              title=\"Convert this dataframe to an interactive table.\"\n",
              "              style=\"display:none;\">\n",
              "        \n",
              "  <svg xmlns=\"http://www.w3.org/2000/svg\" height=\"24px\"viewBox=\"0 0 24 24\"\n",
              "       width=\"24px\">\n",
              "    <path d=\"M0 0h24v24H0V0z\" fill=\"none\"/>\n",
              "    <path d=\"M18.56 5.44l.94 2.06.94-2.06 2.06-.94-2.06-.94-.94-2.06-.94 2.06-2.06.94zm-11 1L8.5 8.5l.94-2.06 2.06-.94-2.06-.94L8.5 2.5l-.94 2.06-2.06.94zm10 10l.94 2.06.94-2.06 2.06-.94-2.06-.94-.94-2.06-.94 2.06-2.06.94z\"/><path d=\"M17.41 7.96l-1.37-1.37c-.4-.4-.92-.59-1.43-.59-.52 0-1.04.2-1.43.59L10.3 9.45l-7.72 7.72c-.78.78-.78 2.05 0 2.83L4 21.41c.39.39.9.59 1.41.59.51 0 1.02-.2 1.41-.59l7.78-7.78 2.81-2.81c.8-.78.8-2.07 0-2.86zM5.41 20L4 18.59l7.72-7.72 1.47 1.35L5.41 20z\"/>\n",
              "  </svg>\n",
              "      </button>\n",
              "      \n",
              "  <style>\n",
              "    .colab-df-container {\n",
              "      display:flex;\n",
              "      flex-wrap:wrap;\n",
              "      gap: 12px;\n",
              "    }\n",
              "\n",
              "    .colab-df-convert {\n",
              "      background-color: #E8F0FE;\n",
              "      border: none;\n",
              "      border-radius: 50%;\n",
              "      cursor: pointer;\n",
              "      display: none;\n",
              "      fill: #1967D2;\n",
              "      height: 32px;\n",
              "      padding: 0 0 0 0;\n",
              "      width: 32px;\n",
              "    }\n",
              "\n",
              "    .colab-df-convert:hover {\n",
              "      background-color: #E2EBFA;\n",
              "      box-shadow: 0px 1px 2px rgba(60, 64, 67, 0.3), 0px 1px 3px 1px rgba(60, 64, 67, 0.15);\n",
              "      fill: #174EA6;\n",
              "    }\n",
              "\n",
              "    [theme=dark] .colab-df-convert {\n",
              "      background-color: #3B4455;\n",
              "      fill: #D2E3FC;\n",
              "    }\n",
              "\n",
              "    [theme=dark] .colab-df-convert:hover {\n",
              "      background-color: #434B5C;\n",
              "      box-shadow: 0px 1px 3px 1px rgba(0, 0, 0, 0.15);\n",
              "      filter: drop-shadow(0px 1px 2px rgba(0, 0, 0, 0.3));\n",
              "      fill: #FFFFFF;\n",
              "    }\n",
              "  </style>\n",
              "\n",
              "      <script>\n",
              "        const buttonEl =\n",
              "          document.querySelector('#df-8f74c5f7-5552-4030-bcfb-e3973eab6e8b button.colab-df-convert');\n",
              "        buttonEl.style.display =\n",
              "          google.colab.kernel.accessAllowed ? 'block' : 'none';\n",
              "\n",
              "        async function convertToInteractive(key) {\n",
              "          const element = document.querySelector('#df-8f74c5f7-5552-4030-bcfb-e3973eab6e8b');\n",
              "          const dataTable =\n",
              "            await google.colab.kernel.invokeFunction('convertToInteractive',\n",
              "                                                     [key], {});\n",
              "          if (!dataTable) return;\n",
              "\n",
              "          const docLinkHtml = 'Like what you see? Visit the ' +\n",
              "            '<a target=\"_blank\" href=https://colab.research.google.com/notebooks/data_table.ipynb>data table notebook</a>'\n",
              "            + ' to learn more about interactive tables.';\n",
              "          element.innerHTML = '';\n",
              "          dataTable['output_type'] = 'display_data';\n",
              "          await google.colab.output.renderOutput(dataTable, element);\n",
              "          const docLink = document.createElement('div');\n",
              "          docLink.innerHTML = docLinkHtml;\n",
              "          element.appendChild(docLink);\n",
              "        }\n",
              "      </script>\n",
              "    </div>\n",
              "  </div>\n",
              "  "
            ]
          },
          "metadata": {},
          "execution_count": 60
        }
      ]
    },
    {
      "cell_type": "markdown",
      "source": [
        "###Baseline"
      ],
      "metadata": {
        "id": "ldcy7ElvVSR1"
      }
    },
    {
      "cell_type": "code",
      "source": [
        "# Base line calculation\n",
        "difficulty_A1_count = df.loc[df[\"difficulty\"] == \"A1\"].shape[0]\n",
        "difficulty_A2_count = df.loc[df[\"difficulty\"] == \"A2\"].shape[0]\n",
        "difficulty_B1_count = df.loc[df[\"difficulty\"] == \"B1\"].shape[0]\n",
        "difficulty_B2_count = df.loc[df[\"difficulty\"] == \"B2\"].shape[0]\n",
        "difficulty_C1_count = df.loc[df[\"difficulty\"] == \"C1\"].shape[0]\n",
        "difficulty_C2_count = df.loc[df[\"difficulty\"] == \"C2\"].shape[0]\n",
        "baserate = max(difficulty_A1_count, difficulty_A2_count,difficulty_B1_count,difficulty_B2_count,difficulty_C1_count,difficulty_C2_count)/(df[\"difficulty\"].shape[0])\n",
        "print(\"Baserate = \", baserate)"
      ],
      "metadata": {
        "id": "6O0Re0l3VY98",
        "colab": {
          "base_uri": "https://localhost:8080/"
        },
        "outputId": "949fc092-ff0f-4cf9-cb5e-2b89ccbab23e"
      },
      "execution_count": null,
      "outputs": [
        {
          "output_type": "stream",
          "name": "stdout",
          "text": [
            "Baserate =  0.169375\n"
          ]
        }
      ]
    },
    {
      "cell_type": "markdown",
      "source": [
        "##B) Tokenizer & vectorizer"
      ],
      "metadata": {
        "id": "KzN8xnVIH7_x"
      }
    },
    {
      "cell_type": "markdown",
      "source": [
        "We decided to use TFIDF vectorizer to weight more the rare words. To our opinion, rare words can be revelevant to detect complexity."
      ],
      "metadata": {
        "id": "F7PHd5DFITZr"
      }
    },
    {
      "cell_type": "code",
      "source": [
        "# Create tokenizer function\n",
        "sp_sm = spacy.load('fr_core_news_sm')\n",
        "\n",
        "def spacy_tokenizer_sm(df):\n",
        "    # Create token object, which is used to create documents with linguistic annotations.\n",
        "    mytokens = sp_sm(df)\n",
        "\n",
        "    # Lemmatize each token and convert each token into lowercase\n",
        "    mytokens = [ word.lemma_.lower().strip() for word in mytokens ]\n",
        "    \n",
        "    # Remove stop words and punctuation\n",
        "    # mytokens = [ word for word in mytokens]\n",
        "\n",
        "    # Return preprocessed list of tokens\n",
        "    return mytokens\n",
        "\n",
        "\n",
        "print(spacy_tokenizer_sm(df.loc[2, 'sentence']))"
      ],
      "metadata": {
        "id": "ir8PrD8SJzKs",
        "colab": {
          "base_uri": "https://localhost:8080/"
        },
        "outputId": "c11abbee-61a5-4e03-fe82-61ba53dd19da"
      },
      "execution_count": null,
      "outputs": [
        {
          "output_type": "stream",
          "name": "stdout",
          "text": [
            "['le', 'test', 'de', 'niveau', 'en', 'français', 'être', 'sur', 'le', 'site', 'internet', 'de', 'le', 'école', '.']\n"
          ]
        }
      ]
    },
    {
      "cell_type": "code",
      "source": [
        "tfidf_vector_spacy = TfidfVectorizer(tokenizer=spacy_tokenizer_sm)"
      ],
      "metadata": {
        "id": "12cH9sYcJ3K6"
      },
      "execution_count": null,
      "outputs": []
    },
    {
      "cell_type": "code",
      "source": [
        "# Define cleaning function\n",
        "def nltk_tokenizer(doc):\n",
        "\n",
        "    # Tokenize\n",
        "    doc = word_tokenize(doc)\n",
        "\n",
        "    # Remove uppercase and white spaces\n",
        "    doc = [word.lower().strip() for word in doc]\n",
        "    \n",
        "    return doc\n",
        "\n",
        "\n",
        "print(nltk_tokenizer(df.loc[2, 'sentence']))"
      ],
      "metadata": {
        "id": "iMQvcWayIMxT",
        "colab": {
          "base_uri": "https://localhost:8080/"
        },
        "outputId": "ba63a1ee-4868-4db2-9225-2ac6190459eb"
      },
      "execution_count": null,
      "outputs": [
        {
          "output_type": "stream",
          "name": "stdout",
          "text": [
            "['le', 'test', 'de', 'niveau', 'en', 'français', 'est', 'sur', 'le', 'site', 'internet', 'de', \"l'école\", '.']\n"
          ]
        }
      ]
    },
    {
      "cell_type": "code",
      "source": [
        "tfidf_vector_nltk = TfidfVectorizer(tokenizer=nltk_tokenizer)"
      ],
      "metadata": {
        "id": "xWk5rsZsInvu"
      },
      "execution_count": null,
      "outputs": []
    },
    {
      "cell_type": "markdown",
      "source": [
        "## C) Classification models using two different natural language tools (SPACY & NLTK)"
      ],
      "metadata": {
        "id": "eFMo5IenItmy"
      }
    },
    {
      "cell_type": "code",
      "source": [
        "X = df[\"sentence\"] # the features we want to analyze\n",
        "y = df[\"difficulty\"] # the labels we want to test against\n",
        "\n",
        "# Train test split\n",
        "X_train, X_test, y_train, y_test = train_test_split(X, y, test_size=0.20, random_state=0)\n",
        "\n",
        "X_train"
      ],
      "metadata": {
        "id": "4U44StrZJjUG",
        "colab": {
          "base_uri": "https://localhost:8080/"
        },
        "outputId": "fdb3bf43-8811-458b-c6c3-190647e5724f"
      },
      "execution_count": null,
      "outputs": [
        {
          "output_type": "execute_result",
          "data": {
            "text/plain": [
              "2875    Forts des expériences, parfois malheureuses, d...\n",
              "4348    L'idée était de stimuler chez les élèves l'esp...\n",
              "882     Attention, vous devez certifier conformes la v...\n",
              "1505    Coucou mes amis, je réunis tous ceux que j'aim...\n",
              "3370    C'est la couleur de nombreux fruits et légumes...\n",
              "                              ...                        \n",
              "1033    Les micro-changements apportés par ce type d'u...\n",
              "3264    J'allais à la poste quand j'ai croisé ma cousi...\n",
              "1653    Au cours des années 1970 et 1980, plusieurs gr...\n",
              "2607    Stop : tout d'abord, figurez-vous que les vrai...\n",
              "2732    \"On s'est alors dit que le terrain commençait ...\n",
              "Name: sentence, Length: 4752, dtype: object"
            ]
          },
          "metadata": {},
          "execution_count": 66
        }
      ]
    },
    {
      "cell_type": "markdown",
      "source": [
        "###Logistic Regression"
      ],
      "metadata": {
        "id": "emUVPfdlU_SE"
      }
    },
    {
      "cell_type": "markdown",
      "source": [
        "####With Spacy"
      ],
      "metadata": {
        "id": "pueSQ8rlYosB"
      }
    },
    {
      "cell_type": "code",
      "source": [
        "# Define classifier\n",
        "LR_spacy_model= LogisticRegression(solver = \"lbfgs\", multi_class = 'multinomial')\n",
        "\n",
        "# Create pipeline\n",
        "## The purpose of the pipeline is to assemble several steps that can be cross-validated together while setting different parameters.\n",
        "LR_spacy_pipe = Pipeline([('vectorizer', tfidf_vector_spacy), ('classifier', LR_spacy_model)])\n",
        "\n",
        "# Fit model on training set\n",
        "LR_spacy_pipe.fit(X_train, y_train)\n",
        "\n",
        "LR_spacy_pred = LR_spacy_pipe.predict(X_test)\n",
        "\n",
        "LR_spacy_report = evaluate(y_test, LR_spacy_pred)\n",
        "\n",
        "# Storing the model performance results in a DF called reports\n",
        "reports['Logistic Regression Spacy'] = LR_spacy_report\n",
        "\n",
        "LR_spacy_report"
      ],
      "metadata": {
        "id": "-cjyBc0nVLLQ",
        "colab": {
          "base_uri": "https://localhost:8080/"
        },
        "outputId": "c1d7a108-9557-4a3b-d532-a0d2412995db"
      },
      "execution_count": null,
      "outputs": [
        {
          "output_type": "stream",
          "name": "stderr",
          "text": [
            "/usr/local/lib/python3.8/dist-packages/sklearn/linear_model/_logistic.py:814: ConvergenceWarning: lbfgs failed to converge (status=1):\n",
            "STOP: TOTAL NO. of ITERATIONS REACHED LIMIT.\n",
            "\n",
            "Increase the number of iterations (max_iter) or scale the data as shown in:\n",
            "    https://scikit-learn.org/stable/modules/preprocessing.html\n",
            "Please also refer to the documentation for alternative solver options:\n",
            "    https://scikit-learn.org/stable/modules/linear_model.html#logistic-regression\n",
            "  n_iter_i = _check_optimize_result(\n"
          ]
        },
        {
          "output_type": "execute_result",
          "data": {
            "text/plain": [
              "{'accuracy': 0.4375,\n",
              " 'recall': 0.46064814814814814,\n",
              " 'precision': 0.4343434343434343,\n",
              " 'f1_score': 0.42726915327534526}"
            ]
          },
          "metadata": {},
          "execution_count": 67
        }
      ]
    },
    {
      "cell_type": "code",
      "source": [
        "plot_confusion_matrix(y_test, LR_spacy_pred, LR_spacy_pipe)"
      ],
      "metadata": {
        "id": "TEOdVofCa9qn",
        "colab": {
          "base_uri": "https://localhost:8080/",
          "height": 54
        },
        "outputId": "2d502777-f81f-45ad-c784-242f711218bf"
      },
      "execution_count": null,
      "outputs": [
        {
          "output_type": "display_data",
          "data": {
            "text/plain": [
              "<Figure size 432x288 with 2 Axes>"
            ],
            "image/png": "[encoded data removed]"
          },
          "metadata": {
            "needs_background": "light"
          }
        }
      ]
    },
    {
      "cell_type": "markdown",
      "source": [
        "Example of type of errors"
      ],
      "metadata": {
        "id": "DVxcCb4absax"
      }
    },
    {
      "cell_type": "code",
      "source": [
        "badly_predicted = pd.DataFrame({'sentence':X_test[LR_spacy_pred != y_test],\n",
        "              'predicted':LR_spacy_pred[LR_spacy_pred != y_test],\n",
        "              'true':y_test[LR_spacy_pred != y_test]})\n",
        "\n",
        "\n",
        "for i, row in badly_predicted.sample(3).iterrows():\n",
        "    print(row.sentence)\n",
        "    print(f\"Predicted: {row.predicted}\")\n",
        "    print(f\"Actual: {row.true}\")"
      ],
      "metadata": {
        "id": "AHMXLg68bpmC",
        "colab": {
          "base_uri": "https://localhost:8080/"
        },
        "outputId": "81343441-8b89-4ef0-bf17-115bb0a3d362"
      },
      "execution_count": null,
      "outputs": [
        {
          "output_type": "stream",
          "name": "stdout",
          "text": [
            "La nuit vient de tomber sur Calcutta et la tempête entre en ville avec une puissance terrifiante\n",
            "Predicted: B1\n",
            "Actual: A2\n",
            "Que voulez-vous ?\n",
            "Predicted: A2\n",
            "Actual: B1\n",
            "Il trouve bizarre que l'artiste ait quitté le concert avant la fin samedi soir dernier.\n",
            "Predicted: A2\n",
            "Actual: B1\n"
          ]
        }
      ]
    },
    {
      "cell_type": "markdown",
      "source": [
        "####With NLTK"
      ],
      "metadata": {
        "id": "dQpT9TzUZ64X"
      }
    },
    {
      "cell_type": "markdown",
      "source": [
        "NLTK == Natural Language Toolkit"
      ],
      "metadata": {
        "id": "sk3luBHhaMg2"
      }
    },
    {
      "cell_type": "code",
      "source": [
        "# Define classifier\n",
        "LR_model_nltk = LogisticRegression(solver = \"lbfgs\", multi_class = 'multinomial')\n",
        "\n",
        "# Create pipeline\n",
        "## The purpose of the pipeline is to assemble several steps that can be cross-validated together while setting different parameters.\n",
        "LR_nltk_pipe = Pipeline([('vectorizer', tfidf_vector_nltk), ('classifier', LR_model_nltk)])\n",
        "\n",
        "# Fit model on training set\n",
        "LR_nltk_pipe.fit(X_train, y_train)\n",
        "\n",
        "LR_nltk_pred = LR_nltk_pipe.predict(X_test)\n",
        "\n",
        "LR_nltk_report = evaluate(y_test, LR_nltk_pred)\n",
        "\n",
        "# Storing the model performance results in a DF called reports\n",
        "reports['Logistic Regression NLTK'] = LR_nltk_report\n",
        "\n",
        "LR_nltk_report"
      ],
      "metadata": {
        "id": "OCDws7QdYmsm",
        "colab": {
          "base_uri": "https://localhost:8080/"
        },
        "outputId": "ce444142-bc21-440a-82d4-74033769f5d5"
      },
      "execution_count": null,
      "outputs": [
        {
          "output_type": "stream",
          "name": "stderr",
          "text": [
            "/usr/local/lib/python3.8/dist-packages/sklearn/linear_model/_logistic.py:814: ConvergenceWarning: lbfgs failed to converge (status=1):\n",
            "STOP: TOTAL NO. of ITERATIONS REACHED LIMIT.\n",
            "\n",
            "Increase the number of iterations (max_iter) or scale the data as shown in:\n",
            "    https://scikit-learn.org/stable/modules/preprocessing.html\n",
            "Please also refer to the documentation for alternative solver options:\n",
            "    https://scikit-learn.org/stable/modules/linear_model.html#logistic-regression\n",
            "  n_iter_i = _check_optimize_result(\n"
          ]
        },
        {
          "output_type": "execute_result",
          "data": {
            "text/plain": [
              "{'accuracy': 0.4375,\n",
              " 'recall': 0.449074074074074,\n",
              " 'precision': 0.4396825396825397,\n",
              " 'f1_score': 0.43258145363408523}"
            ]
          },
          "metadata": {},
          "execution_count": 70
        }
      ]
    },
    {
      "cell_type": "code",
      "source": [
        "plot_confusion_matrix(y_test, LR_nltk_pred, LR_nltk_pipe)"
      ],
      "metadata": {
        "id": "8wOpnKihbXLk",
        "colab": {
          "base_uri": "https://localhost:8080/",
          "height": 283
        },
        "outputId": "e9db6e92-8350-46eb-e96f-3370b86d35df"
      },
      "execution_count": null,
      "outputs": [
        {
          "output_type": "display_data",
          "data": {
            "text/plain": [
              "<Figure size 432x288 with 2 Axes>"
            ],
            "image/png": "[encoded data removed]"
          },
          "metadata": {
            "needs_background": "light"
          }
        }
      ]
    },
    {
      "cell_type": "markdown",
      "source": [
        "Example of type of errors"
      ],
      "metadata": {
        "id": "_ySFnfhncleK"
      }
    },
    {
      "cell_type": "code",
      "source": [
        "badly_predicted = pd.DataFrame({'sentence':X_test[LR_nltk_pred != y_test],\n",
        "              'predicted':LR_nltk_pred[LR_nltk_pred != y_test],\n",
        "              'true':y_test[LR_nltk_pred != y_test]})\n",
        "\n",
        "\n",
        "for i, row in badly_predicted.sample(3).iterrows():\n",
        "    print(row.sentence)\n",
        "    print(f\"Predicted: {row.predicted}\")\n",
        "    print(f\"Actual: {row.true}\")"
      ],
      "metadata": {
        "id": "Efzlwu0gcpH2",
        "colab": {
          "base_uri": "https://localhost:8080/"
        },
        "outputId": "b1d6a6f8-350e-4636-b962-4353895e80a2"
      },
      "execution_count": null,
      "outputs": [
        {
          "output_type": "stream",
          "name": "stdout",
          "text": [
            "Vous eussiez juré que les gens la voyaient, l'entendaient rouler pesamment devant eux, retentissante de tous les trésors enfermés dans ses flancs.\n",
            "Predicted: B2\n",
            "Actual: C1\n",
            "Le visage comprend une oreille de chaque côté, deux yeux surmontés par les sourcils et un nez au centre\n",
            "Predicted: C1\n",
            "Actual: B1\n",
            "C'est en décembre 1967, après bien des invectives au Parlement, que sa loi relative à la régulation des naissances, dite loi Neuwirth est votée : elle autorise la vente exclusive des contraceptifs en pharmacie sur ordonnance médicale, avec autorisation parentale pour les mineures\n",
            "Predicted: C2\n",
            "Actual: C1\n"
          ]
        }
      ]
    },
    {
      "cell_type": "markdown",
      "source": [
        "####Summary"
      ],
      "metadata": {
        "id": "CmhweShjdEqy"
      }
    },
    {
      "cell_type": "markdown",
      "source": [
        "At this stage we can say that :\n",
        "* NLTK has slightly better results than Spacy.\n",
        "* However it is hard to say what causes the errors.\n",
        "* An area of research would be to tune the vectorizer"
      ],
      "metadata": {
        "id": "uAiNEl_AdIeV"
      }
    },
    {
      "cell_type": "markdown",
      "source": [
        "###kNN"
      ],
      "metadata": {
        "id": "C6Fs620Nd3SU"
      }
    },
    {
      "cell_type": "markdown",
      "source": [
        "####With Spacy"
      ],
      "metadata": {
        "id": "dhR4y8HleKHr"
      }
    },
    {
      "cell_type": "code",
      "source": [
        "# Define classifier\n",
        "knn_spacy_model = KNeighborsClassifier()\n",
        "Nknn = list(range(1, 100))\n",
        "param_grid = dict(n_neighbors=Nknn)\n",
        "\n",
        "# Create pipeline\n",
        "## The purpose of the pipeline is to assemble several steps that can be cross-validated together while setting different parameters.\n",
        "\n",
        "knn_spacy_grid = GridSearchCV(knn_spacy_model, param_grid, cv=5, scoring='accuracy', return_train_score=False,verbose=1)\n",
        "\n",
        "knn_spacy_pipe = Pipeline([('vectorizer',  tfidf_vector_spacy), ('classifier', knn_spacy_grid)])\n",
        "# Fit model on training set\n",
        "knn_spacy_pipe.fit(X_train, y_train)\n",
        "\n",
        "best_param_knn_spacy = knn_spacy_grid .best_params_.get('n_neighbors')\n",
        "print(knn_spacy_grid .best_params_)"
      ],
      "metadata": {
        "id": "ztS54OgLdy-1",
        "colab": {
          "base_uri": "https://localhost:8080/"
        },
        "outputId": "68966f47-7ec5-4c9a-d840-256be29e354e"
      },
      "execution_count": null,
      "outputs": [
        {
          "output_type": "stream",
          "name": "stdout",
          "text": [
            "Fitting 5 folds for each of 99 candidates, totalling 495 fits\n",
            "{'n_neighbors': 1}\n"
          ]
        }
      ]
    },
    {
      "cell_type": "code",
      "source": [
        "knn_spacy_classifier = KNeighborsClassifier(n_neighbors=best_param_knn_spacy)\n",
        "# Create pipeline\n",
        "## The purpose of the pipeline is to assemble several steps that can be cross-validated together while setting different parameters.\n",
        "KNN_spacy_pipe = Pipeline([('vectorizer', tfidf_vector_spacy), ('classifier', knn_spacy_classifier)])\n",
        "\n",
        "# Fit model on training set\n",
        "KNN_spacy_pipe.fit(X_train, y_train)\n",
        "\n",
        "# Predictions\n",
        "KNN_spacy_pred = KNN_spacy_pipe.predict(X_test)\n",
        "\n",
        "KNN_spacy_pred_report = evaluate(y_test, KNN_spacy_pred)\n",
        "\n",
        "# Storing the model performance results in a DF called reports\n",
        "reports['KNN Spacy'] = KNN_spacy_pred_report\n",
        "\n",
        "KNN_spacy_pred_report"
      ],
      "metadata": {
        "id": "Zwqa0GiEgMOk",
        "colab": {
          "base_uri": "https://localhost:8080/"
        },
        "outputId": "bad020f0-9b90-40ff-8fca-3cacd26d47db"
      },
      "execution_count": null,
      "outputs": [
        {
          "output_type": "execute_result",
          "data": {
            "text/plain": [
              "{'accuracy': 0.3333333333333333,\n",
              " 'recall': 0.3703703703703703,\n",
              " 'precision': 0.3325396825396825,\n",
              " 'f1_score': 0.31532903016278974}"
            ]
          },
          "metadata": {},
          "execution_count": 74
        }
      ]
    },
    {
      "cell_type": "code",
      "source": [
        "plot_confusion_matrix(y_test, KNN_spacy_pred, KNN_spacy_pipe)"
      ],
      "metadata": {
        "id": "y2-RAAZflDj7",
        "colab": {
          "base_uri": "https://localhost:8080/",
          "height": 54
        },
        "outputId": "25ae7cfd-ddd5-42a3-81ae-c1490e42fafc"
      },
      "execution_count": null,
      "outputs": [
        {
          "output_type": "display_data",
          "data": {
            "text/plain": [
              "<Figure size 432x288 with 2 Axes>"
            ],
            "image/png": "[encoded data removed]"
          },
          "metadata": {
            "needs_background": "light"
          }
        }
      ]
    },
    {
      "cell_type": "markdown",
      "source": [
        "####With NLTK"
      ],
      "metadata": {
        "id": "5b6ImOiulMPV"
      }
    },
    {
      "cell_type": "code",
      "source": [
        "# Define classifier\n",
        "knn_nltk_model = KNeighborsClassifier()\n",
        "Nknn = list(range(1, 100))\n",
        "param_grid = dict(n_neighbors=Nknn)\n",
        "\n",
        "# Create pipeline\n",
        "## The purpose of the pipeline is to assemble several steps that can be cross-validated together while setting different parameters.\n",
        "\n",
        "knn_nltk_grid = GridSearchCV(knn_nltk_model, param_grid, cv=5, scoring='accuracy', return_train_score=False,verbose=1)\n",
        "\n",
        "knn_nltk_pipe = Pipeline([('vectorizer',  tfidf_vector_nltk), ('classifier', knn_nltk_grid)])\n",
        "# Fit model on training set\n",
        "knn_nltk_pipe.fit(X_train, y_train)\n",
        "\n",
        "best_param_knn_nltk = knn_nltk_grid .best_params_.get('n_neighbors')\n",
        "print(knn_nltk_grid .best_params_)"
      ],
      "metadata": {
        "id": "1IMQn_b2lO3-",
        "colab": {
          "base_uri": "https://localhost:8080/"
        },
        "outputId": "01386201-f4dc-4a19-f655-399aa74d8e99"
      },
      "execution_count": null,
      "outputs": [
        {
          "output_type": "stream",
          "name": "stdout",
          "text": [
            "Fitting 5 folds for each of 99 candidates, totalling 495 fits\n",
            "{'n_neighbors': 1}\n"
          ]
        }
      ]
    },
    {
      "cell_type": "code",
      "source": [
        "knn_nltk_classifier = KNeighborsClassifier(n_neighbors=best_param_knn_nltk)\n",
        "# Create pipeline\n",
        "## The purpose of the pipeline is to assemble several steps that can be cross-validated together while setting different parameters.\n",
        "KNN_nltk_pipe = Pipeline([('vectorizer', tfidf_vector_nltk), ('classifier', knn_nltk_classifier)])\n",
        "\n",
        "# Fit model on training set\n",
        "KNN_nltk_pipe.fit(X_train, y_train)\n",
        "\n",
        "# Predictions\n",
        "KNN_nltk_pred = KNN_nltk_pipe.predict(X_test)\n",
        "\n",
        "KNN_nltk_pred_report = evaluate(y_test, KNN_nltk_pred)\n",
        "\n",
        "# Storing the model performance results in a DF called reports\n",
        "reports['KNN NLTK'] = KNN_nltk_pred_report\n",
        "\n",
        "KNN_nltk_pred_report"
      ],
      "metadata": {
        "id": "RUzJ7EzmllMm",
        "colab": {
          "base_uri": "https://localhost:8080/"
        },
        "outputId": "4a648414-7f81-4874-ddfa-96ee4df4f09a"
      },
      "execution_count": null,
      "outputs": [
        {
          "output_type": "execute_result",
          "data": {
            "text/plain": [
              "{'accuracy': 0.375,\n",
              " 'recall': 0.3333333333333333,\n",
              " 'precision': 0.3200163398692811,\n",
              " 'f1_score': 0.30954415954415954}"
            ]
          },
          "metadata": {},
          "execution_count": 77
        }
      ]
    },
    {
      "cell_type": "code",
      "source": [
        "plot_confusion_matrix(y_test, KNN_nltk_pred, KNN_nltk_pipe)"
      ],
      "metadata": {
        "id": "FFsGMIEVmBXL",
        "colab": {
          "base_uri": "https://localhost:8080/",
          "height": 54
        },
        "outputId": "4b8cf71d-5cff-40b3-b40a-70697b9ac00e"
      },
      "execution_count": null,
      "outputs": [
        {
          "output_type": "display_data",
          "data": {
            "text/plain": [
              "<Figure size 432x288 with 2 Axes>"
            ],
            "image/png": "[encoded data removed]"
          },
          "metadata": {
            "needs_background": "light"
          }
        }
      ]
    },
    {
      "cell_type": "markdown",
      "source": [
        "###Decision Tree"
      ],
      "metadata": {
        "id": "renriEfumKb8"
      }
    },
    {
      "cell_type": "markdown",
      "source": [
        "####With Spacy"
      ],
      "metadata": {
        "id": "itR2d-KYmXDn"
      }
    },
    {
      "cell_type": "code",
      "source": [
        "tree_spacy_model = DecisionTreeClassifier()\n",
        "\n",
        "tree_spacy_pipe = Pipeline([('vectorizer', tfidf_vector_spacy),\n",
        "                 ('classifier', tree_spacy_model)])\n",
        "\n",
        "\n",
        "tree_spacy_pipe.fit(X_train, y_train)\n",
        "\n",
        "tree_spacy_pred = tree_spacy_pipe.predict(X_test)\n",
        "\n",
        "tree_spacy_report = evaluate(y_test, tree_spacy_pred)\n",
        "\n",
        "# Store model performance results\n",
        "reports['Decision Tree Spacy'] = tree_spacy_report\n",
        "\n",
        "tree_spacy_report"
      ],
      "metadata": {
        "id": "8AKk7jd-mMFD",
        "colab": {
          "base_uri": "https://localhost:8080/"
        },
        "outputId": "161cd959-7747-4993-e0b8-7bac4778920f"
      },
      "execution_count": null,
      "outputs": [
        {
          "output_type": "execute_result",
          "data": {
            "text/plain": [
              "{'accuracy': 0.3125,\n",
              " 'recall': 0.26851851851851855,\n",
              " 'precision': 0.2801180301180301,\n",
              " 'f1_score': 0.2729411764705882}"
            ]
          },
          "metadata": {},
          "execution_count": 79
        }
      ]
    },
    {
      "cell_type": "code",
      "source": [
        "plot_confusion_matrix(y_test, tree_spacy_pred, tree_spacy_pipe)"
      ],
      "metadata": {
        "id": "IbG1eAEPm4_R",
        "colab": {
          "base_uri": "https://localhost:8080/",
          "height": 54
        },
        "outputId": "9e4af80e-d872-4ef5-c017-59cbbe112746"
      },
      "execution_count": null,
      "outputs": [
        {
          "output_type": "display_data",
          "data": {
            "text/plain": [
              "<Figure size 432x288 with 2 Axes>"
            ],
            "image/png": "[encoded data removed]"
          },
          "metadata": {
            "needs_background": "light"
          }
        }
      ]
    },
    {
      "cell_type": "markdown",
      "source": [
        "####With NLTK"
      ],
      "metadata": {
        "id": "5Oxo9FQdm-yt"
      }
    },
    {
      "cell_type": "code",
      "source": [
        "tree_nltk_model = DecisionTreeClassifier()\n",
        "\n",
        "tree_nltk_pipe = Pipeline([('vectorizer', tfidf_vector_nltk),\n",
        "                 ('classifier', tree_nltk_model)])\n",
        "\n",
        "\n",
        "tree_nltk_pipe.fit(X_train, y_train)\n",
        "\n",
        "tree_nltk_pred = tree_nltk_pipe.predict(X_test)\n",
        "\n",
        "tree_nltk_report = evaluate(y_test, tree_nltk_pred)\n",
        "\n",
        "# Store model performance results\n",
        "reports['Decision Tree NLTK'] = tree_nltk_report\n",
        "\n",
        "tree_nltk_report"
      ],
      "metadata": {
        "id": "VFmjZO8-nBX7",
        "colab": {
          "base_uri": "https://localhost:8080/"
        },
        "outputId": "bf141e7a-2e86-4ca4-fab5-90efbbdea184"
      },
      "execution_count": null,
      "outputs": [
        {
          "output_type": "execute_result",
          "data": {
            "text/plain": [
              "{'accuracy': 0.3541666666666667,\n",
              " 'recall': 0.38425925925925924,\n",
              " 'precision': 0.3719729344729345,\n",
              " 'f1_score': 0.33686459739091323}"
            ]
          },
          "metadata": {},
          "execution_count": 81
        }
      ]
    },
    {
      "cell_type": "code",
      "source": [
        "plot_confusion_matrix(y_test, tree_nltk_pred, tree_nltk_pipe)"
      ],
      "metadata": {
        "id": "YyQSZY7rnl-u",
        "colab": {
          "base_uri": "https://localhost:8080/",
          "height": 54
        },
        "outputId": "b0187d90-a366-423e-b2f5-0337193a7911"
      },
      "execution_count": null,
      "outputs": [
        {
          "output_type": "display_data",
          "data": {
            "text/plain": [
              "<Figure size 432x288 with 2 Axes>"
            ],
            "image/png": "[encoded data removed]"
          },
          "metadata": {
            "needs_background": "light"
          }
        }
      ]
    },
    {
      "cell_type": "markdown",
      "source": [
        "###Random Forest"
      ],
      "metadata": {
        "id": "2HS9KVtTn96m"
      }
    },
    {
      "cell_type": "markdown",
      "source": [
        "####With Spacy"
      ],
      "metadata": {
        "id": "68VACqGYpZlX"
      }
    },
    {
      "cell_type": "code",
      "source": [
        "forest_spacy_model = RandomForestClassifier()\n",
        "\n",
        "forest_spacy_pipe = Pipeline([('vectorizer', tfidf_vector_spacy),\n",
        "                 ('classifier', forest_spacy_model)])\n",
        "\n",
        "forest_spacy_pipe.fit(X_train, y_train)\n",
        "\n",
        "forest_spacy_pred = forest_spacy_pipe.predict(X_test)\n",
        "\n",
        "forest_spacy_report = evaluate(y_test, forest_spacy_pred)\n",
        "\n",
        "# Store model performance results\n",
        "reports['Random Forest Spacy'] = forest_spacy_report\n",
        "\n",
        "forest_spacy_report"
      ],
      "metadata": {
        "id": "1cGKM68loByY",
        "colab": {
          "base_uri": "https://localhost:8080/"
        },
        "outputId": "880c802d-609e-4128-c7ad-4fec5164a597"
      },
      "execution_count": null,
      "outputs": [
        {
          "output_type": "execute_result",
          "data": {
            "text/plain": [
              "{'accuracy': 0.4166666666666667,\n",
              " 'recall': 0.45138888888888884,\n",
              " 'precision': 0.373015873015873,\n",
              " 'f1_score': 0.4006535947712418}"
            ]
          },
          "metadata": {},
          "execution_count": 83
        }
      ]
    },
    {
      "cell_type": "code",
      "source": [
        "plot_confusion_matrix(y_test, forest_spacy_pred, forest_spacy_pipe)"
      ],
      "metadata": {
        "id": "Dni5FvxUo2_i",
        "colab": {
          "base_uri": "https://localhost:8080/",
          "height": 54
        },
        "outputId": "f41d6fb8-f0cd-454e-a898-8a29de598093"
      },
      "execution_count": null,
      "outputs": [
        {
          "output_type": "display_data",
          "data": {
            "text/plain": [
              "<Figure size 432x288 with 2 Axes>"
            ],
            "image/png": "[encoded data removed]"
          },
          "metadata": {
            "needs_background": "light"
          }
        }
      ]
    },
    {
      "cell_type": "markdown",
      "source": [
        "####With NLTK"
      ],
      "metadata": {
        "id": "fPRNJKfephSr"
      }
    },
    {
      "cell_type": "code",
      "source": [
        "forest_nltk_model = RandomForestClassifier()\n",
        "\n",
        "forest_nltk_pipe = Pipeline([('vectorizer', tfidf_vector_nltk),\n",
        "                 ('classifier', forest_nltk_model)])\n",
        "\n",
        "forest_nltk_pipe.fit(X_train, y_train)\n",
        "\n",
        "forest_nltk_pred = forest_nltk_pipe.predict(X_test)\n",
        "\n",
        "forest_nltk_report = evaluate(y_test, forest_nltk_pred)\n",
        "\n",
        "# Store model performance results\n",
        "reports['Random Forest NLTK'] = forest_nltk_report\n",
        "\n",
        "forest_nltk_report"
      ],
      "metadata": {
        "id": "ZKjogIvRpkhM",
        "colab": {
          "base_uri": "https://localhost:8080/"
        },
        "outputId": "1b14421e-a53d-46fd-d11f-c87e0c4fa060"
      },
      "execution_count": null,
      "outputs": [
        {
          "output_type": "execute_result",
          "data": {
            "text/plain": [
              "{'accuracy': 0.4791666666666667,\n",
              " 'recall': 0.4351851851851851,\n",
              " 'precision': 0.4387488328664799,\n",
              " 'f1_score': 0.41215015920898274}"
            ]
          },
          "metadata": {},
          "execution_count": 85
        }
      ]
    },
    {
      "cell_type": "code",
      "source": [
        "plot_confusion_matrix(y_test, forest_nltk_pred, forest_nltk_pipe)"
      ],
      "metadata": {
        "id": "sYfcg0lbp7Sf",
        "colab": {
          "base_uri": "https://localhost:8080/",
          "height": 54
        },
        "outputId": "76c6efe8-dc6a-450a-b675-1ccdd5511c46"
      },
      "execution_count": null,
      "outputs": [
        {
          "output_type": "display_data",
          "data": {
            "text/plain": [
              "<Figure size 432x288 with 2 Axes>"
            ],
            "image/png": "[encoded data removed]"
          },
          "metadata": {
            "needs_background": "light"
          }
        }
      ]
    },
    {
      "cell_type": "markdown",
      "source": [
        "###Ridge classifier"
      ],
      "metadata": {
        "id": "Z4oga3zwqhN_"
      }
    },
    {
      "cell_type": "markdown",
      "source": [
        "####With Spacy"
      ],
      "metadata": {
        "id": "mpqEOZVcrTp2"
      }
    },
    {
      "cell_type": "code",
      "source": [
        "ridge_spacy_model = RidgeClassifier()\n",
        "\n",
        "ridge_spacy_pipe = Pipeline([('vectorizer', tfidf_vector_spacy),\n",
        "                             ('classifier', ridge_spacy_model)])\n",
        "\n",
        "ridge_spacy_pipe.fit(X_train, y_train)\n",
        "\n",
        "ridge_spacy_pred = ridge_spacy_pipe.predict(X_test)\n",
        "\n",
        "ridge_spacy_report = evaluate(y_test, ridge_spacy_pred)\n",
        "\n",
        "# Store model performance results\n",
        "reports['Ridge Classifier Spacy'] = ridge_spacy_report\n",
        "\n",
        "ridge_spacy_report"
      ],
      "metadata": {
        "id": "Lh2IYc1eqvq0",
        "colab": {
          "base_uri": "https://localhost:8080/"
        },
        "outputId": "81d8ff58-c76e-4e35-8057-a7a05b1eb32e"
      },
      "execution_count": null,
      "outputs": [
        {
          "output_type": "execute_result",
          "data": {
            "text/plain": [
              "{'accuracy': 0.4791666666666667,\n",
              " 'recall': 0.4953703703703704,\n",
              " 'precision': 0.4935897435897436,\n",
              " 'f1_score': 0.4617091428236939}"
            ]
          },
          "metadata": {},
          "execution_count": 87
        }
      ]
    },
    {
      "cell_type": "code",
      "source": [
        "plot_confusion_matrix(y_test, ridge_spacy_pred, ridge_spacy_pipe)"
      ],
      "metadata": {
        "id": "WV1lN22KrYIS",
        "colab": {
          "base_uri": "https://localhost:8080/",
          "height": 283
        },
        "outputId": "98c14a6e-7f06-4420-d6eb-d5d039fc70e7"
      },
      "execution_count": null,
      "outputs": [
        {
          "output_type": "display_data",
          "data": {
            "text/plain": [
              "<Figure size 432x288 with 2 Axes>"
            ],
            "image/png": "[encoded data removed]"
          },
          "metadata": {
            "needs_background": "light"
          }
        }
      ]
    },
    {
      "cell_type": "markdown",
      "source": [
        "####With NLTK"
      ],
      "metadata": {
        "id": "lGZSlO0arfgN"
      }
    },
    {
      "cell_type": "code",
      "source": [
        "ridge_nltk_model = RidgeClassifier()\n",
        "\n",
        "ridge_nltk_pipe = Pipeline([('vectorizer', tfidf_vector_nltk),\n",
        "                             ('classifier', ridge_nltk_model)])\n",
        "\n",
        "ridge_nltk_pipe.fit(X_train, y_train)\n",
        "\n",
        "ridge_nltk_pred = ridge_nltk_pipe.predict(X_test)\n",
        "\n",
        "ridge_nltk_report = evaluate(y_test, ridge_nltk_pred)\n",
        "\n",
        "# Store model performance results\n",
        "reports['Ridge Classifier NLTK'] = ridge_nltk_report\n",
        "\n",
        "ridge_nltk_report"
      ],
      "metadata": {
        "id": "DEdjYLPRrrNQ",
        "colab": {
          "base_uri": "https://localhost:8080/"
        },
        "outputId": "f2ef7786-0d2a-409d-d52b-446e4ba0a19d"
      },
      "execution_count": null,
      "outputs": [
        {
          "output_type": "execute_result",
          "data": {
            "text/plain": [
              "{'accuracy': 0.4791666666666667,\n",
              " 'recall': 0.4907407407407407,\n",
              " 'precision': 0.47007575757575754,\n",
              " 'f1_score': 0.46279526430455226}"
            ]
          },
          "metadata": {},
          "execution_count": 89
        }
      ]
    },
    {
      "cell_type": "markdown",
      "source": [
        "###Perceptron classifier"
      ],
      "metadata": {
        "id": "qqjAMiqNsC1k"
      }
    },
    {
      "cell_type": "markdown",
      "source": [
        "####With Spacy"
      ],
      "metadata": {
        "id": "_Zkc2GXSs8nG"
      }
    },
    {
      "cell_type": "code",
      "source": [
        "perceptron_spacy_model = Perceptron()\n",
        "\n",
        "perceptron_spacy_pipe = Pipeline([('vectorizer', tfidf_vector_spacy),\n",
        "                 ('classifier', perceptron_spacy_model)])\n",
        "\n",
        "\n",
        "perceptron_spacy_pipe.fit(X_train, y_train)\n",
        "\n",
        "perceptron_spacy_pred = perceptron_spacy_pipe.predict(X_test)\n",
        "\n",
        "perceptron_spacy_report = evaluate(y_test, perceptron_spacy_pred)\n",
        "\n",
        "# Store model performance results\n",
        "reports['Perceptron Classifier Spacy'] = perceptron_spacy_report\n",
        "\n",
        "perceptron_spacy_report\n"
      ],
      "metadata": {
        "id": "E7O7CDGjsS77",
        "colab": {
          "base_uri": "https://localhost:8080/"
        },
        "outputId": "89e3172f-94b2-4635-85e6-85451732742a"
      },
      "execution_count": null,
      "outputs": [
        {
          "output_type": "execute_result",
          "data": {
            "text/plain": [
              "{'accuracy': 0.4166666666666667,\n",
              " 'recall': 0.42361111111111116,\n",
              " 'precision': 0.41383801383801383,\n",
              " 'f1_score': 0.41356168198273463}"
            ]
          },
          "metadata": {},
          "execution_count": 90
        }
      ]
    },
    {
      "cell_type": "code",
      "source": [
        "plot_confusion_matrix(y_test, perceptron_spacy_pred, perceptron_spacy_pipe)"
      ],
      "metadata": {
        "id": "YNrrQ1KDs0-e",
        "colab": {
          "base_uri": "https://localhost:8080/",
          "height": 54
        },
        "outputId": "b180bbc8-da75-48cd-e7f9-4f8d1e2ce66b"
      },
      "execution_count": null,
      "outputs": [
        {
          "output_type": "display_data",
          "data": {
            "text/plain": [
              "<Figure size 432x288 with 2 Axes>"
            ],
            "image/png": "[encoded data removed]"
          },
          "metadata": {
            "needs_background": "light"
          }
        }
      ]
    },
    {
      "cell_type": "markdown",
      "source": [
        "####With NLTK"
      ],
      "metadata": {
        "id": "euLYn4nftBdG"
      }
    },
    {
      "cell_type": "code",
      "source": [
        "perceptron_nltk_model = Perceptron()\n",
        "\n",
        "perceptron_nltk_pipe = Pipeline([('vectorizer', tfidf_vector_nltk),\n",
        "                 ('classifier', perceptron_nltk_model)])\n",
        "\n",
        "\n",
        "perceptron_nltk_pipe.fit(X_train, y_train)\n",
        "\n",
        "perceptron_nltk_pred = perceptron_nltk_pipe.predict(X_test)\n",
        "\n",
        "perceptron_nltk_report = evaluate(y_test, perceptron_nltk_pred)\n",
        "\n",
        "# Store model performance results\n",
        "reports['Perceptron Classifier NLTK'] = perceptron_nltk_report\n",
        "\n",
        "perceptron_nltk_report\n"
      ],
      "metadata": {
        "id": "i4jhusf2tECS",
        "colab": {
          "base_uri": "https://localhost:8080/"
        },
        "outputId": "55c9902b-2e53-493c-9adf-25b1e02b5df0"
      },
      "execution_count": null,
      "outputs": [
        {
          "output_type": "execute_result",
          "data": {
            "text/plain": [
              "{'accuracy': 0.4583333333333333,\n",
              " 'recall': 0.46759259259259256,\n",
              " 'precision': 0.4559163059163059,\n",
              " 'f1_score': 0.43972431077694235}"
            ]
          },
          "metadata": {},
          "execution_count": 92
        }
      ]
    },
    {
      "cell_type": "code",
      "source": [
        "plot_confusion_matrix(y_test, perceptron_nltk_pred, perceptron_nltk_pipe)"
      ],
      "metadata": {
        "id": "-8_JupfYtY5K",
        "colab": {
          "base_uri": "https://localhost:8080/",
          "height": 54
        },
        "outputId": "962943cc-2677-42f0-9f11-040bfe743ae6"
      },
      "execution_count": null,
      "outputs": [
        {
          "output_type": "display_data",
          "data": {
            "text/plain": [
              "<Figure size 432x288 with 2 Axes>"
            ],
            "image/png": "[encoded data removed]"
          },
          "metadata": {
            "needs_background": "light"
          }
        }
      ]
    },
    {
      "cell_type": "markdown",
      "source": [
        "###GradientBoostingClassifier"
      ],
      "metadata": {
        "id": "yu-MvkWV_l78"
      }
    },
    {
      "cell_type": "markdown",
      "source": [
        "####With Spacy"
      ],
      "metadata": {
        "id": "St-SKAcf_rhS"
      }
    },
    {
      "cell_type": "code",
      "execution_count": null,
      "metadata": {
        "id": "wY0fR8cZ7ZQD",
        "colab": {
          "base_uri": "https://localhost:8080/"
        },
        "outputId": "488cc79b-54fd-4782-a9a4-ae6e316b5236"
      },
      "outputs": [
        {
          "output_type": "execute_result",
          "data": {
            "text/plain": [
              "{'accuracy': 0.3541666666666667,\n",
              " 'recall': 0.3773148148148148,\n",
              " 'precision': 0.3591570466570466,\n",
              " 'f1_score': 0.34553376906318084}"
            ]
          },
          "metadata": {},
          "execution_count": 94
        }
      ],
      "source": [
        "gbc_spacy_model = GradientBoostingClassifier()\n",
        "\n",
        "gbc_spacy_pipe = Pipeline([('vectorizer',  tfidf_vector_spacy),\n",
        "                 ('classifier', gbc_spacy_model)])\n",
        "\n",
        "gbc_spacy_pipe.fit(X_train, y_train)\n",
        "\n",
        "gbc_spacy_pred = gbc_spacy_pipe.predict(X_test)\n",
        "\n",
        "gbc_spacy_report = evaluate(y_test, gbc_spacy_pred)\n",
        "\n",
        "# Store model performance results\n",
        "reports['Gradient Boosting Classifier Spacy'] = gbc_spacy_report\n",
        "\n",
        "gbc_spacy_report\n"
      ]
    },
    {
      "cell_type": "markdown",
      "source": [
        "####With NLTK"
      ],
      "metadata": {
        "id": "BLf2Bf0RAQcf"
      }
    },
    {
      "cell_type": "code",
      "source": [
        "gbc_nltk_model = GradientBoostingClassifier()\n",
        "\n",
        "gbc_nltk_pipe = Pipeline([('vectorizer',  tfidf_vector_nltk),\n",
        "                 ('classifier', gbc_nltk_model)])\n",
        "\n",
        "gbc_nltk_pipe.fit(X_train, y_train)\n",
        "\n",
        "gbc_nltk_pred = gbc_nltk_pipe.predict(X_test)\n",
        "\n",
        "gbc_nltk_report = evaluate(y_test, gbc_nltk_pred)\n",
        "\n",
        "# Store model performance results\n",
        "reports['Gradient Boosting Classifier NLTK'] = gbc_nltk_report\n",
        "\n",
        "gbc_nltk_report"
      ],
      "metadata": {
        "id": "SZKqd-ZJAURi",
        "colab": {
          "base_uri": "https://localhost:8080/"
        },
        "outputId": "5532e946-72ce-4980-fa71-2242a21fe1a8"
      },
      "execution_count": null,
      "outputs": [
        {
          "output_type": "execute_result",
          "data": {
            "text/plain": [
              "{'accuracy': 0.3958333333333333,\n",
              " 'recall': 0.4236111111111111,\n",
              " 'precision': 0.3846509971509972,\n",
              " 'f1_score': 0.38009008964891317}"
            ]
          },
          "metadata": {},
          "execution_count": 95
        }
      ]
    },
    {
      "cell_type": "markdown",
      "source": [
        "###XGB classifier"
      ],
      "metadata": {
        "id": "q_9u9DjUEpNS"
      }
    },
    {
      "cell_type": "markdown",
      "source": [
        "####With Spacy"
      ],
      "metadata": {
        "id": "l7ok-EGsEtLi"
      }
    },
    {
      "cell_type": "code",
      "source": [
        "from xgboost import XGBClassifier\n",
        "\n",
        "xgb_spacy_model = XGBClassifier()\n",
        "xgb_spacy_pipe = Pipeline([('vectorizer', tfidf_vector_spacy), ('classifier', xgb_spacy_model)])\n",
        "\n",
        "xgb_spacy_pipe.fit(X_train, y_train)\n",
        "\n",
        "xgb_spacy_pred = xgb_spacy_pipe.predict(X_test)\n",
        "\n",
        "xgb_spacy_report = evaluate(y_test, xgb_spacy_pred)\n",
        "\n",
        "# Store model performance results\n",
        "reports['XGB Classifier Spacy'] = xgb_spacy_report\n",
        "\n",
        "xgb_spacy_report"
      ],
      "metadata": {
        "id": "TFw10v2HCWYc",
        "colab": {
          "base_uri": "https://localhost:8080/"
        },
        "outputId": "f9196fd1-4273-4992-d80e-1e3bb14e3281"
      },
      "execution_count": null,
      "outputs": [
        {
          "output_type": "execute_result",
          "data": {
            "text/plain": [
              "{'accuracy': 0.3541666666666667,\n",
              " 'recall': 0.3796296296296296,\n",
              " 'precision': 0.35509259259259257,\n",
              " 'f1_score': 0.3409710550887021}"
            ]
          },
          "metadata": {},
          "execution_count": 96
        }
      ]
    },
    {
      "cell_type": "markdown",
      "source": [
        "####With NLTK"
      ],
      "metadata": {
        "id": "GDPL0w9gEvZ6"
      }
    },
    {
      "cell_type": "code",
      "source": [
        "xgb_nltk_model = XGBClassifier()\n",
        "xgb_nltk_pipe = Pipeline([('vectorizer', tfidf_vector_nltk), ('classifier', xgb_nltk_model)])\n",
        "\n",
        "xgb_nltk_pipe.fit(X_train, y_train)\n",
        "\n",
        "xgb_nltk_pred = xgb_nltk_pipe.predict(X_test)\n",
        "\n",
        "xgb_nltk_report = evaluate(y_test, xgb_nltk_pred)\n",
        "\n",
        "# Store model performance results\n",
        "reports['XGB Classifier NLTK'] = xgb_nltk_report \n",
        "\n",
        "xgb_nltk_report"
      ],
      "metadata": {
        "id": "5qWuY_gZEa5k",
        "colab": {
          "base_uri": "https://localhost:8080/"
        },
        "outputId": "cd532f07-9219-4221-9875-40956d8a277a"
      },
      "execution_count": null,
      "outputs": [
        {
          "output_type": "execute_result",
          "data": {
            "text/plain": [
              "{'accuracy': 0.3333333333333333,\n",
              " 'recall': 0.3009259259259259,\n",
              " 'precision': 0.28558201058201055,\n",
              " 'f1_score': 0.2829635362917096}"
            ]
          },
          "metadata": {},
          "execution_count": 97
        }
      ]
    },
    {
      "cell_type": "markdown",
      "source": [
        "###SGD Classifier"
      ],
      "metadata": {
        "id": "A8kq3naOGMha"
      }
    },
    {
      "cell_type": "markdown",
      "source": [
        "####With spacy"
      ],
      "metadata": {
        "id": "jbx_t0fdGPcJ"
      }
    },
    {
      "cell_type": "code",
      "source": [
        "from sklearn.linear_model import SGDClassifier\n",
        "\n",
        "sgd_spacy_model = SGDClassifier()\n",
        "\n",
        "sgd_spacy_pipe = Pipeline([('vectorizer', tfidf_vector_spacy), ('classifier', sgd_spacy_model)])\n",
        "\n",
        "sgd_spacy_pipe.fit(X_train, y_train)\n",
        "\n",
        "sgd_spacy_pred = sgd_spacy_pipe.predict(X_test)\n",
        "\n",
        "sgd_spacy_report = evaluate(y_test, sgd_spacy_pred)\n",
        "\n",
        "# Store model performance results\n",
        "reports['SGD Classifier Spacy'] = sgd_spacy_report\n",
        "\n",
        "sgd_spacy_report\n"
      ],
      "metadata": {
        "id": "NzePFjJbFgbF",
        "colab": {
          "base_uri": "https://localhost:8080/"
        },
        "outputId": "6d07555e-e4fe-4fa9-edfb-36aa91e3ac81"
      },
      "execution_count": null,
      "outputs": [
        {
          "output_type": "execute_result",
          "data": {
            "text/plain": [
              "{'accuracy': 0.4375,\n",
              " 'recall': 0.45601851851851855,\n",
              " 'precision': 0.46015234765234764,\n",
              " 'f1_score': 0.43717960745824525}"
            ]
          },
          "metadata": {},
          "execution_count": 98
        }
      ]
    },
    {
      "cell_type": "markdown",
      "source": [
        "####With NLTK"
      ],
      "metadata": {
        "id": "4JXemBQBGZFU"
      }
    },
    {
      "cell_type": "code",
      "source": [
        "sgd_nltk_model = SGDClassifier()\n",
        "\n",
        "sgd_nltk_pipe = Pipeline([('vectorizer', tfidf_vector_nltk), ('classifier', sgd_nltk_model)])\n",
        "\n",
        "sgd_nltk_pipe.fit(X_train, y_train)\n",
        "\n",
        "sgd_nltk_pred = sgd_nltk_pipe.predict(X_test)\n",
        "\n",
        "sgd_nltk_report = evaluate(y_test, sgd_nltk_pred)\n",
        "\n",
        "# Store model performance results\n",
        "reports['SGD Classifier NLTK'] = sgd_nltk_report\n",
        "\n",
        "sgd_nltk_report\n"
      ],
      "metadata": {
        "id": "EOY8xmswFMid",
        "colab": {
          "base_uri": "https://localhost:8080/"
        },
        "outputId": "bc4a6055-13aa-4566-bc0b-2c09c910130c"
      },
      "execution_count": null,
      "outputs": [
        {
          "output_type": "execute_result",
          "data": {
            "text/plain": [
              "{'accuracy': 0.4791666666666667,\n",
              " 'recall': 0.4884259259259259,\n",
              " 'precision': 0.48024891774891776,\n",
              " 'f1_score': 0.46347609219126246}"
            ]
          },
          "metadata": {},
          "execution_count": 99
        }
      ]
    },
    {
      "cell_type": "markdown",
      "source": [
        "###BERT + CAMEMBERT Model to try too"
      ],
      "metadata": {
        "id": "xo6oZsw1kh3x"
      }
    },
    {
      "cell_type": "markdown",
      "source": [
        "##D) Models Comparison"
      ],
      "metadata": {
        "id": "XBVSdj5Btk-N"
      }
    },
    {
      "cell_type": "code",
      "source": [
        "fig, ax = plt.subplots(1, 1, figsize=(30,9))\n",
        "\n",
        "width = 0.70\n",
        "labels = reports.keys()\n",
        "report_values_accuracy = [x['accuracy'] for x in reports.values()]\n",
        "\n",
        "ax.bar(labels, report_values_accuracy, \n",
        "        label='Accuracy', width=width)\n",
        "\n",
        "plt.xticks(rotation=45)\n",
        "ax.legend()"
      ],
      "metadata": {
        "id": "OL_-XZUXtsfP",
        "colab": {
          "base_uri": "https://localhost:8080/",
          "height": 675
        },
        "outputId": "5e77b0a4-a685-4192-d112-dcee3a54a5b2"
      },
      "execution_count": null,
      "outputs": [
        {
          "output_type": "execute_result",
          "data": {
            "text/plain": [
              "<matplotlib.legend.Legend at 0x7f4c633fafa0>"
            ]
          },
          "metadata": {},
          "execution_count": 100
        },
        {
          "output_type": "display_data",
          "data": {
            "text/plain": [
              "<Figure size 2160x648 with 1 Axes>"
            ],
            "image/png": "[encoded data removed]"
          },
          "metadata": {
            "needs_background": "light"
          }
        }
      ]
    },
    {
      "cell_type": "code",
      "source": [
        "models_comparaison_table2 = pd.DataFrame({'Model name':pd.Series(reports.keys()),'Accuracy':pd.Series(report_values_accuracy)}).sort_values(by=['Accuracy'],ascending=False)\n",
        "models_comparaison_table2.set_index(['Model name']).T"
      ],
      "metadata": {
        "id": "gCaS5xLGOgfE",
        "colab": {
          "base_uri": "https://localhost:8080/",
          "height": 160
        },
        "outputId": "89565e60-7462-4e25-aa67-ad2635a52c88"
      },
      "execution_count": null,
      "outputs": [
        {
          "output_type": "execute_result",
          "data": {
            "text/plain": [
              "Model name  Ridge Classifier NLTK  Random Forest NLTK  Ridge Classifier Spacy  \\\n",
              "Accuracy                 0.479167            0.479167                0.479167   \n",
              "\n",
              "Model name  SGD Classifier NLTK  Perceptron Classifier NLTK  \\\n",
              "Accuracy               0.479167                    0.458333   \n",
              "\n",
              "Model name  Logistic Regression NLTK  SGD Classifier Spacy  \\\n",
              "Accuracy                      0.4375                0.4375   \n",
              "\n",
              "Model name  Logistic Regression Spacy  Random Forest Spacy  \\\n",
              "Accuracy                       0.4375             0.416667   \n",
              "\n",
              "Model name  Perceptron Classifier Spacy  Gradient Boosting Classifier NLTK  \\\n",
              "Accuracy                       0.416667                           0.395833   \n",
              "\n",
              "Model name  KNN NLTK  Decision Tree NLTK  Gradient Boosting Classifier Spacy  \\\n",
              "Accuracy       0.375            0.354167                            0.354167   \n",
              "\n",
              "Model name  XGB Classifier Spacy  KNN Spacy  XGB Classifier NLTK  \\\n",
              "Accuracy                0.354167   0.333333             0.333333   \n",
              "\n",
              "Model name  Decision Tree Spacy  \n",
              "Accuracy                 0.3125  "
            ],
            "text/html": [
              "\n",
              "  <div id=\"df-696f1575-7157-4907-a072-de972ab182ac\">\n",
              "    <div class=\"colab-df-container\">\n",
              "      <div>\n",
              "<style scoped>\n",
              "    .dataframe tbody tr th:only-of-type {\n",
              "        vertical-align: middle;\n",
              "    }\n",
              "\n",
              "    .dataframe tbody tr th {\n",
              "        vertical-align: top;\n",
              "    }\n",
              "\n",
              "    .dataframe thead th {\n",
              "        text-align: right;\n",
              "    }\n",
              "</style>\n",
              "<table border=\"1\" class=\"dataframe\">\n",
              "  <thead>\n",
              "    <tr style=\"text-align: right;\">\n",
              "      <th>Model name</th>\n",
              "      <th>Ridge Classifier NLTK</th>\n",
              "      <th>Random Forest NLTK</th>\n",
              "      <th>Ridge Classifier Spacy</th>\n",
              "      <th>SGD Classifier NLTK</th>\n",
              "      <th>Perceptron Classifier NLTK</th>\n",
              "      <th>Logistic Regression NLTK</th>\n",
              "      <th>SGD Classifier Spacy</th>\n",
              "      <th>Logistic Regression Spacy</th>\n",
              "      <th>Random Forest Spacy</th>\n",
              "      <th>Perceptron Classifier Spacy</th>\n",
              "      <th>Gradient Boosting Classifier NLTK</th>\n",
              "      <th>KNN NLTK</th>\n",
              "      <th>Decision Tree NLTK</th>\n",
              "      <th>Gradient Boosting Classifier Spacy</th>\n",
              "      <th>XGB Classifier Spacy</th>\n",
              "      <th>KNN Spacy</th>\n",
              "      <th>XGB Classifier NLTK</th>\n",
              "      <th>Decision Tree Spacy</th>\n",
              "    </tr>\n",
              "  </thead>\n",
              "  <tbody>\n",
              "    <tr>\n",
              "      <th>Accuracy</th>\n",
              "      <td>0.479167</td>\n",
              "      <td>0.479167</td>\n",
              "      <td>0.479167</td>\n",
              "      <td>0.479167</td>\n",
              "      <td>0.458333</td>\n",
              "      <td>0.4375</td>\n",
              "      <td>0.4375</td>\n",
              "      <td>0.4375</td>\n",
              "      <td>0.416667</td>\n",
              "      <td>0.416667</td>\n",
              "      <td>0.395833</td>\n",
              "      <td>0.375</td>\n",
              "      <td>0.354167</td>\n",
              "      <td>0.354167</td>\n",
              "      <td>0.354167</td>\n",
              "      <td>0.333333</td>\n",
              "      <td>0.333333</td>\n",
              "      <td>0.3125</td>\n",
              "    </tr>\n",
              "  </tbody>\n",
              "</table>\n",
              "</div>\n",
              "      <button class=\"colab-df-convert\" onclick=\"convertToInteractive('df-696f1575-7157-4907-a072-de972ab182ac')\"\n",
              "              title=\"Convert this dataframe to an interactive table.\"\n",
              "              style=\"display:none;\">\n",
              "        \n",
              "  <svg xmlns=\"http://www.w3.org/2000/svg\" height=\"24px\"viewBox=\"0 0 24 24\"\n",
              "       width=\"24px\">\n",
              "    <path d=\"M0 0h24v24H0V0z\" fill=\"none\"/>\n",
              "    <path d=\"M18.56 5.44l.94 2.06.94-2.06 2.06-.94-2.06-.94-.94-2.06-.94 2.06-2.06.94zm-11 1L8.5 8.5l.94-2.06 2.06-.94-2.06-.94L8.5 2.5l-.94 2.06-2.06.94zm10 10l.94 2.06.94-2.06 2.06-.94-2.06-.94-.94-2.06-.94 2.06-2.06.94z\"/><path d=\"M17.41 7.96l-1.37-1.37c-.4-.4-.92-.59-1.43-.59-.52 0-1.04.2-1.43.59L10.3 9.45l-7.72 7.72c-.78.78-.78 2.05 0 2.83L4 21.41c.39.39.9.59 1.41.59.51 0 1.02-.2 1.41-.59l7.78-7.78 2.81-2.81c.8-.78.8-2.07 0-2.86zM5.41 20L4 18.59l7.72-7.72 1.47 1.35L5.41 20z\"/>\n",
              "  </svg>\n",
              "      </button>\n",
              "      \n",
              "  <style>\n",
              "    .colab-df-container {\n",
              "      display:flex;\n",
              "      flex-wrap:wrap;\n",
              "      gap: 12px;\n",
              "    }\n",
              "\n",
              "    .colab-df-convert {\n",
              "      background-color: #E8F0FE;\n",
              "      border: none;\n",
              "      border-radius: 50%;\n",
              "      cursor: pointer;\n",
              "      display: none;\n",
              "      fill: #1967D2;\n",
              "      height: 32px;\n",
              "      padding: 0 0 0 0;\n",
              "      width: 32px;\n",
              "    }\n",
              "\n",
              "    .colab-df-convert:hover {\n",
              "      background-color: #E2EBFA;\n",
              "      box-shadow: 0px 1px 2px rgba(60, 64, 67, 0.3), 0px 1px 3px 1px rgba(60, 64, 67, 0.15);\n",
              "      fill: #174EA6;\n",
              "    }\n",
              "\n",
              "    [theme=dark] .colab-df-convert {\n",
              "      background-color: #3B4455;\n",
              "      fill: #D2E3FC;\n",
              "    }\n",
              "\n",
              "    [theme=dark] .colab-df-convert:hover {\n",
              "      background-color: #434B5C;\n",
              "      box-shadow: 0px 1px 3px 1px rgba(0, 0, 0, 0.15);\n",
              "      filter: drop-shadow(0px 1px 2px rgba(0, 0, 0, 0.3));\n",
              "      fill: #FFFFFF;\n",
              "    }\n",
              "  </style>\n",
              "\n",
              "      <script>\n",
              "        const buttonEl =\n",
              "          document.querySelector('#df-696f1575-7157-4907-a072-de972ab182ac button.colab-df-convert');\n",
              "        buttonEl.style.display =\n",
              "          google.colab.kernel.accessAllowed ? 'block' : 'none';\n",
              "\n",
              "        async function convertToInteractive(key) {\n",
              "          const element = document.querySelector('#df-696f1575-7157-4907-a072-de972ab182ac');\n",
              "          const dataTable =\n",
              "            await google.colab.kernel.invokeFunction('convertToInteractive',\n",
              "                                                     [key], {});\n",
              "          if (!dataTable) return;\n",
              "\n",
              "          const docLinkHtml = 'Like what you see? Visit the ' +\n",
              "            '<a target=\"_blank\" href=https://colab.research.google.com/notebooks/data_table.ipynb>data table notebook</a>'\n",
              "            + ' to learn more about interactive tables.';\n",
              "          element.innerHTML = '';\n",
              "          dataTable['output_type'] = 'display_data';\n",
              "          await google.colab.output.renderOutput(dataTable, element);\n",
              "          const docLink = document.createElement('div');\n",
              "          docLink.innerHTML = docLinkHtml;\n",
              "          element.appendChild(docLink);\n",
              "        }\n",
              "      </script>\n",
              "    </div>\n",
              "  </div>\n",
              "  "
            ]
          },
          "metadata": {},
          "execution_count": 101
        }
      ]
    },
    {
      "cell_type": "markdown",
      "source": [
        "### E) Model with embedding text"
      ],
      "metadata": {
        "id": "NWvRlvtxjAQW"
      }
    },
    {
      "cell_type": "code",
      "source": [
        "!pip install sentence-transformers"
      ],
      "metadata": {
        "id": "kAKLX57ijHj_"
      },
      "execution_count": null,
      "outputs": []
    },
    {
      "cell_type": "code",
      "source": [
        "from sentence_transformers import SentenceTransformer\n",
        "model= SentenceTransformer(\"distiluse-base-multilingual-cased-v1\")"
      ],
      "metadata": {
        "id": "Ttj47vkTjRUS"
      },
      "execution_count": null,
      "outputs": []
    },
    {
      "cell_type": "code",
      "source": [
        "!python -m spacy download fr_core_news_sm\n",
        "!python -m spacy link fr_core_news_sm fr\n",
        "import spacy\n",
        "from spacy.lang.fr.stop_words import STOP_WORDS\n",
        "sp = spacy.load('fr_core_news_sm')\n",
        "\n",
        "# Create tokenizer function\n",
        "def spacy_tokenizer3(df):\n",
        "    # Create token object, which is used to create documents with linguistic annotations.\n",
        "    mytokens = sp(df)\n",
        "\n",
        "    # Lemmatize each token and convert each token into lowercase\n",
        "    mytokens = [ word.lemma_.lower().strip() for word in mytokens ]\n",
        "    \n",
        "    # Remove stop words and punctuation\n",
        "    mytokens = [ word for word in mytokens]\n",
        "\n",
        "    sentence=\" \".join(mytokens)\n",
        "\n",
        "    return sentence"
      ],
      "metadata": {
        "id": "wxopsddojTax"
      },
      "execution_count": null,
      "outputs": []
    },
    {
      "cell_type": "code",
      "source": [
        "df[\"tokenize\"]= df[\"sentence\"].apply(spacy_tokenizer3)"
      ],
      "metadata": {
        "id": "fwOLEI_ujWBq"
      },
      "execution_count": null,
      "outputs": []
    },
    {
      "cell_type": "code",
      "source": [
        "df[\"embeddings\"]=df[\"tokenize\"].apply(model.encode)"
      ],
      "metadata": {
        "id": "yYNbZJefjZ8H"
      },
      "execution_count": null,
      "outputs": []
    },
    {
      "cell_type": "code",
      "source": [
        "X = df[\"embeddings\"].to_list()\n",
        "y =df[\"difficulty\"].to_list()"
      ],
      "metadata": {
        "id": "gqAXmSljjbcH"
      },
      "execution_count": null,
      "outputs": []
    },
    {
      "cell_type": "code",
      "source": [
        "from sklearn.model_selection import train_test_split\n",
        "X_train, X_test, y_train, y_test = train_test_split(X, y, test_size=0.2, random_state=0)"
      ],
      "metadata": {
        "id": "16tJsxxqje_u"
      },
      "execution_count": null,
      "outputs": []
    },
    {
      "cell_type": "code",
      "source": [
        "from sklearn.linear_model import LogisticRegression\n",
        "LR = LogisticRegression(solver = \"saga\", multi_class = 'multinomial')\n",
        "LR.fit(X_train,y_train)"
      ],
      "metadata": {
        "id": "-3IKrANqjgwi"
      },
      "execution_count": null,
      "outputs": []
    },
    {
      "cell_type": "code",
      "source": [
        "from sklearn import metrics\n",
        "predicted = LR.predict(X_test)\n",
        "print(\"Logistic Regression Accuracy:\",metrics.accuracy_score(y_test, predicted))"
      ],
      "metadata": {
        "id": "BT85wJyXjiSb"
      },
      "execution_count": null,
      "outputs": []
    },
    {
      "cell_type": "markdown",
      "source": [
        "### F)Model using TensorFlow"
      ],
      "metadata": {
        "id": "PBmzSzblklRt"
      }
    },
    {
      "cell_type": "code",
      "source": [
        "import string\n",
        "import re\n",
        "\n",
        "import pandas as pd\n",
        "\n",
        "import spacy\n",
        "from spacy import displacy\n",
        "from spacy.lang.en.stop_words import STOP_WORDS\n",
        "from spacy.lang.en import English\n",
        "\n",
        "import nltk\n",
        "from nltk.tokenize import word_tokenize\n",
        "from nltk.stem import PorterStemmer, SnowballStemmer, WordNetLemmatizer\n",
        "nltk.download('punkt')\n",
        "\n",
        "import numpy as np\n",
        "\n",
        "import matplotlib.pyplot as plt\n",
        "\n",
        "import seaborn as sns\n",
        "\n",
        "from sklearn.base import TransformerMixin\n",
        "from sklearn.pipeline import Pipeline\n",
        "from sklearn.preprocessing import OrdinalEncoder, OneHotEncoder, LabelEncoder\n",
        "from sklearn.model_selection import train_test_split, GridSearchCV\n",
        "from sklearn.ensemble import RandomForestClassifier, GradientBoostingClassifier\n",
        "from sklearn.linear_model import LogisticRegression, LogisticRegressionCV, RidgeClassifier, Perceptron\n",
        "from sklearn.svm import LinearSVC\n",
        "from sklearn.feature_extraction.text import CountVectorizer, TfidfVectorizer\n",
        "from sklearn.utils.multiclass import unique_labels\n",
        "from sklearn.neighbors import KNeighborsClassifier\n",
        "from sklearn.tree import DecisionTreeClassifier\n",
        "from sklearn.metrics import recall_score, precision_score, f1_score, accuracy_score, confusion_matrix, ConfusionMatrixDisplay\n",
        "\n",
        "\n",
        "\n",
        "np.random.seed = 0\n",
        "\n",
        "def evaluate(y_true, pred):\n",
        "  \"\"\"\n",
        "  This method calculates the model performance metrics. Since it is a multi-class\n",
        "  classification, we decided to take the weighted average \n",
        "  for the metrics that are calculated for each class.\n",
        "\n",
        "  \"\"\"\n",
        "\n",
        "  report = {\n",
        "      'accuracy':accuracy_score(y_true, pred),\n",
        "      'recall':recall_score(y_true, pred, average='macro'),\n",
        "      'precision':precision_score(y_true, pred, average='macro'),\n",
        "      'f1_score':f1_score(y_true, pred, average='macro')\n",
        "  }\n",
        "\n",
        "  return report\n",
        "\n",
        "def plot_confusion_matrix(y_true, pred, model):\n",
        "  \n",
        "  \"\"\"\n",
        "  A method plotting the models into a confusion matrix.\n",
        "  \"\"\"\n",
        "\n",
        "  cf_matrix = confusion_matrix(y_test, pred)\n",
        "\n",
        "  disp = ConfusionMatrixDisplay(confusion_matrix=cf_matrix,\n",
        "                              display_labels=model.classes_)\n",
        "    \n",
        "  disp.plot()\n",
        "\n",
        "\n",
        "reports = {}\n"
      ],
      "metadata": {
        "id": "7Ls1CfWwkpjV"
      },
      "execution_count": null,
      "outputs": []
    },
    {
      "cell_type": "code",
      "source": [
        "# Download the french spacy model\n",
        "!python -m spacy download fr_core_news_md\n",
        "!python -m spacy download fr_core_news_sm"
      ],
      "metadata": {
        "id": "ssVqLvxKkqZS"
      },
      "execution_count": null,
      "outputs": []
    },
    {
      "cell_type": "code",
      "source": [
        "import numpy as np\n",
        "import matplotlib.pyplot as plt\n",
        "plt.style.use('ggplot')\n",
        "\n",
        "\n",
        "num_classes = len(df[\"difficulty\"].value_counts())\n",
        "\n",
        "colors = plt.cm.Dark2(np.linspace(0, 1, num_classes))\n",
        "iter_color = iter(colors)\n",
        "\n",
        "df['difficulty'].value_counts().plot.barh(title=\"Setences by Difficulty Level\", \n",
        "                                                 ylabel=\"Level\",\n",
        "                                                 color=colors,\n",
        "                                                 figsize=(9,9))\n",
        "\n",
        "for i, v in enumerate(df['difficulty'].value_counts()):\n",
        "  c = next(iter_color)\n",
        "  plt.text(v, i,\n",
        "           \" \"+str(v)+\", \"+str(round(v*100/df.shape[0],2))+\"%\", \n",
        "           color=c, \n",
        "           va='center', \n",
        "           fontweight='bold')"
      ],
      "metadata": {
        "id": "a16Ewb7Qkten"
      },
      "execution_count": null,
      "outputs": []
    },
    {
      "cell_type": "code",
      "source": [
        "# map topic descriptions to labels\n",
        "df['Level'] = df['difficulty'].map({'A1': 0,\n",
        "                                    'A2': 1,\n",
        "                                    'B1': 2,\n",
        "                                    'B2': 3,\n",
        "                                    'C1': 4,\n",
        "                                    'C2': 5,})\n",
        "\n",
        "# drop unused column\n",
        "df = df.drop([\"difficulty\"], axis=1)\n",
        "\n",
        "df.head()"
      ],
      "metadata": {
        "id": "pVrQDJwykxJS"
      },
      "execution_count": null,
      "outputs": []
    },
    {
      "cell_type": "code",
      "source": [
        "import tensorflow as tf\n",
        "from sklearn.model_selection import train_test_split\n",
        "\n",
        "y = tf.keras.utils.to_categorical(df[\"Level\"].values, num_classes=num_classes)\n",
        "\n",
        "x_train, x_test, y_train, y_test = train_test_split(df['sentence'], y, test_size=0.2)"
      ],
      "metadata": {
        "id": "U5eFPNnOkyop"
      },
      "execution_count": null,
      "outputs": []
    },
    {
      "cell_type": "code",
      "source": [
        "!pip install tensorflow_hub\n",
        "!pip install tensorflow_text"
      ],
      "metadata": {
        "id": "F4jucYgkk0Mq"
      },
      "execution_count": null,
      "outputs": []
    },
    {
      "cell_type": "code",
      "source": [
        "import tensorflow_hub as hub\n",
        "import tensorflow_text as text\n",
        "\n",
        "\n",
        "preprocessor = hub.KerasLayer(\"https://tfhub.dev/google/universal-sentence-encoder-cmlm/multilingual-preprocess/2\")\n",
        "preprocessor_2 = hub.KerasLayer(\"https://tfhub.dev/google/wiki40b-lm-fr/1\")\n",
        "encoder = hub.KerasLayer(\"https://tfhub.dev/google/universal-sentence-encoder-cmlm/multilingual-base/1\")\n",
        "\n",
        "\n",
        "def get_embeddings(sentences):\n",
        "  '''return BERT-like embeddings of input text\n",
        "  Args:\n",
        "    - sentences: list of strings\n",
        "  Output:\n",
        "    - BERT-like embeddings: tf.Tensor of shape=(len(sentences), 768)\n",
        "  '''\n",
        "  preprocessed_text = preprocessor(sentences)\n",
        "  return encoder(preprocessed_text)['pooled_output']\n",
        "\n",
        "\n",
        "get_embeddings([\n",
        "    \"Les coûts kilométriques réels peuvent diverger sensiblement des valeurs moyennes en fonction du moyen de transport utilisé, du taux d'occupation ou du taux de remplissage, de l'infrastructure utilisée, de la topographie des lignes, du flux de trafic, etc.\"]\n",
        ")"
      ],
      "metadata": {
        "id": "DLP_T86wk24y"
      },
      "execution_count": null,
      "outputs": []
    },
    {
      "cell_type": "code",
      "source": [
        "from keras import backend as K\n",
        "\n",
        "def balanced_recall(y_true, y_pred):\n",
        "    \"\"\"This function calculates the balanced recall metric\n",
        "    recall = TP / (TP + FN)\n",
        "    \"\"\"\n",
        "    recall_by_class = 0\n",
        "    # iterate over each predicted class to get class-specific metric\n",
        "    for i in range(y_pred.shape[1]):\n",
        "        y_pred_class = y_pred[:, i]\n",
        "        y_true_class = y_true[:, i]\n",
        "        true_positives = K.sum(K.round(K.clip(y_true_class * y_pred_class, 0, 1)))\n",
        "        possible_positives = K.sum(K.round(K.clip(y_true_class, 0, 1)))\n",
        "        recall = true_positives / (possible_positives + K.epsilon())\n",
        "        recall_by_class = recall_by_class + recall\n",
        "    return recall_by_class / y_pred.shape[1]\n",
        "\n",
        "def balanced_precision(y_true, y_pred):\n",
        "    \"\"\"This function calculates the balanced precision metric\n",
        "    precision = TP / (TP + FP)\n",
        "    \"\"\"\n",
        "    precision_by_class = 0\n",
        "    # iterate over each predicted class to get class-specific metric\n",
        "    for i in range(y_pred.shape[1]):\n",
        "        y_pred_class = y_pred[:, i]\n",
        "        y_true_class = y_true[:, i]\n",
        "        true_positives = K.sum(K.round(K.clip(y_true_class * y_pred_class, 0, 1)))\n",
        "        predicted_positives = K.sum(K.round(K.clip(y_pred_class, 0, 1)))\n",
        "        precision = true_positives / (predicted_positives + K.epsilon())\n",
        "        precision_by_class = precision_by_class + precision\n",
        "    # return average balanced metric for each class\n",
        "    return precision_by_class / y_pred.shape[1]\n",
        "\n",
        "def balanced_f1_score(y_true, y_pred):\n",
        "    \"\"\"This function calculates the F1 score metric\"\"\"\n",
        "    precision = balanced_precision(y_true, y_pred)\n",
        "    recall = balanced_recall(y_true, y_pred)\n",
        "    return 2 * ((precision * recall) / (precision + recall + K.epsilon()))"
      ],
      "metadata": {
        "id": "AE3_KG_ak4uf"
      },
      "execution_count": null,
      "outputs": []
    },
    {
      "cell_type": "code",
      "source": [
        "i = tf.keras.layers.Input(shape=(), dtype=tf.string, name='text')\n",
        "x = preprocessor_2(i)\n",
        "x = encoder(x)\n",
        "x = tf.keras.layers.Dropout(0.2, name=\"dropout\")(x['pooled_output'])\n",
        "x = tf.keras.layers.Dense(num_classes, activation='softmax', name=\"output\")(x)\n",
        "\n",
        "model = tf.keras.Model(i, x)"
      ],
      "metadata": {
        "id": "J0mkjE9Fk--H"
      },
      "execution_count": null,
      "outputs": []
    },
    {
      "cell_type": "code",
      "source": [
        "n_epochs = 20\n",
        "\n",
        "METRICS = [\n",
        "      tf.keras.metrics.CategoricalAccuracy(name=\"accuracy\"),\n",
        "      balanced_recall,\n",
        "      balanced_precision,\n",
        "      balanced_f1_score\n",
        "]\n",
        "\n",
        "earlystop_callback = tf.keras.callbacks.EarlyStopping(monitor = \"val_loss\", \n",
        "                                                     patience = 3,\n",
        "                                                     restore_best_weights = True,\n",
        "                                                      start_from_epoch=3)\n",
        "\n",
        "model.compile(optimizer = \"adam\",\n",
        "              loss = \"categorical_crossentropy\",\n",
        "              metrics = METRICS)\n",
        "#model.compile(\n",
        "#    optimizer=tf.keras.optimizers.Adam(3e-5),\n",
        "#    loss=tf.keras.losses.SparseCategoricalCrossentropy(from_logits=True),\n",
        "#    metrics=['accuracy']\n",
        "#)\n",
        "\n",
        "\n",
        "\n",
        "model_fit = model.fit(x_train, \n",
        "                      y_train, \n",
        "                      epochs = n_epochs,\n",
        "                      validation_data = (x_test, y_test),\n",
        "                      callbacks = [earlystop_callback])"
      ],
      "metadata": {
        "id": "MyuHMJY_lDjY"
      },
      "execution_count": null,
      "outputs": []
    },
    {
      "cell_type": "code",
      "source": [
        "df_unlabeled = df_test = pd.read_csv('/content/unlabelled_test_data.csv')\n",
        "df_unlabeled [\"tokenize\"]= df_unlabeled [\"sentence\"].apply(spacy_tokenizer3)\n",
        "def predict_class(reviews):\n",
        "  '''predict class of input text\n",
        "  Args:\n",
        "    - reviews (list of strings)\n",
        "  Output:\n",
        "    - class (list of int)\n",
        "  '''\n",
        "  return [np.argmax(pred) for pred in model.predict(reviews)]\n",
        "\n",
        "\n",
        "predict_class(df_unlabeled[\"tokenize\"])"
      ],
      "metadata": {
        "id": "I7-ESmRPlFWT"
      },
      "execution_count": null,
      "outputs": []
    },
    {
      "cell_type": "code",
      "source": [
        "predictions_to_submit = pd.DataFrame(predict_class(df_unlabeled[\"sentence\"]))\n",
        "predictions_to_submit.columns = ['difficulty']"
      ],
      "metadata": {
        "id": "0b-s-O2MlG_P"
      },
      "execution_count": null,
      "outputs": []
    },
    {
      "cell_type": "code",
      "source": [
        "predictions_to_submit"
      ],
      "metadata": {
        "id": "nejLMsDXlJ4j"
      },
      "execution_count": null,
      "outputs": []
    },
    {
      "cell_type": "code",
      "source": [
        "predictions_to_submit['difficulty'] = predictions_to_submit['difficulty'].map({0: \"A1\",\n",
        "                                    1: 'A2',\n",
        "                                    2: 'B1',\n",
        "                                    3: 'B2',\n",
        "                                    4: 'C1',\n",
        "                                    5: 'C2'})\n",
        "predictions_to_submit = predictions_to_submit.rename_axis(\"id\")\n",
        "predictions_to_submit"
      ],
      "metadata": {
        "id": "aAB6sMgslLVD"
      },
      "execution_count": null,
      "outputs": []
    },
    {
      "cell_type": "code",
      "source": [
        "predictions_to_submit.to_csv(\"Geneva_predictions_BertTensor7.csv\")"
      ],
      "metadata": {
        "id": "A5nppwNFlNIh"
      },
      "execution_count": null,
      "outputs": []
    },
    {
      "cell_type": "markdown",
      "source": [
        "### G) Code for submission"
      ],
      "metadata": {
        "id": "rAdCMFVIyKpf"
      }
    },
    {
      "cell_type": "markdown",
      "source": [],
      "metadata": {
        "id": "LFcJv6lJlmJ1"
      }
    },
    {
      "cell_type": "markdown",
      "source": [
        "###First Submission"
      ],
      "metadata": {
        "id": "_L406M1cGfnK"
      }
    },
    {
      "cell_type": "code",
      "source": [
        "# Used the best model in terms of accuracy\n",
        "geneva_predictions_ridge_nltk = ridge_nltk_pipe.predict(df_unlabeled[\"sentence\"])\n",
        "\n",
        "first_submission = pd.DataFrame(geneva_predictions_ridge_nltk,columns=[\"difficulty\"])\n",
        "first_submission = first_submission.rename_axis(\"id\")\n",
        "\n",
        "first_submission.to_csv(\"Geneva_predictions_ridge_nltk.csv\") "
      ],
      "metadata": {
        "id": "oePisZbr23qM"
      },
      "execution_count": null,
      "outputs": []
    },
    {
      "cell_type": "code",
      "source": [
        "first_submission"
      ],
      "metadata": {
        "id": "xPDg-pTf5ld3",
        "colab": {
          "base_uri": "https://localhost:8080/",
          "height": 455
        },
        "outputId": "85810fd6-dbac-41ff-8453-cfa4ce604d62"
      },
      "execution_count": null,
      "outputs": [
        {
          "output_type": "execute_result",
          "data": {
            "text/plain": [
              "     difficulty\n",
              "id             \n",
              "0            C2\n",
              "1            A2\n",
              "2            A1\n",
              "3            B1\n",
              "4            C2\n",
              "...         ...\n",
              "1195         B1\n",
              "1196         A2\n",
              "1197         C2\n",
              "1198         C1\n",
              "1199         A1\n",
              "\n",
              "[1200 rows x 1 columns]"
            ],
            "text/html": [
              "\n",
              "  <div id=\"df-6f2b8300-0a56-4bb3-826a-928d35526e15\">\n",
              "    <div class=\"colab-df-container\">\n",
              "      <div>\n",
              "<style scoped>\n",
              "    .dataframe tbody tr th:only-of-type {\n",
              "        vertical-align: middle;\n",
              "    }\n",
              "\n",
              "    .dataframe tbody tr th {\n",
              "        vertical-align: top;\n",
              "    }\n",
              "\n",
              "    .dataframe thead th {\n",
              "        text-align: right;\n",
              "    }\n",
              "</style>\n",
              "<table border=\"1\" class=\"dataframe\">\n",
              "  <thead>\n",
              "    <tr style=\"text-align: right;\">\n",
              "      <th></th>\n",
              "      <th>difficulty</th>\n",
              "    </tr>\n",
              "    <tr>\n",
              "      <th>id</th>\n",
              "      <th></th>\n",
              "    </tr>\n",
              "  </thead>\n",
              "  <tbody>\n",
              "    <tr>\n",
              "      <th>0</th>\n",
              "      <td>C2</td>\n",
              "    </tr>\n",
              "    <tr>\n",
              "      <th>1</th>\n",
              "      <td>A2</td>\n",
              "    </tr>\n",
              "    <tr>\n",
              "      <th>2</th>\n",
              "      <td>A1</td>\n",
              "    </tr>\n",
              "    <tr>\n",
              "      <th>3</th>\n",
              "      <td>B1</td>\n",
              "    </tr>\n",
              "    <tr>\n",
              "      <th>4</th>\n",
              "      <td>C2</td>\n",
              "    </tr>\n",
              "    <tr>\n",
              "      <th>...</th>\n",
              "      <td>...</td>\n",
              "    </tr>\n",
              "    <tr>\n",
              "      <th>1195</th>\n",
              "      <td>B1</td>\n",
              "    </tr>\n",
              "    <tr>\n",
              "      <th>1196</th>\n",
              "      <td>A2</td>\n",
              "    </tr>\n",
              "    <tr>\n",
              "      <th>1197</th>\n",
              "      <td>C2</td>\n",
              "    </tr>\n",
              "    <tr>\n",
              "      <th>1198</th>\n",
              "      <td>C1</td>\n",
              "    </tr>\n",
              "    <tr>\n",
              "      <th>1199</th>\n",
              "      <td>A1</td>\n",
              "    </tr>\n",
              "  </tbody>\n",
              "</table>\n",
              "<p>1200 rows × 1 columns</p>\n",
              "</div>\n",
              "      <button class=\"colab-df-convert\" onclick=\"convertToInteractive('df-6f2b8300-0a56-4bb3-826a-928d35526e15')\"\n",
              "              title=\"Convert this dataframe to an interactive table.\"\n",
              "              style=\"display:none;\">\n",
              "        \n",
              "  <svg xmlns=\"http://www.w3.org/2000/svg\" height=\"24px\"viewBox=\"0 0 24 24\"\n",
              "       width=\"24px\">\n",
              "    <path d=\"M0 0h24v24H0V0z\" fill=\"none\"/>\n",
              "    <path d=\"M18.56 5.44l.94 2.06.94-2.06 2.06-.94-2.06-.94-.94-2.06-.94 2.06-2.06.94zm-11 1L8.5 8.5l.94-2.06 2.06-.94-2.06-.94L8.5 2.5l-.94 2.06-2.06.94zm10 10l.94 2.06.94-2.06 2.06-.94-2.06-.94-.94-2.06-.94 2.06-2.06.94z\"/><path d=\"M17.41 7.96l-1.37-1.37c-.4-.4-.92-.59-1.43-.59-.52 0-1.04.2-1.43.59L10.3 9.45l-7.72 7.72c-.78.78-.78 2.05 0 2.83L4 21.41c.39.39.9.59 1.41.59.51 0 1.02-.2 1.41-.59l7.78-7.78 2.81-2.81c.8-.78.8-2.07 0-2.86zM5.41 20L4 18.59l7.72-7.72 1.47 1.35L5.41 20z\"/>\n",
              "  </svg>\n",
              "      </button>\n",
              "      \n",
              "  <style>\n",
              "    .colab-df-container {\n",
              "      display:flex;\n",
              "      flex-wrap:wrap;\n",
              "      gap: 12px;\n",
              "    }\n",
              "\n",
              "    .colab-df-convert {\n",
              "      background-color: #E8F0FE;\n",
              "      border: none;\n",
              "      border-radius: 50%;\n",
              "      cursor: pointer;\n",
              "      display: none;\n",
              "      fill: #1967D2;\n",
              "      height: 32px;\n",
              "      padding: 0 0 0 0;\n",
              "      width: 32px;\n",
              "    }\n",
              "\n",
              "    .colab-df-convert:hover {\n",
              "      background-color: #E2EBFA;\n",
              "      box-shadow: 0px 1px 2px rgba(60, 64, 67, 0.3), 0px 1px 3px 1px rgba(60, 64, 67, 0.15);\n",
              "      fill: #174EA6;\n",
              "    }\n",
              "\n",
              "    [theme=dark] .colab-df-convert {\n",
              "      background-color: #3B4455;\n",
              "      fill: #D2E3FC;\n",
              "    }\n",
              "\n",
              "    [theme=dark] .colab-df-convert:hover {\n",
              "      background-color: #434B5C;\n",
              "      box-shadow: 0px 1px 3px 1px rgba(0, 0, 0, 0.15);\n",
              "      filter: drop-shadow(0px 1px 2px rgba(0, 0, 0, 0.3));\n",
              "      fill: #FFFFFF;\n",
              "    }\n",
              "  </style>\n",
              "\n",
              "      <script>\n",
              "        const buttonEl =\n",
              "          document.querySelector('#df-6f2b8300-0a56-4bb3-826a-928d35526e15 button.colab-df-convert');\n",
              "        buttonEl.style.display =\n",
              "          google.colab.kernel.accessAllowed ? 'block' : 'none';\n",
              "\n",
              "        async function convertToInteractive(key) {\n",
              "          const element = document.querySelector('#df-6f2b8300-0a56-4bb3-826a-928d35526e15');\n",
              "          const dataTable =\n",
              "            await google.colab.kernel.invokeFunction('convertToInteractive',\n",
              "                                                     [key], {});\n",
              "          if (!dataTable) return;\n",
              "\n",
              "          const docLinkHtml = 'Like what you see? Visit the ' +\n",
              "            '<a target=\"_blank\" href=https://colab.research.google.com/notebooks/data_table.ipynb>data table notebook</a>'\n",
              "            + ' to learn more about interactive tables.';\n",
              "          element.innerHTML = '';\n",
              "          dataTable['output_type'] = 'display_data';\n",
              "          await google.colab.output.renderOutput(dataTable, element);\n",
              "          const docLink = document.createElement('div');\n",
              "          docLink.innerHTML = docLinkHtml;\n",
              "          element.appendChild(docLink);\n",
              "        }\n",
              "      </script>\n",
              "    </div>\n",
              "  </div>\n",
              "  "
            ]
          },
          "metadata": {},
          "execution_count": 103
        }
      ]
    },
    {
      "cell_type": "markdown",
      "source": [
        "###Second Submission"
      ],
      "metadata": {
        "id": "Tjt9Ru5-GkXU"
      }
    },
    {
      "cell_type": "code",
      "source": [
        "# Used the best model in terms of accuracy\n",
        "geneva_predictions_sgd_nltk = sgd_nltk_pipe.predict(df_unlabeled[\"sentence\"])\n",
        "\n",
        "second_submission = pd.DataFrame(geneva_predictions_sgd_nltk ,columns=[\"difficulty\"])\n",
        "second_submission = second_submission.rename_axis(\"id\")\n",
        "\n",
        "second_submission.to_csv(\"Geneva_predictions_sgd_nltk.csv\") "
      ],
      "metadata": {
        "id": "VnXknOGGGnBf"
      },
      "execution_count": null,
      "outputs": []
    },
    {
      "cell_type": "code",
      "source": [
        "second_submission"
      ],
      "metadata": {
        "id": "LOkOMUhJG5ql",
        "colab": {
          "base_uri": "https://localhost:8080/",
          "height": 537
        },
        "outputId": "320b84ff-ca23-4e82-ac2e-2f53a140c97d"
      },
      "execution_count": null,
      "outputs": [
        {
          "output_type": "execute_result",
          "data": {
            "text/plain": [
              "     difficulty\n",
              "id             \n",
              "0            C2\n",
              "1            A2\n",
              "2            A1\n",
              "3            B1\n",
              "4            C2\n",
              "...         ...\n",
              "1195         B1\n",
              "1196         A2\n",
              "1197         C2\n",
              "1198         A1\n",
              "1199         B2\n",
              "\n",
              "[1200 rows x 1 columns]"
            ],
            "text/html": [
              "\n",
              "  <div id=\"df-7af1f1c5-6dc8-4bd2-a4ca-6548e8a68da6\">\n",
              "    <div class=\"colab-df-container\">\n",
              "      <div>\n",
              "<style scoped>\n",
              "    .dataframe tbody tr th:only-of-type {\n",
              "        vertical-align: middle;\n",
              "    }\n",
              "\n",
              "    .dataframe tbody tr th {\n",
              "        vertical-align: top;\n",
              "    }\n",
              "\n",
              "    .dataframe thead th {\n",
              "        text-align: right;\n",
              "    }\n",
              "</style>\n",
              "<table border=\"1\" class=\"dataframe\">\n",
              "  <thead>\n",
              "    <tr style=\"text-align: right;\">\n",
              "      <th></th>\n",
              "      <th>difficulty</th>\n",
              "    </tr>\n",
              "    <tr>\n",
              "      <th>id</th>\n",
              "      <th></th>\n",
              "    </tr>\n",
              "  </thead>\n",
              "  <tbody>\n",
              "    <tr>\n",
              "      <th>0</th>\n",
              "      <td>C2</td>\n",
              "    </tr>\n",
              "    <tr>\n",
              "      <th>1</th>\n",
              "      <td>A2</td>\n",
              "    </tr>\n",
              "    <tr>\n",
              "      <th>2</th>\n",
              "      <td>A1</td>\n",
              "    </tr>\n",
              "    <tr>\n",
              "      <th>3</th>\n",
              "      <td>B1</td>\n",
              "    </tr>\n",
              "    <tr>\n",
              "      <th>4</th>\n",
              "      <td>C2</td>\n",
              "    </tr>\n",
              "    <tr>\n",
              "      <th>...</th>\n",
              "      <td>...</td>\n",
              "    </tr>\n",
              "    <tr>\n",
              "      <th>1195</th>\n",
              "      <td>B1</td>\n",
              "    </tr>\n",
              "    <tr>\n",
              "      <th>1196</th>\n",
              "      <td>A2</td>\n",
              "    </tr>\n",
              "    <tr>\n",
              "      <th>1197</th>\n",
              "      <td>C2</td>\n",
              "    </tr>\n",
              "    <tr>\n",
              "      <th>1198</th>\n",
              "      <td>A1</td>\n",
              "    </tr>\n",
              "    <tr>\n",
              "      <th>1199</th>\n",
              "      <td>B2</td>\n",
              "    </tr>\n",
              "  </tbody>\n",
              "</table>\n",
              "<p>1200 rows × 1 columns</p>\n",
              "</div>\n",
              "      <button class=\"colab-df-convert\" onclick=\"convertToInteractive('df-7af1f1c5-6dc8-4bd2-a4ca-6548e8a68da6')\"\n",
              "              title=\"Convert this dataframe to an interactive table.\"\n",
              "              style=\"display:none;\">\n",
              "        \n",
              "  <svg xmlns=\"http://www.w3.org/2000/svg\" height=\"24px\"viewBox=\"0 0 24 24\"\n",
              "       width=\"24px\">\n",
              "    <path d=\"M0 0h24v24H0V0z\" fill=\"none\"/>\n",
              "    <path d=\"M18.56 5.44l.94 2.06.94-2.06 2.06-.94-2.06-.94-.94-2.06-.94 2.06-2.06.94zm-11 1L8.5 8.5l.94-2.06 2.06-.94-2.06-.94L8.5 2.5l-.94 2.06-2.06.94zm10 10l.94 2.06.94-2.06 2.06-.94-2.06-.94-.94-2.06-.94 2.06-2.06.94z\"/><path d=\"M17.41 7.96l-1.37-1.37c-.4-.4-.92-.59-1.43-.59-.52 0-1.04.2-1.43.59L10.3 9.45l-7.72 7.72c-.78.78-.78 2.05 0 2.83L4 21.41c.39.39.9.59 1.41.59.51 0 1.02-.2 1.41-.59l7.78-7.78 2.81-2.81c.8-.78.8-2.07 0-2.86zM5.41 20L4 18.59l7.72-7.72 1.47 1.35L5.41 20z\"/>\n",
              "  </svg>\n",
              "      </button>\n",
              "      \n",
              "  <style>\n",
              "    .colab-df-container {\n",
              "      display:flex;\n",
              "      flex-wrap:wrap;\n",
              "      gap: 12px;\n",
              "    }\n",
              "\n",
              "    .colab-df-convert {\n",
              "      background-color: #E8F0FE;\n",
              "      border: none;\n",
              "      border-radius: 50%;\n",
              "      cursor: pointer;\n",
              "      display: none;\n",
              "      fill: #1967D2;\n",
              "      height: 32px;\n",
              "      padding: 0 0 0 0;\n",
              "      width: 32px;\n",
              "    }\n",
              "\n",
              "    .colab-df-convert:hover {\n",
              "      background-color: #E2EBFA;\n",
              "      box-shadow: 0px 1px 2px rgba(60, 64, 67, 0.3), 0px 1px 3px 1px rgba(60, 64, 67, 0.15);\n",
              "      fill: #174EA6;\n",
              "    }\n",
              "\n",
              "    [theme=dark] .colab-df-convert {\n",
              "      background-color: #3B4455;\n",
              "      fill: #D2E3FC;\n",
              "    }\n",
              "\n",
              "    [theme=dark] .colab-df-convert:hover {\n",
              "      background-color: #434B5C;\n",
              "      box-shadow: 0px 1px 3px 1px rgba(0, 0, 0, 0.15);\n",
              "      filter: drop-shadow(0px 1px 2px rgba(0, 0, 0, 0.3));\n",
              "      fill: #FFFFFF;\n",
              "    }\n",
              "  </style>\n",
              "\n",
              "      <script>\n",
              "        const buttonEl =\n",
              "          document.querySelector('#df-7af1f1c5-6dc8-4bd2-a4ca-6548e8a68da6 button.colab-df-convert');\n",
              "        buttonEl.style.display =\n",
              "          google.colab.kernel.accessAllowed ? 'block' : 'none';\n",
              "\n",
              "        async function convertToInteractive(key) {\n",
              "          const element = document.querySelector('#df-7af1f1c5-6dc8-4bd2-a4ca-6548e8a68da6');\n",
              "          const dataTable =\n",
              "            await google.colab.kernel.invokeFunction('convertToInteractive',\n",
              "                                                     [key], {});\n",
              "          if (!dataTable) return;\n",
              "\n",
              "          const docLinkHtml = 'Like what you see? Visit the ' +\n",
              "            '<a target=\"_blank\" href=https://colab.research.google.com/notebooks/data_table.ipynb>data table notebook</a>'\n",
              "            + ' to learn more about interactive tables.';\n",
              "          element.innerHTML = '';\n",
              "          dataTable['output_type'] = 'display_data';\n",
              "          await google.colab.output.renderOutput(dataTable, element);\n",
              "          const docLink = document.createElement('div');\n",
              "          docLink.innerHTML = docLinkHtml;\n",
              "          element.appendChild(docLink);\n",
              "        }\n",
              "      </script>\n",
              "    </div>\n",
              "  </div>\n",
              "  "
            ]
          },
          "metadata": {},
          "execution_count": 105
        }
      ]
    },
    {
      "cell_type": "markdown",
      "source": [
        "###Third Submission"
      ],
      "metadata": {
        "id": "sJ_A3S6mR3SZ"
      }
    },
    {
      "cell_type": "code",
      "source": [
        "# Used the best model in terms of accuracy\n",
        "geneva_predictions_LR_nltk = LR_nltk_pipe.predict(df_unlabeled[\"sentence\"])\n",
        "\n",
        "third_submission = pd.DataFrame(geneva_predictions_LR_nltk ,columns=[\"difficulty\"])\n",
        "third_submission = third_submission.rename_axis(\"id\")\n",
        "\n",
        "third_submission.to_csv(\"Geneva_predictions_LR_nltk.csv\") "
      ],
      "metadata": {
        "id": "9mev4T8YR6Ky"
      },
      "execution_count": null,
      "outputs": []
    },
    {
      "cell_type": "code",
      "source": [
        "third_submission"
      ],
      "metadata": {
        "id": "rB1m0gBlR-ZK",
        "colab": {
          "base_uri": "https://localhost:8080/",
          "height": 537
        },
        "outputId": "1c17adab-5009-405e-86d7-80110fe54da1"
      },
      "execution_count": null,
      "outputs": [
        {
          "output_type": "execute_result",
          "data": {
            "text/plain": [
              "     difficulty\n",
              "id             \n",
              "0            C2\n",
              "1            A2\n",
              "2            A1\n",
              "3            B1\n",
              "4            C2\n",
              "...         ...\n",
              "1195         B1\n",
              "1196         A2\n",
              "1197         C2\n",
              "1198         A1\n",
              "1199         B1\n",
              "\n",
              "[1200 rows x 1 columns]"
            ],
            "text/html": [
              "\n",
              "  <div id=\"df-75366baf-db67-4ee4-8726-cb16e32efd53\">\n",
              "    <div class=\"colab-df-container\">\n",
              "      <div>\n",
              "<style scoped>\n",
              "    .dataframe tbody tr th:only-of-type {\n",
              "        vertical-align: middle;\n",
              "    }\n",
              "\n",
              "    .dataframe tbody tr th {\n",
              "        vertical-align: top;\n",
              "    }\n",
              "\n",
              "    .dataframe thead th {\n",
              "        text-align: right;\n",
              "    }\n",
              "</style>\n",
              "<table border=\"1\" class=\"dataframe\">\n",
              "  <thead>\n",
              "    <tr style=\"text-align: right;\">\n",
              "      <th></th>\n",
              "      <th>difficulty</th>\n",
              "    </tr>\n",
              "    <tr>\n",
              "      <th>id</th>\n",
              "      <th></th>\n",
              "    </tr>\n",
              "  </thead>\n",
              "  <tbody>\n",
              "    <tr>\n",
              "      <th>0</th>\n",
              "      <td>C2</td>\n",
              "    </tr>\n",
              "    <tr>\n",
              "      <th>1</th>\n",
              "      <td>A2</td>\n",
              "    </tr>\n",
              "    <tr>\n",
              "      <th>2</th>\n",
              "      <td>A1</td>\n",
              "    </tr>\n",
              "    <tr>\n",
              "      <th>3</th>\n",
              "      <td>B1</td>\n",
              "    </tr>\n",
              "    <tr>\n",
              "      <th>4</th>\n",
              "      <td>C2</td>\n",
              "    </tr>\n",
              "    <tr>\n",
              "      <th>...</th>\n",
              "      <td>...</td>\n",
              "    </tr>\n",
              "    <tr>\n",
              "      <th>1195</th>\n",
              "      <td>B1</td>\n",
              "    </tr>\n",
              "    <tr>\n",
              "      <th>1196</th>\n",
              "      <td>A2</td>\n",
              "    </tr>\n",
              "    <tr>\n",
              "      <th>1197</th>\n",
              "      <td>C2</td>\n",
              "    </tr>\n",
              "    <tr>\n",
              "      <th>1198</th>\n",
              "      <td>A1</td>\n",
              "    </tr>\n",
              "    <tr>\n",
              "      <th>1199</th>\n",
              "      <td>B1</td>\n",
              "    </tr>\n",
              "  </tbody>\n",
              "</table>\n",
              "<p>1200 rows × 1 columns</p>\n",
              "</div>\n",
              "      <button class=\"colab-df-convert\" onclick=\"convertToInteractive('df-75366baf-db67-4ee4-8726-cb16e32efd53')\"\n",
              "              title=\"Convert this dataframe to an interactive table.\"\n",
              "              style=\"display:none;\">\n",
              "        \n",
              "  <svg xmlns=\"http://www.w3.org/2000/svg\" height=\"24px\"viewBox=\"0 0 24 24\"\n",
              "       width=\"24px\">\n",
              "    <path d=\"M0 0h24v24H0V0z\" fill=\"none\"/>\n",
              "    <path d=\"M18.56 5.44l.94 2.06.94-2.06 2.06-.94-2.06-.94-.94-2.06-.94 2.06-2.06.94zm-11 1L8.5 8.5l.94-2.06 2.06-.94-2.06-.94L8.5 2.5l-.94 2.06-2.06.94zm10 10l.94 2.06.94-2.06 2.06-.94-2.06-.94-.94-2.06-.94 2.06-2.06.94z\"/><path d=\"M17.41 7.96l-1.37-1.37c-.4-.4-.92-.59-1.43-.59-.52 0-1.04.2-1.43.59L10.3 9.45l-7.72 7.72c-.78.78-.78 2.05 0 2.83L4 21.41c.39.39.9.59 1.41.59.51 0 1.02-.2 1.41-.59l7.78-7.78 2.81-2.81c.8-.78.8-2.07 0-2.86zM5.41 20L4 18.59l7.72-7.72 1.47 1.35L5.41 20z\"/>\n",
              "  </svg>\n",
              "      </button>\n",
              "      \n",
              "  <style>\n",
              "    .colab-df-container {\n",
              "      display:flex;\n",
              "      flex-wrap:wrap;\n",
              "      gap: 12px;\n",
              "    }\n",
              "\n",
              "    .colab-df-convert {\n",
              "      background-color: #E8F0FE;\n",
              "      border: none;\n",
              "      border-radius: 50%;\n",
              "      cursor: pointer;\n",
              "      display: none;\n",
              "      fill: #1967D2;\n",
              "      height: 32px;\n",
              "      padding: 0 0 0 0;\n",
              "      width: 32px;\n",
              "    }\n",
              "\n",
              "    .colab-df-convert:hover {\n",
              "      background-color: #E2EBFA;\n",
              "      box-shadow: 0px 1px 2px rgba(60, 64, 67, 0.3), 0px 1px 3px 1px rgba(60, 64, 67, 0.15);\n",
              "      fill: #174EA6;\n",
              "    }\n",
              "\n",
              "    [theme=dark] .colab-df-convert {\n",
              "      background-color: #3B4455;\n",
              "      fill: #D2E3FC;\n",
              "    }\n",
              "\n",
              "    [theme=dark] .colab-df-convert:hover {\n",
              "      background-color: #434B5C;\n",
              "      box-shadow: 0px 1px 3px 1px rgba(0, 0, 0, 0.15);\n",
              "      filter: drop-shadow(0px 1px 2px rgba(0, 0, 0, 0.3));\n",
              "      fill: #FFFFFF;\n",
              "    }\n",
              "  </style>\n",
              "\n",
              "      <script>\n",
              "        const buttonEl =\n",
              "          document.querySelector('#df-75366baf-db67-4ee4-8726-cb16e32efd53 button.colab-df-convert');\n",
              "        buttonEl.style.display =\n",
              "          google.colab.kernel.accessAllowed ? 'block' : 'none';\n",
              "\n",
              "        async function convertToInteractive(key) {\n",
              "          const element = document.querySelector('#df-75366baf-db67-4ee4-8726-cb16e32efd53');\n",
              "          const dataTable =\n",
              "            await google.colab.kernel.invokeFunction('convertToInteractive',\n",
              "                                                     [key], {});\n",
              "          if (!dataTable) return;\n",
              "\n",
              "          const docLinkHtml = 'Like what you see? Visit the ' +\n",
              "            '<a target=\"_blank\" href=https://colab.research.google.com/notebooks/data_table.ipynb>data table notebook</a>'\n",
              "            + ' to learn more about interactive tables.';\n",
              "          element.innerHTML = '';\n",
              "          dataTable['output_type'] = 'display_data';\n",
              "          await google.colab.output.renderOutput(dataTable, element);\n",
              "          const docLink = document.createElement('div');\n",
              "          docLink.innerHTML = docLinkHtml;\n",
              "          element.appendChild(docLink);\n",
              "        }\n",
              "      </script>\n",
              "    </div>\n",
              "  </div>\n",
              "  "
            ]
          },
          "metadata": {},
          "execution_count": 107
        }
      ]
    }
  ]
}