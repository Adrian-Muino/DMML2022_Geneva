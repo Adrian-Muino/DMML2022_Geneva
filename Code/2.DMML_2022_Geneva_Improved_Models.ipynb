{
  "nbformat": 4,
  "nbformat_minor": 0,
  "metadata": {
    "colab": {
      "provenance": [],
      "collapsed_sections": [
        "xBLCHLRyCeGs",
        "SaJyDpDGDOSH",
        "IekpHyvqEc2I",
        "rSSUB_4yFULp",
        "ldcy7ElvVSR1",
        "KzN8xnVIH7_x",
        "eFMo5IenItmy",
        "pueSQ8rlYosB",
        "C6Fs620Nd3SU",
        "dhR4y8HleKHr",
        "5b6ImOiulMPV",
        "renriEfumKb8",
        "itR2d-KYmXDn",
        "5Oxo9FQdm-yt",
        "2HS9KVtTn96m",
        "68VACqGYpZlX",
        "fPRNJKfephSr",
        "Z4oga3zwqhN_",
        "mpqEOZVcrTp2",
        "lGZSlO0arfgN",
        "qqjAMiqNsC1k",
        "_Zkc2GXSs8nG",
        "euLYn4nftBdG",
        "yu-MvkWV_l78",
        "St-SKAcf_rhS",
        "BLf2Bf0RAQcf",
        "q_9u9DjUEpNS",
        "l7ok-EGsEtLi",
        "GDPL0w9gEvZ6",
        "jbx_t0fdGPcJ",
        "4JXemBQBGZFU",
        "xo6oZsw1kh3x",
        "PBmzSzblklRt",
        "rAdCMFVIyKpf"
      ],
      "include_colab_link": true
    },
    "kernelspec": {
      "name": "python3",
      "display_name": "Python 3"
    },
    "language_info": {
      "name": "python"
    }
  },
  "cells": [
    {
      "cell_type": "markdown",
      "metadata": {
        "id": "view-in-github",
        "colab_type": "text"
      },
      "source": [
        "<a href=\"https://colab.research.google.com/github/Adrian-Muino/DMML2022_Geneva/blob/main/Code/2.DMML_2022_Geneva_Improved_Models.ipynb\" target=\"_parent\"><img src=\"https://colab.research.google.com/assets/colab-badge.svg\" alt=\"Open In Colab\"/></a>"
      ]
    },
    {
      "cell_type": "markdown",
      "source": [
        "#A. Introduction"
      ],
      "metadata": {
        "id": "Qlb7vJUtPiN7"
      }
    },
    {
      "cell_type": "markdown",
      "source": [
        "## Group project for Data Mining & Machine Learning course, at HEC UNIL 2022 (Geneva Group)\n",
        "This notebook is the second step we took on our journey for the competition in kaggle\n",
        "[Detecting the difficulty level of French texts](https://www.kaggle.com/competitions/detecting-french-texts-difficulty-level-2022).\n",
        "\n",
        "You can find all our work in the following [GitHub](https://github.com/Adrian-Muino/DMML2022_Geneva).\n",
        "\n",
        "In this notebook, we will try many differents classification models, including the ones that were mandatory, but this time with some data manipulation using two different natural language processing (NLP) library : Spacy and NLTK.\n",
        "\n",
        "\n",
        "<br/>**At this stage we setted our first submission in the competition achieving an accuracy of 0.4725 using the SGD classifier with NLTK NLP**\n"
      ],
      "metadata": {
        "id": "s8ZM9vz6AOcx"
      }
    },
    {
      "cell_type": "markdown",
      "source": [
        "##Table of content"
      ],
      "metadata": {
        "id": "NM4cHMyWzUeT"
      }
    },
    {
      "cell_type": "markdown",
      "source": [
        ">[A. Introduction](#scrollTo=Qlb7vJUtPiN7)\n",
        "\n",
        ">>[Group project for Data Mining & Machine Learning course, at HEC UNIL 2022 (Geneva Group)](#scrollTo=s8ZM9vz6AOcx)\n",
        "\n",
        ">>[Table of content](#scrollTo=NM4cHMyWzUeT)\n",
        "\n",
        ">[B. Prerequisites](#scrollTo=XYaduem1EpPn)\n",
        "\n",
        ">>[Installations](#scrollTo=pTjtXYKLQszM)\n",
        "\n",
        ">>[Imports](#scrollTo=xBLCHLRyCeGs)\n",
        "\n",
        ">[C. Environment set up & exploratory data analysis](#scrollTo=SaJyDpDGDOSH)\n",
        "\n",
        ">>[Loading the data](#scrollTo=IekpHyvqEc2I)\n",
        "\n",
        ">>[Data tables](#scrollTo=rSSUB_4yFULp)\n",
        "\n",
        ">>[Baseline](#scrollTo=ldcy7ElvVSR1)\n",
        "\n",
        ">[D. Tokenizer & vectorizer (using two different natural language toolkits)](#scrollTo=KzN8xnVIH7_x)\n",
        "\n",
        ">>[Spacy](#scrollTo=ecy6xgFrV31s)\n",
        "\n",
        ">>[NLTK](#scrollTo=7H_nhJnqV7ET)\n",
        "\n",
        ">>[Quick comparison](#scrollTo=TSgMJcPsJkaS)\n",
        "\n",
        ">[E. Classification models using the two different natural language tools (SPACY & NLTK)](#scrollTo=eFMo5IenItmy)\n",
        "\n",
        ">>[Logistic Regression](#scrollTo=emUVPfdlU_SE)\n",
        "\n",
        ">>>[With Spacy](#scrollTo=pueSQ8rlYosB)\n",
        "\n",
        ">>>[With NLTK](#scrollTo=dQpT9TzUZ64X)\n",
        "\n",
        ">>[kNN](#scrollTo=C6Fs620Nd3SU)\n",
        "\n",
        ">>>[With Spacy](#scrollTo=dhR4y8HleKHr)\n",
        "\n",
        ">>>[With NLTK](#scrollTo=5b6ImOiulMPV)\n",
        "\n",
        ">>[Decision Tree](#scrollTo=renriEfumKb8)\n",
        "\n",
        ">>>>[With Spacy](#scrollTo=itR2d-KYmXDn)\n",
        "\n",
        ">>>>[With NLTK](#scrollTo=5Oxo9FQdm-yt)\n",
        "\n",
        ">>[Random Forest](#scrollTo=2HS9KVtTn96m)\n",
        "\n",
        ">>>>[With Spacy](#scrollTo=68VACqGYpZlX)\n",
        "\n",
        ">>>>[With NLTK](#scrollTo=fPRNJKfephSr)\n",
        "\n",
        ">>[Ridge classifier](#scrollTo=Z4oga3zwqhN_)\n",
        "\n",
        ">>>>[With Spacy](#scrollTo=mpqEOZVcrTp2)\n",
        "\n",
        ">>>>[With NLTK](#scrollTo=lGZSlO0arfgN)\n",
        "\n",
        ">>[Perceptron classifier](#scrollTo=qqjAMiqNsC1k)\n",
        "\n",
        ">>>>[With Spacy](#scrollTo=_Zkc2GXSs8nG)\n",
        "\n",
        ">>>>[With NLTK](#scrollTo=euLYn4nftBdG)\n",
        "\n",
        ">>[GradientBoostingClassifier](#scrollTo=yu-MvkWV_l78)\n",
        "\n",
        ">>>>[With Spacy](#scrollTo=St-SKAcf_rhS)\n",
        "\n",
        ">>>>[With NLTK](#scrollTo=BLf2Bf0RAQcf)\n",
        "\n",
        ">>[XGB classifier](#scrollTo=q_9u9DjUEpNS)\n",
        "\n",
        ">>>>[With Spacy](#scrollTo=l7ok-EGsEtLi)\n",
        "\n",
        ">>>>[With NLTK](#scrollTo=GDPL0w9gEvZ6)\n",
        "\n",
        ">>[SGD Classifier](#scrollTo=A8kq3naOGMha)\n",
        "\n",
        ">>>>[With spacy](#scrollTo=jbx_t0fdGPcJ)\n",
        "\n",
        ">>>>[With NLTK](#scrollTo=4JXemBQBGZFU)\n",
        "\n",
        ">[F. Models Comparison](#scrollTo=XBVSdj5Btk-N)\n",
        "\n",
        ">[G. Some outcomes](#scrollTo=rAdCMFVIyKpf)\n",
        "\n",
        ">>>[First Submission (Real accuracy = 0.46166)](#scrollTo=_L406M1cGfnK)\n",
        "\n",
        ">>>[Second Submission (Real accuracy = 0.4725)](#scrollTo=Tjt9Ru5-GkXU)\n",
        "\n",
        ">>>[Third Submission (Real accuracy = 0.45666)](#scrollTo=sJ_A3S6mR3SZ)\n",
        "\n"
      ],
      "metadata": {
        "colab_type": "toc",
        "id": "W02rwKpHBdru"
      }
    },
    {
      "cell_type": "markdown",
      "source": [
        "#B. Prerequisites"
      ],
      "metadata": {
        "id": "XYaduem1EpPn"
      }
    },
    {
      "cell_type": "markdown",
      "source": [
        "##Installations"
      ],
      "metadata": {
        "id": "pTjtXYKLQszM"
      }
    },
    {
      "cell_type": "code",
      "source": [
        "#Installation\n",
        "!pip install sentence-transformers\n",
        "!python -m spacy download fr_core_news_sm\n",
        "!python -m spacy link fr_core_news_sm fr\n",
        "!python -m spacy download fr_core_news_md\n",
        "!pip install tensorflow_hub\n",
        "!pip install tensorflow_text"
      ],
      "metadata": {
        "id": "19GQo-C8C4DN",
        "colab": {
          "base_uri": "https://localhost:8080/"
        },
        "outputId": "bbf82c3a-f882-40c1-9f68-b0c587191228"
      },
      "execution_count": 1,
      "outputs": [
        {
          "output_type": "stream",
          "name": "stdout",
          "text": [
            "Looking in indexes: https://pypi.org/simple, https://us-python.pkg.dev/colab-wheels/public/simple/\n",
            "Collecting sentence-transformers\n",
            "  Downloading sentence-transformers-2.2.2.tar.gz (85 kB)\n",
            "\u001b[K     |████████████████████████████████| 85 kB 2.7 MB/s \n",
            "\u001b[?25hCollecting transformers<5.0.0,>=4.6.0\n",
            "  Downloading transformers-4.25.1-py3-none-any.whl (5.8 MB)\n",
            "\u001b[K     |████████████████████████████████| 5.8 MB 11.7 MB/s \n",
            "\u001b[?25hRequirement already satisfied: tqdm in /usr/local/lib/python3.8/dist-packages (from sentence-transformers) (4.64.1)\n",
            "Requirement already satisfied: torch>=1.6.0 in /usr/local/lib/python3.8/dist-packages (from sentence-transformers) (1.13.0+cu116)\n",
            "Requirement already satisfied: torchvision in /usr/local/lib/python3.8/dist-packages (from sentence-transformers) (0.14.0+cu116)\n",
            "Requirement already satisfied: numpy in /usr/local/lib/python3.8/dist-packages (from sentence-transformers) (1.21.6)\n",
            "Requirement already satisfied: scikit-learn in /usr/local/lib/python3.8/dist-packages (from sentence-transformers) (1.0.2)\n",
            "Requirement already satisfied: scipy in /usr/local/lib/python3.8/dist-packages (from sentence-transformers) (1.7.3)\n",
            "Requirement already satisfied: nltk in /usr/local/lib/python3.8/dist-packages (from sentence-transformers) (3.7)\n",
            "Collecting sentencepiece\n",
            "  Downloading sentencepiece-0.1.97-cp38-cp38-manylinux_2_17_x86_64.manylinux2014_x86_64.whl (1.3 MB)\n",
            "\u001b[K     |████████████████████████████████| 1.3 MB 67.5 MB/s \n",
            "\u001b[?25hCollecting huggingface-hub>=0.4.0\n",
            "  Downloading huggingface_hub-0.11.1-py3-none-any.whl (182 kB)\n",
            "\u001b[K     |████████████████████████████████| 182 kB 67.7 MB/s \n",
            "\u001b[?25hRequirement already satisfied: filelock in /usr/local/lib/python3.8/dist-packages (from huggingface-hub>=0.4.0->sentence-transformers) (3.8.2)\n",
            "Requirement already satisfied: packaging>=20.9 in /usr/local/lib/python3.8/dist-packages (from huggingface-hub>=0.4.0->sentence-transformers) (21.3)\n",
            "Requirement already satisfied: typing-extensions>=3.7.4.3 in /usr/local/lib/python3.8/dist-packages (from huggingface-hub>=0.4.0->sentence-transformers) (4.4.0)\n",
            "Requirement already satisfied: pyyaml>=5.1 in /usr/local/lib/python3.8/dist-packages (from huggingface-hub>=0.4.0->sentence-transformers) (6.0)\n",
            "Requirement already satisfied: requests in /usr/local/lib/python3.8/dist-packages (from huggingface-hub>=0.4.0->sentence-transformers) (2.23.0)\n",
            "Requirement already satisfied: pyparsing!=3.0.5,>=2.0.2 in /usr/local/lib/python3.8/dist-packages (from packaging>=20.9->huggingface-hub>=0.4.0->sentence-transformers) (3.0.9)\n",
            "Collecting tokenizers!=0.11.3,<0.14,>=0.11.1\n",
            "  Downloading tokenizers-0.13.2-cp38-cp38-manylinux_2_17_x86_64.manylinux2014_x86_64.whl (7.6 MB)\n",
            "\u001b[K     |████████████████████████████████| 7.6 MB 59.8 MB/s \n",
            "\u001b[?25hRequirement already satisfied: regex!=2019.12.17 in /usr/local/lib/python3.8/dist-packages (from transformers<5.0.0,>=4.6.0->sentence-transformers) (2022.6.2)\n",
            "Requirement already satisfied: click in /usr/local/lib/python3.8/dist-packages (from nltk->sentence-transformers) (7.1.2)\n",
            "Requirement already satisfied: joblib in /usr/local/lib/python3.8/dist-packages (from nltk->sentence-transformers) (1.2.0)\n",
            "Requirement already satisfied: certifi>=2017.4.17 in /usr/local/lib/python3.8/dist-packages (from requests->huggingface-hub>=0.4.0->sentence-transformers) (2022.12.7)\n",
            "Requirement already satisfied: idna<3,>=2.5 in /usr/local/lib/python3.8/dist-packages (from requests->huggingface-hub>=0.4.0->sentence-transformers) (2.10)\n",
            "Requirement already satisfied: urllib3!=1.25.0,!=1.25.1,<1.26,>=1.21.1 in /usr/local/lib/python3.8/dist-packages (from requests->huggingface-hub>=0.4.0->sentence-transformers) (1.24.3)\n",
            "Requirement already satisfied: chardet<4,>=3.0.2 in /usr/local/lib/python3.8/dist-packages (from requests->huggingface-hub>=0.4.0->sentence-transformers) (3.0.4)\n",
            "Requirement already satisfied: threadpoolctl>=2.0.0 in /usr/local/lib/python3.8/dist-packages (from scikit-learn->sentence-transformers) (3.1.0)\n",
            "Requirement already satisfied: pillow!=8.3.*,>=5.3.0 in /usr/local/lib/python3.8/dist-packages (from torchvision->sentence-transformers) (7.1.2)\n",
            "Building wheels for collected packages: sentence-transformers\n",
            "  Building wheel for sentence-transformers (setup.py) ... \u001b[?25l\u001b[?25hdone\n",
            "  Created wheel for sentence-transformers: filename=sentence_transformers-2.2.2-py3-none-any.whl size=125938 sha256=c14cee6949f46685ff3aa6d3edf2766d7d7596baeb807690147ee658ff961a85\n",
            "  Stored in directory: /root/.cache/pip/wheels/5e/6f/8c/d88aec621f3f542d26fac0342bef5e693335d125f4e54aeffe\n",
            "Successfully built sentence-transformers\n",
            "Installing collected packages: tokenizers, huggingface-hub, transformers, sentencepiece, sentence-transformers\n",
            "Successfully installed huggingface-hub-0.11.1 sentence-transformers-2.2.2 sentencepiece-0.1.97 tokenizers-0.13.2 transformers-4.25.1\n",
            "/usr/local/lib/python3.8/dist-packages/torch/cuda/__init__.py:497: UserWarning: Can't initialize NVML\n",
            "  warnings.warn(\"Can't initialize NVML\")\n",
            "2022-12-22 12:45:49.178858: E tensorflow/stream_executor/cuda/cuda_driver.cc:271] failed call to cuInit: CUDA_ERROR_NO_DEVICE: no CUDA-capable device is detected\n",
            "Looking in indexes: https://pypi.org/simple, https://us-python.pkg.dev/colab-wheels/public/simple/\n",
            "Collecting fr-core-news-sm==3.4.0\n",
            "  Downloading https://github.com/explosion/spacy-models/releases/download/fr_core_news_sm-3.4.0/fr_core_news_sm-3.4.0-py3-none-any.whl (16.3 MB)\n",
            "\u001b[K     |████████████████████████████████| 16.3 MB 7.4 MB/s \n",
            "\u001b[?25hRequirement already satisfied: spacy<3.5.0,>=3.4.0 in /usr/local/lib/python3.8/dist-packages (from fr-core-news-sm==3.4.0) (3.4.4)\n",
            "Requirement already satisfied: numpy>=1.15.0 in /usr/local/lib/python3.8/dist-packages (from spacy<3.5.0,>=3.4.0->fr-core-news-sm==3.4.0) (1.21.6)\n",
            "Requirement already satisfied: catalogue<2.1.0,>=2.0.6 in /usr/local/lib/python3.8/dist-packages (from spacy<3.5.0,>=3.4.0->fr-core-news-sm==3.4.0) (2.0.8)\n",
            "Requirement already satisfied: thinc<8.2.0,>=8.1.0 in /usr/local/lib/python3.8/dist-packages (from spacy<3.5.0,>=3.4.0->fr-core-news-sm==3.4.0) (8.1.5)\n",
            "Requirement already satisfied: requests<3.0.0,>=2.13.0 in /usr/local/lib/python3.8/dist-packages (from spacy<3.5.0,>=3.4.0->fr-core-news-sm==3.4.0) (2.23.0)\n",
            "Requirement already satisfied: pathy>=0.3.5 in /usr/local/lib/python3.8/dist-packages (from spacy<3.5.0,>=3.4.0->fr-core-news-sm==3.4.0) (0.10.1)\n",
            "Requirement already satisfied: langcodes<4.0.0,>=3.2.0 in /usr/local/lib/python3.8/dist-packages (from spacy<3.5.0,>=3.4.0->fr-core-news-sm==3.4.0) (3.3.0)\n",
            "Requirement already satisfied: wasabi<1.1.0,>=0.9.1 in /usr/local/lib/python3.8/dist-packages (from spacy<3.5.0,>=3.4.0->fr-core-news-sm==3.4.0) (0.10.1)\n",
            "Requirement already satisfied: packaging>=20.0 in /usr/local/lib/python3.8/dist-packages (from spacy<3.5.0,>=3.4.0->fr-core-news-sm==3.4.0) (21.3)\n",
            "Requirement already satisfied: srsly<3.0.0,>=2.4.3 in /usr/local/lib/python3.8/dist-packages (from spacy<3.5.0,>=3.4.0->fr-core-news-sm==3.4.0) (2.4.5)\n",
            "Requirement already satisfied: preshed<3.1.0,>=3.0.2 in /usr/local/lib/python3.8/dist-packages (from spacy<3.5.0,>=3.4.0->fr-core-news-sm==3.4.0) (3.0.8)\n",
            "Requirement already satisfied: smart-open<7.0.0,>=5.2.1 in /usr/local/lib/python3.8/dist-packages (from spacy<3.5.0,>=3.4.0->fr-core-news-sm==3.4.0) (6.3.0)\n",
            "Requirement already satisfied: cymem<2.1.0,>=2.0.2 in /usr/local/lib/python3.8/dist-packages (from spacy<3.5.0,>=3.4.0->fr-core-news-sm==3.4.0) (2.0.7)\n",
            "Requirement already satisfied: spacy-loggers<2.0.0,>=1.0.0 in /usr/local/lib/python3.8/dist-packages (from spacy<3.5.0,>=3.4.0->fr-core-news-sm==3.4.0) (1.0.4)\n",
            "Requirement already satisfied: murmurhash<1.1.0,>=0.28.0 in /usr/local/lib/python3.8/dist-packages (from spacy<3.5.0,>=3.4.0->fr-core-news-sm==3.4.0) (1.0.9)\n",
            "Requirement already satisfied: setuptools in /usr/local/lib/python3.8/dist-packages (from spacy<3.5.0,>=3.4.0->fr-core-news-sm==3.4.0) (57.4.0)\n",
            "Requirement already satisfied: tqdm<5.0.0,>=4.38.0 in /usr/local/lib/python3.8/dist-packages (from spacy<3.5.0,>=3.4.0->fr-core-news-sm==3.4.0) (4.64.1)\n",
            "Requirement already satisfied: spacy-legacy<3.1.0,>=3.0.10 in /usr/local/lib/python3.8/dist-packages (from spacy<3.5.0,>=3.4.0->fr-core-news-sm==3.4.0) (3.0.10)\n",
            "Requirement already satisfied: pydantic!=1.8,!=1.8.1,<1.11.0,>=1.7.4 in /usr/local/lib/python3.8/dist-packages (from spacy<3.5.0,>=3.4.0->fr-core-news-sm==3.4.0) (1.10.2)\n",
            "Requirement already satisfied: jinja2 in /usr/local/lib/python3.8/dist-packages (from spacy<3.5.0,>=3.4.0->fr-core-news-sm==3.4.0) (2.11.3)\n",
            "Requirement already satisfied: typer<0.8.0,>=0.3.0 in /usr/local/lib/python3.8/dist-packages (from spacy<3.5.0,>=3.4.0->fr-core-news-sm==3.4.0) (0.7.0)\n",
            "Requirement already satisfied: pyparsing!=3.0.5,>=2.0.2 in /usr/local/lib/python3.8/dist-packages (from packaging>=20.0->spacy<3.5.0,>=3.4.0->fr-core-news-sm==3.4.0) (3.0.9)\n",
            "Requirement already satisfied: typing-extensions>=4.1.0 in /usr/local/lib/python3.8/dist-packages (from pydantic!=1.8,!=1.8.1,<1.11.0,>=1.7.4->spacy<3.5.0,>=3.4.0->fr-core-news-sm==3.4.0) (4.4.0)\n",
            "Requirement already satisfied: chardet<4,>=3.0.2 in /usr/local/lib/python3.8/dist-packages (from requests<3.0.0,>=2.13.0->spacy<3.5.0,>=3.4.0->fr-core-news-sm==3.4.0) (3.0.4)\n",
            "Requirement already satisfied: certifi>=2017.4.17 in /usr/local/lib/python3.8/dist-packages (from requests<3.0.0,>=2.13.0->spacy<3.5.0,>=3.4.0->fr-core-news-sm==3.4.0) (2022.12.7)\n",
            "Requirement already satisfied: urllib3!=1.25.0,!=1.25.1,<1.26,>=1.21.1 in /usr/local/lib/python3.8/dist-packages (from requests<3.0.0,>=2.13.0->spacy<3.5.0,>=3.4.0->fr-core-news-sm==3.4.0) (1.24.3)\n",
            "Requirement already satisfied: idna<3,>=2.5 in /usr/local/lib/python3.8/dist-packages (from requests<3.0.0,>=2.13.0->spacy<3.5.0,>=3.4.0->fr-core-news-sm==3.4.0) (2.10)\n",
            "Requirement already satisfied: blis<0.8.0,>=0.7.8 in /usr/local/lib/python3.8/dist-packages (from thinc<8.2.0,>=8.1.0->spacy<3.5.0,>=3.4.0->fr-core-news-sm==3.4.0) (0.7.9)\n",
            "Requirement already satisfied: confection<1.0.0,>=0.0.1 in /usr/local/lib/python3.8/dist-packages (from thinc<8.2.0,>=8.1.0->spacy<3.5.0,>=3.4.0->fr-core-news-sm==3.4.0) (0.0.3)\n",
            "Requirement already satisfied: click<9.0.0,>=7.1.1 in /usr/local/lib/python3.8/dist-packages (from typer<0.8.0,>=0.3.0->spacy<3.5.0,>=3.4.0->fr-core-news-sm==3.4.0) (7.1.2)\n",
            "Requirement already satisfied: MarkupSafe>=0.23 in /usr/local/lib/python3.8/dist-packages (from jinja2->spacy<3.5.0,>=3.4.0->fr-core-news-sm==3.4.0) (2.0.1)\n",
            "Installing collected packages: fr-core-news-sm\n",
            "Successfully installed fr-core-news-sm-3.4.0\n",
            "\u001b[38;5;2m✔ Download and installation successful\u001b[0m\n",
            "You can now load the package via spacy.load('fr_core_news_sm')\n",
            "/usr/local/lib/python3.8/dist-packages/torch/cuda/__init__.py:497: UserWarning: Can't initialize NVML\n",
            "  warnings.warn(\"Can't initialize NVML\")\n",
            "2022-12-22 12:46:03.231857: E tensorflow/stream_executor/cuda/cuda_driver.cc:271] failed call to cuInit: CUDA_ERROR_NO_DEVICE: no CUDA-capable device is detected\n",
            "\u001b[31mDeprecationWarning: The command link is deprecated.\u001b[0m\n",
            "\u001b[38;5;3m⚠ As of spaCy v3.0, model symlinks are not supported anymore. You can\n",
            "load trained pipeline packages using their full names or from a directory\n",
            "path.\u001b[0m\n",
            "/usr/local/lib/python3.8/dist-packages/torch/cuda/__init__.py:497: UserWarning: Can't initialize NVML\n",
            "  warnings.warn(\"Can't initialize NVML\")\n",
            "2022-12-22 12:46:09.744924: E tensorflow/stream_executor/cuda/cuda_driver.cc:271] failed call to cuInit: CUDA_ERROR_NO_DEVICE: no CUDA-capable device is detected\n",
            "Looking in indexes: https://pypi.org/simple, https://us-python.pkg.dev/colab-wheels/public/simple/\n",
            "Collecting fr-core-news-md==3.4.0\n",
            "  Downloading https://github.com/explosion/spacy-models/releases/download/fr_core_news_md-3.4.0/fr_core_news_md-3.4.0-py3-none-any.whl (45.8 MB)\n",
            "\u001b[K     |████████████████████████████████| 45.8 MB 1.2 MB/s \n",
            "\u001b[?25hRequirement already satisfied: spacy<3.5.0,>=3.4.0 in /usr/local/lib/python3.8/dist-packages (from fr-core-news-md==3.4.0) (3.4.4)\n",
            "Requirement already satisfied: spacy-loggers<2.0.0,>=1.0.0 in /usr/local/lib/python3.8/dist-packages (from spacy<3.5.0,>=3.4.0->fr-core-news-md==3.4.0) (1.0.4)\n",
            "Requirement already satisfied: smart-open<7.0.0,>=5.2.1 in /usr/local/lib/python3.8/dist-packages (from spacy<3.5.0,>=3.4.0->fr-core-news-md==3.4.0) (6.3.0)\n",
            "Requirement already satisfied: srsly<3.0.0,>=2.4.3 in /usr/local/lib/python3.8/dist-packages (from spacy<3.5.0,>=3.4.0->fr-core-news-md==3.4.0) (2.4.5)\n",
            "Requirement already satisfied: langcodes<4.0.0,>=3.2.0 in /usr/local/lib/python3.8/dist-packages (from spacy<3.5.0,>=3.4.0->fr-core-news-md==3.4.0) (3.3.0)\n",
            "Requirement already satisfied: cymem<2.1.0,>=2.0.2 in /usr/local/lib/python3.8/dist-packages (from spacy<3.5.0,>=3.4.0->fr-core-news-md==3.4.0) (2.0.7)\n",
            "Requirement already satisfied: thinc<8.2.0,>=8.1.0 in /usr/local/lib/python3.8/dist-packages (from spacy<3.5.0,>=3.4.0->fr-core-news-md==3.4.0) (8.1.5)\n",
            "Requirement already satisfied: requests<3.0.0,>=2.13.0 in /usr/local/lib/python3.8/dist-packages (from spacy<3.5.0,>=3.4.0->fr-core-news-md==3.4.0) (2.23.0)\n",
            "Requirement already satisfied: numpy>=1.15.0 in /usr/local/lib/python3.8/dist-packages (from spacy<3.5.0,>=3.4.0->fr-core-news-md==3.4.0) (1.21.6)\n",
            "Requirement already satisfied: catalogue<2.1.0,>=2.0.6 in /usr/local/lib/python3.8/dist-packages (from spacy<3.5.0,>=3.4.0->fr-core-news-md==3.4.0) (2.0.8)\n",
            "Requirement already satisfied: setuptools in /usr/local/lib/python3.8/dist-packages (from spacy<3.5.0,>=3.4.0->fr-core-news-md==3.4.0) (57.4.0)\n",
            "Requirement already satisfied: packaging>=20.0 in /usr/local/lib/python3.8/dist-packages (from spacy<3.5.0,>=3.4.0->fr-core-news-md==3.4.0) (21.3)\n",
            "Requirement already satisfied: typer<0.8.0,>=0.3.0 in /usr/local/lib/python3.8/dist-packages (from spacy<3.5.0,>=3.4.0->fr-core-news-md==3.4.0) (0.7.0)\n",
            "Requirement already satisfied: preshed<3.1.0,>=3.0.2 in /usr/local/lib/python3.8/dist-packages (from spacy<3.5.0,>=3.4.0->fr-core-news-md==3.4.0) (3.0.8)\n",
            "Requirement already satisfied: pathy>=0.3.5 in /usr/local/lib/python3.8/dist-packages (from spacy<3.5.0,>=3.4.0->fr-core-news-md==3.4.0) (0.10.1)\n",
            "Requirement already satisfied: jinja2 in /usr/local/lib/python3.8/dist-packages (from spacy<3.5.0,>=3.4.0->fr-core-news-md==3.4.0) (2.11.3)\n",
            "Requirement already satisfied: spacy-legacy<3.1.0,>=3.0.10 in /usr/local/lib/python3.8/dist-packages (from spacy<3.5.0,>=3.4.0->fr-core-news-md==3.4.0) (3.0.10)\n",
            "Requirement already satisfied: pydantic!=1.8,!=1.8.1,<1.11.0,>=1.7.4 in /usr/local/lib/python3.8/dist-packages (from spacy<3.5.0,>=3.4.0->fr-core-news-md==3.4.0) (1.10.2)\n",
            "Requirement already satisfied: murmurhash<1.1.0,>=0.28.0 in /usr/local/lib/python3.8/dist-packages (from spacy<3.5.0,>=3.4.0->fr-core-news-md==3.4.0) (1.0.9)\n",
            "Requirement already satisfied: wasabi<1.1.0,>=0.9.1 in /usr/local/lib/python3.8/dist-packages (from spacy<3.5.0,>=3.4.0->fr-core-news-md==3.4.0) (0.10.1)\n",
            "Requirement already satisfied: tqdm<5.0.0,>=4.38.0 in /usr/local/lib/python3.8/dist-packages (from spacy<3.5.0,>=3.4.0->fr-core-news-md==3.4.0) (4.64.1)\n",
            "Requirement already satisfied: pyparsing!=3.0.5,>=2.0.2 in /usr/local/lib/python3.8/dist-packages (from packaging>=20.0->spacy<3.5.0,>=3.4.0->fr-core-news-md==3.4.0) (3.0.9)\n",
            "Requirement already satisfied: typing-extensions>=4.1.0 in /usr/local/lib/python3.8/dist-packages (from pydantic!=1.8,!=1.8.1,<1.11.0,>=1.7.4->spacy<3.5.0,>=3.4.0->fr-core-news-md==3.4.0) (4.4.0)\n",
            "Requirement already satisfied: urllib3!=1.25.0,!=1.25.1,<1.26,>=1.21.1 in /usr/local/lib/python3.8/dist-packages (from requests<3.0.0,>=2.13.0->spacy<3.5.0,>=3.4.0->fr-core-news-md==3.4.0) (1.24.3)\n",
            "Requirement already satisfied: idna<3,>=2.5 in /usr/local/lib/python3.8/dist-packages (from requests<3.0.0,>=2.13.0->spacy<3.5.0,>=3.4.0->fr-core-news-md==3.4.0) (2.10)\n",
            "Requirement already satisfied: certifi>=2017.4.17 in /usr/local/lib/python3.8/dist-packages (from requests<3.0.0,>=2.13.0->spacy<3.5.0,>=3.4.0->fr-core-news-md==3.4.0) (2022.12.7)\n",
            "Requirement already satisfied: chardet<4,>=3.0.2 in /usr/local/lib/python3.8/dist-packages (from requests<3.0.0,>=2.13.0->spacy<3.5.0,>=3.4.0->fr-core-news-md==3.4.0) (3.0.4)\n",
            "Requirement already satisfied: confection<1.0.0,>=0.0.1 in /usr/local/lib/python3.8/dist-packages (from thinc<8.2.0,>=8.1.0->spacy<3.5.0,>=3.4.0->fr-core-news-md==3.4.0) (0.0.3)\n",
            "Requirement already satisfied: blis<0.8.0,>=0.7.8 in /usr/local/lib/python3.8/dist-packages (from thinc<8.2.0,>=8.1.0->spacy<3.5.0,>=3.4.0->fr-core-news-md==3.4.0) (0.7.9)\n",
            "Requirement already satisfied: click<9.0.0,>=7.1.1 in /usr/local/lib/python3.8/dist-packages (from typer<0.8.0,>=0.3.0->spacy<3.5.0,>=3.4.0->fr-core-news-md==3.4.0) (7.1.2)\n",
            "Requirement already satisfied: MarkupSafe>=0.23 in /usr/local/lib/python3.8/dist-packages (from jinja2->spacy<3.5.0,>=3.4.0->fr-core-news-md==3.4.0) (2.0.1)\n",
            "Installing collected packages: fr-core-news-md\n",
            "Successfully installed fr-core-news-md-3.4.0\n",
            "\u001b[38;5;2m✔ Download and installation successful\u001b[0m\n",
            "You can now load the package via spacy.load('fr_core_news_md')\n",
            "Looking in indexes: https://pypi.org/simple, https://us-python.pkg.dev/colab-wheels/public/simple/\n",
            "Requirement already satisfied: tensorflow_hub in /usr/local/lib/python3.8/dist-packages (0.12.0)\n",
            "Requirement already satisfied: protobuf>=3.8.0 in /usr/local/lib/python3.8/dist-packages (from tensorflow_hub) (3.19.6)\n",
            "Requirement already satisfied: numpy>=1.12.0 in /usr/local/lib/python3.8/dist-packages (from tensorflow_hub) (1.21.6)\n",
            "Looking in indexes: https://pypi.org/simple, https://us-python.pkg.dev/colab-wheels/public/simple/\n",
            "Collecting tensorflow_text\n",
            "  Downloading tensorflow_text-2.11.0-cp38-cp38-manylinux_2_17_x86_64.manylinux2014_x86_64.whl (5.8 MB)\n",
            "\u001b[K     |████████████████████████████████| 5.8 MB 7.7 MB/s \n",
            "\u001b[?25hCollecting tensorflow<2.12,>=2.11.0\n",
            "  Downloading tensorflow-2.11.0-cp38-cp38-manylinux_2_17_x86_64.manylinux2014_x86_64.whl (588.3 MB)\n",
            "\u001b[K     |████████████████████████████████| 588.3 MB 17 kB/s \n",
            "\u001b[?25hRequirement already satisfied: tensorflow-hub>=0.8.0 in /usr/local/lib/python3.8/dist-packages (from tensorflow_text) (0.12.0)\n",
            "Requirement already satisfied: six>=1.12.0 in /usr/local/lib/python3.8/dist-packages (from tensorflow<2.12,>=2.11.0->tensorflow_text) (1.15.0)\n",
            "Collecting flatbuffers>=2.0\n",
            "  Downloading flatbuffers-22.12.6-py2.py3-none-any.whl (26 kB)\n",
            "Requirement already satisfied: google-pasta>=0.1.1 in /usr/local/lib/python3.8/dist-packages (from tensorflow<2.12,>=2.11.0->tensorflow_text) (0.2.0)\n",
            "Collecting keras<2.12,>=2.11.0\n",
            "  Downloading keras-2.11.0-py2.py3-none-any.whl (1.7 MB)\n",
            "\u001b[K     |████████████████████████████████| 1.7 MB 38.4 MB/s \n",
            "\u001b[?25hRequirement already satisfied: setuptools in /usr/local/lib/python3.8/dist-packages (from tensorflow<2.12,>=2.11.0->tensorflow_text) (57.4.0)\n",
            "Requirement already satisfied: absl-py>=1.0.0 in /usr/local/lib/python3.8/dist-packages (from tensorflow<2.12,>=2.11.0->tensorflow_text) (1.3.0)\n",
            "Requirement already satisfied: typing-extensions>=3.6.6 in /usr/local/lib/python3.8/dist-packages (from tensorflow<2.12,>=2.11.0->tensorflow_text) (4.4.0)\n",
            "Requirement already satisfied: termcolor>=1.1.0 in /usr/local/lib/python3.8/dist-packages (from tensorflow<2.12,>=2.11.0->tensorflow_text) (2.1.1)\n",
            "Requirement already satisfied: grpcio<2.0,>=1.24.3 in /usr/local/lib/python3.8/dist-packages (from tensorflow<2.12,>=2.11.0->tensorflow_text) (1.51.1)\n",
            "Collecting tensorflow-estimator<2.12,>=2.11.0\n",
            "  Downloading tensorflow_estimator-2.11.0-py2.py3-none-any.whl (439 kB)\n",
            "\u001b[K     |████████████████████████████████| 439 kB 61.0 MB/s \n",
            "\u001b[?25hRequirement already satisfied: astunparse>=1.6.0 in /usr/local/lib/python3.8/dist-packages (from tensorflow<2.12,>=2.11.0->tensorflow_text) (1.6.3)\n",
            "Requirement already satisfied: opt-einsum>=2.3.2 in /usr/local/lib/python3.8/dist-packages (from tensorflow<2.12,>=2.11.0->tensorflow_text) (3.3.0)\n",
            "Requirement already satisfied: protobuf<3.20,>=3.9.2 in /usr/local/lib/python3.8/dist-packages (from tensorflow<2.12,>=2.11.0->tensorflow_text) (3.19.6)\n",
            "Collecting tensorboard<2.12,>=2.11\n",
            "  Downloading tensorboard-2.11.0-py3-none-any.whl (6.0 MB)\n",
            "\u001b[K     |████████████████████████████████| 6.0 MB 49.2 MB/s \n",
            "\u001b[?25hRequirement already satisfied: h5py>=2.9.0 in /usr/local/lib/python3.8/dist-packages (from tensorflow<2.12,>=2.11.0->tensorflow_text) (3.1.0)\n",
            "Requirement already satisfied: wrapt>=1.11.0 in /usr/local/lib/python3.8/dist-packages (from tensorflow<2.12,>=2.11.0->tensorflow_text) (1.14.1)\n",
            "Requirement already satisfied: numpy>=1.20 in /usr/local/lib/python3.8/dist-packages (from tensorflow<2.12,>=2.11.0->tensorflow_text) (1.21.6)\n",
            "Requirement already satisfied: packaging in /usr/local/lib/python3.8/dist-packages (from tensorflow<2.12,>=2.11.0->tensorflow_text) (21.3)\n",
            "Requirement already satisfied: gast<=0.4.0,>=0.2.1 in /usr/local/lib/python3.8/dist-packages (from tensorflow<2.12,>=2.11.0->tensorflow_text) (0.4.0)\n",
            "Requirement already satisfied: tensorflow-io-gcs-filesystem>=0.23.1 in /usr/local/lib/python3.8/dist-packages (from tensorflow<2.12,>=2.11.0->tensorflow_text) (0.28.0)\n",
            "Requirement already satisfied: libclang>=13.0.0 in /usr/local/lib/python3.8/dist-packages (from tensorflow<2.12,>=2.11.0->tensorflow_text) (14.0.6)\n",
            "Requirement already satisfied: wheel<1.0,>=0.23.0 in /usr/local/lib/python3.8/dist-packages (from astunparse>=1.6.0->tensorflow<2.12,>=2.11.0->tensorflow_text) (0.38.4)\n",
            "Requirement already satisfied: requests<3,>=2.21.0 in /usr/local/lib/python3.8/dist-packages (from tensorboard<2.12,>=2.11->tensorflow<2.12,>=2.11.0->tensorflow_text) (2.23.0)\n",
            "Requirement already satisfied: werkzeug>=1.0.1 in /usr/local/lib/python3.8/dist-packages (from tensorboard<2.12,>=2.11->tensorflow<2.12,>=2.11.0->tensorflow_text) (1.0.1)\n",
            "Requirement already satisfied: markdown>=2.6.8 in /usr/local/lib/python3.8/dist-packages (from tensorboard<2.12,>=2.11->tensorflow<2.12,>=2.11.0->tensorflow_text) (3.4.1)\n",
            "Requirement already satisfied: google-auth<3,>=1.6.3 in /usr/local/lib/python3.8/dist-packages (from tensorboard<2.12,>=2.11->tensorflow<2.12,>=2.11.0->tensorflow_text) (2.15.0)\n",
            "Requirement already satisfied: tensorboard-plugin-wit>=1.6.0 in /usr/local/lib/python3.8/dist-packages (from tensorboard<2.12,>=2.11->tensorflow<2.12,>=2.11.0->tensorflow_text) (1.8.1)\n",
            "Requirement already satisfied: google-auth-oauthlib<0.5,>=0.4.1 in /usr/local/lib/python3.8/dist-packages (from tensorboard<2.12,>=2.11->tensorflow<2.12,>=2.11.0->tensorflow_text) (0.4.6)\n",
            "Requirement already satisfied: tensorboard-data-server<0.7.0,>=0.6.0 in /usr/local/lib/python3.8/dist-packages (from tensorboard<2.12,>=2.11->tensorflow<2.12,>=2.11.0->tensorflow_text) (0.6.1)\n",
            "Requirement already satisfied: cachetools<6.0,>=2.0.0 in /usr/local/lib/python3.8/dist-packages (from google-auth<3,>=1.6.3->tensorboard<2.12,>=2.11->tensorflow<2.12,>=2.11.0->tensorflow_text) (5.2.0)\n",
            "Requirement already satisfied: rsa<5,>=3.1.4 in /usr/local/lib/python3.8/dist-packages (from google-auth<3,>=1.6.3->tensorboard<2.12,>=2.11->tensorflow<2.12,>=2.11.0->tensorflow_text) (4.9)\n",
            "Requirement already satisfied: pyasn1-modules>=0.2.1 in /usr/local/lib/python3.8/dist-packages (from google-auth<3,>=1.6.3->tensorboard<2.12,>=2.11->tensorflow<2.12,>=2.11.0->tensorflow_text) (0.2.8)\n",
            "Requirement already satisfied: requests-oauthlib>=0.7.0 in /usr/local/lib/python3.8/dist-packages (from google-auth-oauthlib<0.5,>=0.4.1->tensorboard<2.12,>=2.11->tensorflow<2.12,>=2.11.0->tensorflow_text) (1.3.1)\n",
            "Requirement already satisfied: importlib-metadata>=4.4 in /usr/local/lib/python3.8/dist-packages (from markdown>=2.6.8->tensorboard<2.12,>=2.11->tensorflow<2.12,>=2.11.0->tensorflow_text) (5.1.0)\n",
            "Requirement already satisfied: zipp>=0.5 in /usr/local/lib/python3.8/dist-packages (from importlib-metadata>=4.4->markdown>=2.6.8->tensorboard<2.12,>=2.11->tensorflow<2.12,>=2.11.0->tensorflow_text) (3.11.0)\n",
            "Requirement already satisfied: pyasn1<0.5.0,>=0.4.6 in /usr/local/lib/python3.8/dist-packages (from pyasn1-modules>=0.2.1->google-auth<3,>=1.6.3->tensorboard<2.12,>=2.11->tensorflow<2.12,>=2.11.0->tensorflow_text) (0.4.8)\n",
            "Requirement already satisfied: certifi>=2017.4.17 in /usr/local/lib/python3.8/dist-packages (from requests<3,>=2.21.0->tensorboard<2.12,>=2.11->tensorflow<2.12,>=2.11.0->tensorflow_text) (2022.12.7)\n",
            "Requirement already satisfied: chardet<4,>=3.0.2 in /usr/local/lib/python3.8/dist-packages (from requests<3,>=2.21.0->tensorboard<2.12,>=2.11->tensorflow<2.12,>=2.11.0->tensorflow_text) (3.0.4)\n",
            "Requirement already satisfied: urllib3!=1.25.0,!=1.25.1,<1.26,>=1.21.1 in /usr/local/lib/python3.8/dist-packages (from requests<3,>=2.21.0->tensorboard<2.12,>=2.11->tensorflow<2.12,>=2.11.0->tensorflow_text) (1.24.3)\n",
            "Requirement already satisfied: idna<3,>=2.5 in /usr/local/lib/python3.8/dist-packages (from requests<3,>=2.21.0->tensorboard<2.12,>=2.11->tensorflow<2.12,>=2.11.0->tensorflow_text) (2.10)\n",
            "Requirement already satisfied: oauthlib>=3.0.0 in /usr/local/lib/python3.8/dist-packages (from requests-oauthlib>=0.7.0->google-auth-oauthlib<0.5,>=0.4.1->tensorboard<2.12,>=2.11->tensorflow<2.12,>=2.11.0->tensorflow_text) (3.2.2)\n",
            "Requirement already satisfied: pyparsing!=3.0.5,>=2.0.2 in /usr/local/lib/python3.8/dist-packages (from packaging->tensorflow<2.12,>=2.11.0->tensorflow_text) (3.0.9)\n",
            "Installing collected packages: tensorflow-estimator, tensorboard, keras, flatbuffers, tensorflow, tensorflow-text\n",
            "  Attempting uninstall: tensorflow-estimator\n",
            "    Found existing installation: tensorflow-estimator 2.9.0\n",
            "    Uninstalling tensorflow-estimator-2.9.0:\n",
            "      Successfully uninstalled tensorflow-estimator-2.9.0\n",
            "  Attempting uninstall: tensorboard\n",
            "    Found existing installation: tensorboard 2.9.1\n",
            "    Uninstalling tensorboard-2.9.1:\n",
            "      Successfully uninstalled tensorboard-2.9.1\n",
            "  Attempting uninstall: keras\n",
            "    Found existing installation: keras 2.9.0\n",
            "    Uninstalling keras-2.9.0:\n",
            "      Successfully uninstalled keras-2.9.0\n",
            "  Attempting uninstall: flatbuffers\n",
            "    Found existing installation: flatbuffers 1.12\n",
            "    Uninstalling flatbuffers-1.12:\n",
            "      Successfully uninstalled flatbuffers-1.12\n",
            "  Attempting uninstall: tensorflow\n",
            "    Found existing installation: tensorflow 2.9.2\n",
            "    Uninstalling tensorflow-2.9.2:\n",
            "      Successfully uninstalled tensorflow-2.9.2\n",
            "Successfully installed flatbuffers-22.12.6 keras-2.11.0 tensorboard-2.11.0 tensorflow-2.11.0 tensorflow-estimator-2.11.0 tensorflow-text-2.11.0\n"
          ]
        }
      ]
    },
    {
      "cell_type": "markdown",
      "source": [
        "## Imports"
      ],
      "metadata": {
        "id": "xBLCHLRyCeGs"
      }
    },
    {
      "cell_type": "code",
      "source": [
        "# Imports the functions we use all along our projects that are in python file in our GitHub\n",
        "import requests\n",
        "url = 'https://raw.githubusercontent.com/Adrian-Muino/DMML2022_Geneva/main/Code/dmml_2022_geneva_functions.py'\n",
        "\n",
        "r = requests.get(url)\n",
        "\n",
        "with open('dmml_2022_geneva_functions.py', 'w') as f:\n",
        "    f.write(r.text)"
      ],
      "metadata": {
        "id": "ucYhTD_w3g5b"
      },
      "execution_count": 2,
      "outputs": []
    },
    {
      "cell_type": "code",
      "source": [
        "# All the other imports\n",
        "import string\n",
        "import re\n",
        "\n",
        "from dmml_2022_geneva_functions import *\n",
        "import pandas as pd\n",
        "\n",
        "import spacy\n",
        "from spacy import displacy\n",
        "\n",
        "import nltk\n",
        "from nltk.tokenize import word_tokenize\n",
        "from nltk.stem import PorterStemmer, SnowballStemmer, WordNetLemmatizer\n",
        "nltk.download('punkt')\n",
        "\n",
        "import numpy as np\n",
        "\n",
        "import matplotlib.pyplot as plt\n",
        "\n",
        "import seaborn as sns\n",
        "from collections import Counter\n",
        "from sklearn.base import TransformerMixin\n",
        "from sklearn.pipeline import Pipeline\n",
        "from sklearn.preprocessing import OrdinalEncoder, OneHotEncoder, LabelEncoder\n",
        "from sklearn.model_selection import train_test_split, GridSearchCV\n",
        "from sklearn.ensemble import RandomForestClassifier, GradientBoostingClassifier\n",
        "from sklearn.linear_model import LogisticRegression, LogisticRegressionCV, RidgeClassifier, Perceptron\n",
        "from sklearn.svm import LinearSVC\n",
        "from sklearn.feature_extraction.text import CountVectorizer, TfidfVectorizer\n",
        "from sklearn.utils.multiclass import unique_labels\n",
        "from sklearn.neighbors import KNeighborsClassifier\n",
        "from sklearn.tree import DecisionTreeClassifier\n",
        "from sklearn.metrics import recall_score, precision_score, f1_score, accuracy_score, confusion_matrix, ConfusionMatrixDisplay"
      ],
      "metadata": {
        "id": "xetHYKv1Cw01",
        "colab": {
          "base_uri": "https://localhost:8080/"
        },
        "outputId": "d266e445-740d-4883-91ad-bd4690133946"
      },
      "execution_count": 3,
      "outputs": [
        {
          "output_type": "stream",
          "name": "stderr",
          "text": [
            "/usr/local/lib/python3.8/dist-packages/torch/cuda/__init__.py:497: UserWarning: Can't initialize NVML\n",
            "  warnings.warn(\"Can't initialize NVML\")\n",
            "WARNING:tensorflow:Please fix your imports. Module tensorflow.python.training.tracking.data_structures has been moved to tensorflow.python.trackable.data_structures. The old module will be deleted in version 2.11.\n",
            "[nltk_data] Downloading package punkt to /root/nltk_data...\n",
            "[nltk_data]   Unzipping tokenizers/punkt.zip.\n"
          ]
        }
      ]
    },
    {
      "cell_type": "markdown",
      "source": [
        "#C. Environment set up & exploratory data analysis"
      ],
      "metadata": {
        "id": "SaJyDpDGDOSH"
      }
    },
    {
      "cell_type": "markdown",
      "source": [
        "##Loading the data"
      ],
      "metadata": {
        "id": "IekpHyvqEc2I"
      }
    },
    {
      "cell_type": "code",
      "source": [
        "# load the data from our github repository\n",
        "training_data = 'https://raw.githubusercontent.com/Adrian-Muino/DMML2022_Geneva/main/Data/training_data.csv'\n",
        "unlabelled_data = 'https://raw.githubusercontent.com/Adrian-Muino/DMML2022_Geneva/main/Data/unlabelled_test_data.csv'\n",
        "\n",
        "df = df_train = pd.read_csv(training_data)\n",
        "df_unlabeled = df_test = pd.read_csv(unlabelled_data)"
      ],
      "metadata": {
        "id": "RDqc9k4dEcb7"
      },
      "execution_count": 4,
      "outputs": []
    },
    {
      "cell_type": "markdown",
      "source": [
        "##Data tables"
      ],
      "metadata": {
        "id": "rSSUB_4yFULp"
      }
    },
    {
      "cell_type": "code",
      "source": [
        "df.head()"
      ],
      "metadata": {
        "id": "6D4GYCATFTYK",
        "colab": {
          "base_uri": "https://localhost:8080/",
          "height": 565
        },
        "outputId": "0b27ff7a-b786-47b4-e128-4559d7482006"
      },
      "execution_count": 5,
      "outputs": [
        {
          "output_type": "execute_result",
          "data": {
            "text/plain": [
              "   id                                           sentence difficulty\n",
              "0   0  Les coûts kilométriques réels peuvent diverger...         C1\n",
              "1   1  Le bleu, c'est ma couleur préférée mais je n'a...         A1\n",
              "2   2  Le test de niveau en français est sur le site ...         A1\n",
              "3   3           Est-ce que ton mari est aussi de Boston?         A1\n",
              "4   4  Dans les écoles de commerce, dans les couloirs...         B1"
            ],
            "text/html": [
              "\n",
              "  <div id=\"df-49b9e533-a4bd-456c-9eaf-d8488290e8ac\">\n",
              "    <div class=\"colab-df-container\">\n",
              "      <div>\n",
              "<style scoped>\n",
              "    .dataframe tbody tr th:only-of-type {\n",
              "        vertical-align: middle;\n",
              "    }\n",
              "\n",
              "    .dataframe tbody tr th {\n",
              "        vertical-align: top;\n",
              "    }\n",
              "\n",
              "    .dataframe thead th {\n",
              "        text-align: right;\n",
              "    }\n",
              "</style>\n",
              "<table border=\"1\" class=\"dataframe\">\n",
              "  <thead>\n",
              "    <tr style=\"text-align: right;\">\n",
              "      <th></th>\n",
              "      <th>id</th>\n",
              "      <th>sentence</th>\n",
              "      <th>difficulty</th>\n",
              "    </tr>\n",
              "  </thead>\n",
              "  <tbody>\n",
              "    <tr>\n",
              "      <th>0</th>\n",
              "      <td>0</td>\n",
              "      <td>Les coûts kilométriques réels peuvent diverger...</td>\n",
              "      <td>C1</td>\n",
              "    </tr>\n",
              "    <tr>\n",
              "      <th>1</th>\n",
              "      <td>1</td>\n",
              "      <td>Le bleu, c'est ma couleur préférée mais je n'a...</td>\n",
              "      <td>A1</td>\n",
              "    </tr>\n",
              "    <tr>\n",
              "      <th>2</th>\n",
              "      <td>2</td>\n",
              "      <td>Le test de niveau en français est sur le site ...</td>\n",
              "      <td>A1</td>\n",
              "    </tr>\n",
              "    <tr>\n",
              "      <th>3</th>\n",
              "      <td>3</td>\n",
              "      <td>Est-ce que ton mari est aussi de Boston?</td>\n",
              "      <td>A1</td>\n",
              "    </tr>\n",
              "    <tr>\n",
              "      <th>4</th>\n",
              "      <td>4</td>\n",
              "      <td>Dans les écoles de commerce, dans les couloirs...</td>\n",
              "      <td>B1</td>\n",
              "    </tr>\n",
              "  </tbody>\n",
              "</table>\n",
              "</div>\n",
              "      <button class=\"colab-df-convert\" onclick=\"convertToInteractive('df-49b9e533-a4bd-456c-9eaf-d8488290e8ac')\"\n",
              "              title=\"Convert this dataframe to an interactive table.\"\n",
              "              style=\"display:none;\">\n",
              "        \n",
              "  <svg xmlns=\"http://www.w3.org/2000/svg\" height=\"24px\"viewBox=\"0 0 24 24\"\n",
              "       width=\"24px\">\n",
              "    <path d=\"M0 0h24v24H0V0z\" fill=\"none\"/>\n",
              "    <path d=\"M18.56 5.44l.94 2.06.94-2.06 2.06-.94-2.06-.94-.94-2.06-.94 2.06-2.06.94zm-11 1L8.5 8.5l.94-2.06 2.06-.94-2.06-.94L8.5 2.5l-.94 2.06-2.06.94zm10 10l.94 2.06.94-2.06 2.06-.94-2.06-.94-.94-2.06-.94 2.06-2.06.94z\"/><path d=\"M17.41 7.96l-1.37-1.37c-.4-.4-.92-.59-1.43-.59-.52 0-1.04.2-1.43.59L10.3 9.45l-7.72 7.72c-.78.78-.78 2.05 0 2.83L4 21.41c.39.39.9.59 1.41.59.51 0 1.02-.2 1.41-.59l7.78-7.78 2.81-2.81c.8-.78.8-2.07 0-2.86zM5.41 20L4 18.59l7.72-7.72 1.47 1.35L5.41 20z\"/>\n",
              "  </svg>\n",
              "      </button>\n",
              "      \n",
              "  <style>\n",
              "    .colab-df-container {\n",
              "      display:flex;\n",
              "      flex-wrap:wrap;\n",
              "      gap: 12px;\n",
              "    }\n",
              "\n",
              "    .colab-df-convert {\n",
              "      background-color: #E8F0FE;\n",
              "      border: none;\n",
              "      border-radius: 50%;\n",
              "      cursor: pointer;\n",
              "      display: none;\n",
              "      fill: #1967D2;\n",
              "      height: 32px;\n",
              "      padding: 0 0 0 0;\n",
              "      width: 32px;\n",
              "    }\n",
              "\n",
              "    .colab-df-convert:hover {\n",
              "      background-color: #E2EBFA;\n",
              "      box-shadow: 0px 1px 2px rgba(60, 64, 67, 0.3), 0px 1px 3px 1px rgba(60, 64, 67, 0.15);\n",
              "      fill: #174EA6;\n",
              "    }\n",
              "\n",
              "    [theme=dark] .colab-df-convert {\n",
              "      background-color: #3B4455;\n",
              "      fill: #D2E3FC;\n",
              "    }\n",
              "\n",
              "    [theme=dark] .colab-df-convert:hover {\n",
              "      background-color: #434B5C;\n",
              "      box-shadow: 0px 1px 3px 1px rgba(0, 0, 0, 0.15);\n",
              "      filter: drop-shadow(0px 1px 2px rgba(0, 0, 0, 0.3));\n",
              "      fill: #FFFFFF;\n",
              "    }\n",
              "  </style>\n",
              "\n",
              "      <script>\n",
              "        const buttonEl =\n",
              "          document.querySelector('#df-49b9e533-a4bd-456c-9eaf-d8488290e8ac button.colab-df-convert');\n",
              "        buttonEl.style.display =\n",
              "          google.colab.kernel.accessAllowed ? 'block' : 'none';\n",
              "\n",
              "        async function convertToInteractive(key) {\n",
              "          const element = document.querySelector('#df-49b9e533-a4bd-456c-9eaf-d8488290e8ac');\n",
              "          const dataTable =\n",
              "            await google.colab.kernel.invokeFunction('convertToInteractive',\n",
              "                                                     [key], {});\n",
              "          if (!dataTable) return;\n",
              "\n",
              "          const docLinkHtml = 'Like what you see? Visit the ' +\n",
              "            '<a target=\"_blank\" href=https://colab.research.google.com/notebooks/data_table.ipynb>data table notebook</a>'\n",
              "            + ' to learn more about interactive tables.';\n",
              "          element.innerHTML = '';\n",
              "          dataTable['output_type'] = 'display_data';\n",
              "          await google.colab.output.renderOutput(dataTable, element);\n",
              "          const docLink = document.createElement('div');\n",
              "          docLink.innerHTML = docLinkHtml;\n",
              "          element.appendChild(docLink);\n",
              "        }\n",
              "      </script>\n",
              "    </div>\n",
              "  </div>\n",
              "  "
            ]
          },
          "metadata": {},
          "execution_count": 5
        }
      ]
    },
    {
      "cell_type": "code",
      "source": [
        "df_unlabeled.head()"
      ],
      "metadata": {
        "id": "XmbFEObqHfV2",
        "colab": {
          "base_uri": "https://localhost:8080/",
          "height": 513
        },
        "outputId": "47539b39-7ecb-41f6-de5e-3b234554d784"
      },
      "execution_count": 6,
      "outputs": [
        {
          "output_type": "execute_result",
          "data": {
            "text/plain": [
              "   id                                           sentence\n",
              "0   0  Nous dûmes nous excuser des propos que nous eû...\n",
              "1   1  Vous ne pouvez pas savoir le plaisir que j'ai ...\n",
              "2   2  Et, paradoxalement, boire froid n'est pas la b...\n",
              "3   3  Ce n'est pas étonnant, car c'est une saison my...\n",
              "4   4  Le corps de Golo lui-même, d'une essence aussi..."
            ],
            "text/html": [
              "\n",
              "  <div id=\"df-b0038310-b960-4d12-ba34-24912adb2bb7\">\n",
              "    <div class=\"colab-df-container\">\n",
              "      <div>\n",
              "<style scoped>\n",
              "    .dataframe tbody tr th:only-of-type {\n",
              "        vertical-align: middle;\n",
              "    }\n",
              "\n",
              "    .dataframe tbody tr th {\n",
              "        vertical-align: top;\n",
              "    }\n",
              "\n",
              "    .dataframe thead th {\n",
              "        text-align: right;\n",
              "    }\n",
              "</style>\n",
              "<table border=\"1\" class=\"dataframe\">\n",
              "  <thead>\n",
              "    <tr style=\"text-align: right;\">\n",
              "      <th></th>\n",
              "      <th>id</th>\n",
              "      <th>sentence</th>\n",
              "    </tr>\n",
              "  </thead>\n",
              "  <tbody>\n",
              "    <tr>\n",
              "      <th>0</th>\n",
              "      <td>0</td>\n",
              "      <td>Nous dûmes nous excuser des propos que nous eû...</td>\n",
              "    </tr>\n",
              "    <tr>\n",
              "      <th>1</th>\n",
              "      <td>1</td>\n",
              "      <td>Vous ne pouvez pas savoir le plaisir que j'ai ...</td>\n",
              "    </tr>\n",
              "    <tr>\n",
              "      <th>2</th>\n",
              "      <td>2</td>\n",
              "      <td>Et, paradoxalement, boire froid n'est pas la b...</td>\n",
              "    </tr>\n",
              "    <tr>\n",
              "      <th>3</th>\n",
              "      <td>3</td>\n",
              "      <td>Ce n'est pas étonnant, car c'est une saison my...</td>\n",
              "    </tr>\n",
              "    <tr>\n",
              "      <th>4</th>\n",
              "      <td>4</td>\n",
              "      <td>Le corps de Golo lui-même, d'une essence aussi...</td>\n",
              "    </tr>\n",
              "  </tbody>\n",
              "</table>\n",
              "</div>\n",
              "      <button class=\"colab-df-convert\" onclick=\"convertToInteractive('df-b0038310-b960-4d12-ba34-24912adb2bb7')\"\n",
              "              title=\"Convert this dataframe to an interactive table.\"\n",
              "              style=\"display:none;\">\n",
              "        \n",
              "  <svg xmlns=\"http://www.w3.org/2000/svg\" height=\"24px\"viewBox=\"0 0 24 24\"\n",
              "       width=\"24px\">\n",
              "    <path d=\"M0 0h24v24H0V0z\" fill=\"none\"/>\n",
              "    <path d=\"M18.56 5.44l.94 2.06.94-2.06 2.06-.94-2.06-.94-.94-2.06-.94 2.06-2.06.94zm-11 1L8.5 8.5l.94-2.06 2.06-.94-2.06-.94L8.5 2.5l-.94 2.06-2.06.94zm10 10l.94 2.06.94-2.06 2.06-.94-2.06-.94-.94-2.06-.94 2.06-2.06.94z\"/><path d=\"M17.41 7.96l-1.37-1.37c-.4-.4-.92-.59-1.43-.59-.52 0-1.04.2-1.43.59L10.3 9.45l-7.72 7.72c-.78.78-.78 2.05 0 2.83L4 21.41c.39.39.9.59 1.41.59.51 0 1.02-.2 1.41-.59l7.78-7.78 2.81-2.81c.8-.78.8-2.07 0-2.86zM5.41 20L4 18.59l7.72-7.72 1.47 1.35L5.41 20z\"/>\n",
              "  </svg>\n",
              "      </button>\n",
              "      \n",
              "  <style>\n",
              "    .colab-df-container {\n",
              "      display:flex;\n",
              "      flex-wrap:wrap;\n",
              "      gap: 12px;\n",
              "    }\n",
              "\n",
              "    .colab-df-convert {\n",
              "      background-color: #E8F0FE;\n",
              "      border: none;\n",
              "      border-radius: 50%;\n",
              "      cursor: pointer;\n",
              "      display: none;\n",
              "      fill: #1967D2;\n",
              "      height: 32px;\n",
              "      padding: 0 0 0 0;\n",
              "      width: 32px;\n",
              "    }\n",
              "\n",
              "    .colab-df-convert:hover {\n",
              "      background-color: #E2EBFA;\n",
              "      box-shadow: 0px 1px 2px rgba(60, 64, 67, 0.3), 0px 1px 3px 1px rgba(60, 64, 67, 0.15);\n",
              "      fill: #174EA6;\n",
              "    }\n",
              "\n",
              "    [theme=dark] .colab-df-convert {\n",
              "      background-color: #3B4455;\n",
              "      fill: #D2E3FC;\n",
              "    }\n",
              "\n",
              "    [theme=dark] .colab-df-convert:hover {\n",
              "      background-color: #434B5C;\n",
              "      box-shadow: 0px 1px 3px 1px rgba(0, 0, 0, 0.15);\n",
              "      filter: drop-shadow(0px 1px 2px rgba(0, 0, 0, 0.3));\n",
              "      fill: #FFFFFF;\n",
              "    }\n",
              "  </style>\n",
              "\n",
              "      <script>\n",
              "        const buttonEl =\n",
              "          document.querySelector('#df-b0038310-b960-4d12-ba34-24912adb2bb7 button.colab-df-convert');\n",
              "        buttonEl.style.display =\n",
              "          google.colab.kernel.accessAllowed ? 'block' : 'none';\n",
              "\n",
              "        async function convertToInteractive(key) {\n",
              "          const element = document.querySelector('#df-b0038310-b960-4d12-ba34-24912adb2bb7');\n",
              "          const dataTable =\n",
              "            await google.colab.kernel.invokeFunction('convertToInteractive',\n",
              "                                                     [key], {});\n",
              "          if (!dataTable) return;\n",
              "\n",
              "          const docLinkHtml = 'Like what you see? Visit the ' +\n",
              "            '<a target=\"_blank\" href=https://colab.research.google.com/notebooks/data_table.ipynb>data table notebook</a>'\n",
              "            + ' to learn more about interactive tables.';\n",
              "          element.innerHTML = '';\n",
              "          dataTable['output_type'] = 'display_data';\n",
              "          await google.colab.output.renderOutput(dataTable, element);\n",
              "          const docLink = document.createElement('div');\n",
              "          docLink.innerHTML = docLinkHtml;\n",
              "          element.appendChild(docLink);\n",
              "        }\n",
              "      </script>\n",
              "    </div>\n",
              "  </div>\n",
              "  "
            ]
          },
          "metadata": {},
          "execution_count": 6
        }
      ]
    },
    {
      "cell_type": "code",
      "source": [
        "# How many sentences there are for each category\n",
        "df_train['difficulty'].value_counts()"
      ],
      "metadata": {
        "id": "m_sYNDbHTEiG",
        "outputId": "949c7ad8-3076-4a24-8dcb-586a171b42eb",
        "colab": {
          "base_uri": "https://localhost:8080/"
        }
      },
      "execution_count": 7,
      "outputs": [
        {
          "output_type": "execute_result",
          "data": {
            "text/plain": [
              "A1    813\n",
              "C2    807\n",
              "C1    798\n",
              "B1    795\n",
              "A2    795\n",
              "B2    792\n",
              "Name: difficulty, dtype: int64"
            ]
          },
          "metadata": {},
          "execution_count": 7
        }
      ]
    },
    {
      "cell_type": "code",
      "source": [
        "plt.figure(figsize=(8,6))\n",
        "sns.countplot(x=df_train.difficulty)\n",
        "plt.show()"
      ],
      "metadata": {
        "id": "CZUzjufmTHY8",
        "outputId": "3df68787-62c5-46b0-bacf-57a0daaa168f",
        "colab": {
          "base_uri": "https://localhost:8080/",
          "height": 54
        }
      },
      "execution_count": 8,
      "outputs": [
        {
          "output_type": "display_data",
          "data": {
            "text/plain": [
              "<Figure size 576x432 with 1 Axes>"
            ],
            "image/png": "[encoded data removed]"
          },
          "metadata": {
            "needs_background": "light"
          }
        }
      ]
    },
    {
      "cell_type": "markdown",
      "source": [
        "##Baseline"
      ],
      "metadata": {
        "id": "ldcy7ElvVSR1"
      }
    },
    {
      "cell_type": "code",
      "source": [
        "# Base line calculation\n",
        "difficulty_A1_count = df.loc[df[\"difficulty\"] == \"A1\"].shape[0]\n",
        "difficulty_A2_count = df.loc[df[\"difficulty\"] == \"A2\"].shape[0]\n",
        "difficulty_B1_count = df.loc[df[\"difficulty\"] == \"B1\"].shape[0]\n",
        "difficulty_B2_count = df.loc[df[\"difficulty\"] == \"B2\"].shape[0]\n",
        "difficulty_C1_count = df.loc[df[\"difficulty\"] == \"C1\"].shape[0]\n",
        "difficulty_C2_count = df.loc[df[\"difficulty\"] == \"C2\"].shape[0]\n",
        "baserate = max(difficulty_A1_count, difficulty_A2_count,difficulty_B1_count,difficulty_B2_count,difficulty_C1_count,difficulty_C2_count)/(df[\"difficulty\"].shape[0])\n",
        "print(\"Baserate = \", baserate)"
      ],
      "metadata": {
        "id": "6O0Re0l3VY98",
        "colab": {
          "base_uri": "https://localhost:8080/"
        },
        "outputId": "ad06595c-100e-465c-8858-3654e1e7433e"
      },
      "execution_count": 9,
      "outputs": [
        {
          "output_type": "stream",
          "name": "stdout",
          "text": [
            "Baserate =  0.169375\n"
          ]
        }
      ]
    },
    {
      "cell_type": "markdown",
      "source": [
        "#D. Tokenizer & vectorizer (using two different natural language toolkits)"
      ],
      "metadata": {
        "id": "KzN8xnVIH7_x"
      }
    },
    {
      "cell_type": "markdown",
      "source": [
        "We decided to use TFIDF vectorizer to weight more the rare words. To our opinion, rare words can be revelevant to detect complexity."
      ],
      "metadata": {
        "id": "F7PHd5DFITZr"
      }
    },
    {
      "cell_type": "markdown",
      "source": [
        "##Spacy"
      ],
      "metadata": {
        "id": "ecy6xgFrV31s"
      }
    },
    {
      "cell_type": "markdown",
      "source": [
        "Spacy (or spaCy) is a popular natural language processing (NLP) library that includes a tokenizer for dividing a piece of text into individual tokens (commonly referred to as words, although in NLP the term \"token\" is more general and can refer to any part of a piece of text).\n",
        "\n",
        "The spaCy tokenizer works by first dividing the text into sentences, using a combination of rules and machine learning models trained on a large dataset. It then divides each sentence into tokens, again using a combination of rules and machine learning models.\n",
        "\n",
        "One of the key features of the spaCy tokenizer is its ability to handle a wide range of languages and writing systems, including languages with complex grammar and vocabulary, such as German and French, and languages with non-Latin scripts, such as Arabic and Chinese. The tokenizer is also able to handle a variety of text types, including social media posts, news articles, and academic papers.\n",
        "\n",
        "Once the text has been tokenized, spaCy performs a number of additional NLP tasks, including part-of-speech tagging, named entity recognition, and dependency parsing. These tasks are used to extract structured information from the text and make it easier to analyze and manipulate.\n",
        "\n",
        "For our competition, we will use the trained pipeline that already exists in french called : fr_core_news_sm\n",
        "\n",
        "More information about the NLP is available in their\n",
        "[website](https://spacy.io/) and you can find more details about the pipeline we use [here](https://spacy.io/models/fr).\n"
      ],
      "metadata": {
        "id": "hVvb0CX3BvGv"
      }
    },
    {
      "cell_type": "markdown",
      "source": [
        "Example of tokenization"
      ],
      "metadata": {
        "id": "UElkHPWMUdhq"
      }
    },
    {
      "cell_type": "code",
      "source": [
        "# Create tokenizer function\n",
        "sp_sm = spacy.load('fr_core_news_sm')\n",
        "\n",
        "print(spacy_tokenizer_sm(df.loc[2, 'sentence']))"
      ],
      "metadata": {
        "id": "ir8PrD8SJzKs",
        "colab": {
          "base_uri": "https://localhost:8080/"
        },
        "outputId": "d187a9fd-5853-4860-ddb9-3fe18324e48c"
      },
      "execution_count": 10,
      "outputs": [
        {
          "output_type": "stream",
          "name": "stdout",
          "text": [
            "['le', 'test', 'de', 'niveau', 'en', 'français', 'être', 'sur', 'le', 'site', 'internet', 'de', 'le', 'école', '.']\n"
          ]
        }
      ]
    },
    {
      "cell_type": "markdown",
      "source": [
        "Declaring the tokenizer"
      ],
      "metadata": {
        "id": "HlDTZ6p3UhID"
      }
    },
    {
      "cell_type": "code",
      "source": [
        "tfidf_vector_spacy = TfidfVectorizer(tokenizer=spacy_tokenizer_sm)"
      ],
      "metadata": {
        "id": "12cH9sYcJ3K6"
      },
      "execution_count": 11,
      "outputs": []
    },
    {
      "cell_type": "markdown",
      "source": [
        "Part-of-speech"
      ],
      "metadata": {
        "id": "Y6EO5u3aT70t"
      }
    },
    {
      "cell_type": "code",
      "source": [
        "fig, ax = plt.subplots(1,2, figsize=(12, 9))\n",
        "\n",
        "c = Counter()\n",
        "for sent in df_train.sentence:\n",
        "    c += Counter([token.pos_ for token in sp_sm(sent)])\n",
        "\n",
        "c = c.most_common()\n",
        "\n",
        "c2 = Counter()\n",
        "for sent in df_train.sentence:\n",
        "    c2 += Counter([token.pos_ for token in sp_sm(sent)])\n",
        "\n",
        "c2 = c2.most_common()\n",
        "\n",
        "x = [i[1] for i in c]\n",
        "y = [i[0] for i in c]\n",
        "\n",
        "x2 = [i[1] for i in c2]\n",
        "y2 = [i[0] for i in c2]\n",
        "\n",
        "fig.suptitle(\"Part-of-speech\", size=25)\n",
        "ax[0].set_title(\"Training Set\")\n",
        "ax[1].set_title(\"Unlabelled Set\")\n",
        "\n",
        "sns.barplot(x, y, orient='h', ax=ax[1])\n",
        "sns.barplot(x2, y2, orient='h', ax=ax[0])"
      ],
      "metadata": {
        "id": "u58ejC0fT7gz",
        "outputId": "ad41f97c-e1c7-4d8a-c1b7-9382c44f3f03",
        "colab": {
          "base_uri": "https://localhost:8080/",
          "height": 178
        }
      },
      "execution_count": 12,
      "outputs": [
        {
          "output_type": "stream",
          "name": "stderr",
          "text": [
            "/usr/local/lib/python3.8/dist-packages/seaborn/_decorators.py:36: FutureWarning: Pass the following variables as keyword args: x, y. From version 0.12, the only valid positional argument will be `data`, and passing other arguments without an explicit keyword will result in an error or misinterpretation.\n",
            "  warnings.warn(\n",
            "/usr/local/lib/python3.8/dist-packages/seaborn/_decorators.py:36: FutureWarning: Pass the following variables as keyword args: x, y. From version 0.12, the only valid positional argument will be `data`, and passing other arguments without an explicit keyword will result in an error or misinterpretation.\n",
            "  warnings.warn(\n"
          ]
        },
        {
          "output_type": "execute_result",
          "data": {
            "text/plain": [
              "<matplotlib.axes._subplots.AxesSubplot at 0x7f642e856760>"
            ]
          },
          "metadata": {},
          "execution_count": 12
        },
        {
          "output_type": "display_data",
          "data": {
            "text/plain": [
              "<Figure size 864x648 with 2 Axes>"
            ],
            "image/png": "[encoded data removed]"
          },
          "metadata": {
            "needs_background": "light"
          }
        }
      ]
    },
    {
      "cell_type": "markdown",
      "source": [
        "##NLTK"
      ],
      "metadata": {
        "id": "7H_nhJnqV7ET"
      }
    },
    {
      "cell_type": "markdown",
      "source": [
        "The Natural Language Toolkit (NLTK) is a suite of libraries and resources for natural language processing (NLP) in the Python programming language. It provides tools for tasks such as tokenization (dividing text into individual words and punctuation), part-of-speech tagging (identifying the part of speech of each word), and named entity recognition (identifying named entities like person names, organizations, and locations).\n",
        "\n",
        "NLTK also includes a number of resources and datasets for working with text, including a large collection of sample texts, word lists, and corpora (large collections of text). It also includes tools for working with other languages and writing systems, such as stemmers for reducing words to their base form and tools for working with machine translation.\n",
        "\n",
        "More information about the NLTK NLP is available in their [website](https://www.nltk.org/) and the [github](https://github.com/nltk/nltk) from _Bird, Steven, Edward Loper and Ewan Klein (2009). Natural Language Processing with Python.  O'Reilly Media Inc._"
      ],
      "metadata": {
        "id": "KH-wvfSsH-Ol"
      }
    },
    {
      "cell_type": "markdown",
      "source": [
        "Example of tokenization"
      ],
      "metadata": {
        "id": "-JZRxEs8UjaM"
      }
    },
    {
      "cell_type": "code",
      "source": [
        "print(nltk_tokenizer(df.loc[2, 'sentence']))"
      ],
      "metadata": {
        "id": "iMQvcWayIMxT",
        "colab": {
          "base_uri": "https://localhost:8080/"
        },
        "outputId": "a4f4b376-d980-4152-8705-bcc1aa09e335"
      },
      "execution_count": 13,
      "outputs": [
        {
          "output_type": "stream",
          "name": "stdout",
          "text": [
            "['le', 'test', 'de', 'niveau', 'en', 'français', 'est', 'sur', 'le', 'site', 'internet', 'de', \"l'école\", '.']\n"
          ]
        }
      ]
    },
    {
      "cell_type": "markdown",
      "source": [
        "Declaring the tokenizer"
      ],
      "metadata": {
        "id": "UZUwUyE4Ulpo"
      }
    },
    {
      "cell_type": "code",
      "source": [
        "tfidf_vector_nltk = TfidfVectorizer(tokenizer=nltk_tokenizer)"
      ],
      "metadata": {
        "id": "xWk5rsZsInvu"
      },
      "execution_count": 14,
      "outputs": []
    },
    {
      "cell_type": "markdown",
      "source": [
        "##Quick comparison"
      ],
      "metadata": {
        "id": "TSgMJcPsJkaS"
      }
    },
    {
      "cell_type": "markdown",
      "source": [
        "Looking at the output of each NLP we can see there are slight differences :<br/>\n",
        "\n",
        "\n",
        "*   print(spacy_tokenizer_sm(df.loc[2, 'sentence']))\n",
        "<br/> **['le', 'test', 'de', 'niveau', 'en', 'français', <mark>'être'</mark>, 'sur', 'le', 'site', 'internet', 'de', <mark>''le''</mark>, <mark>''école'</mark>', '.']**<br/><br/>\n",
        "\n",
        "*   print(nltk_tokenizer(df.loc[2, 'sentence']))\n",
        "<br/> **['le', 'test', 'de', 'niveau', 'en', 'français', <mark>''est'</mark>', 'sur', 'le', 'site', 'internet', 'de', <mark>'\"l'école\"</mark>', '.']**\n",
        "\n",
        "\n",
        "\n",
        "\n"
      ],
      "metadata": {
        "id": "-YtsW38NJvfs"
      }
    },
    {
      "cell_type": "markdown",
      "source": [
        "# E. Classification models using the two different natural language tools (SPACY & NLTK)"
      ],
      "metadata": {
        "id": "eFMo5IenItmy"
      }
    },
    {
      "cell_type": "code",
      "source": [
        "X = df[\"sentence\"] # the features we want to analyze\n",
        "y = df[\"difficulty\"] # the labels we want to test against\n",
        "\n",
        "# Train test split\n",
        "X_train, X_test, y_train, y_test = train_test_split(X, y, test_size=0.20, random_state=0)\n",
        "\n",
        "X_train"
      ],
      "metadata": {
        "id": "4U44StrZJjUG",
        "colab": {
          "base_uri": "https://localhost:8080/"
        },
        "outputId": "c830ced5-f5b5-4c44-e149-2d2e9b8c5d3f"
      },
      "execution_count": 15,
      "outputs": [
        {
          "output_type": "execute_result",
          "data": {
            "text/plain": [
              "70                                Comment t'appelles-tu ?\n",
              "4347    Voilà qui serait en effet de nature à simplifi...\n",
              "1122    Les pèlerins partagèrent alors cette célébrati...\n",
              "4570                          Qu'est-ce que vous faites ?\n",
              "34      En voici un des moins obscurs : \"Plus nous dev...\n",
              "                              ...                        \n",
              "1033    Les micro-changements apportés par ce type d'u...\n",
              "3264    J'allais à la poste quand j'ai croisé ma cousi...\n",
              "1653    Au cours des années 1970 et 1980, plusieurs gr...\n",
              "2607    Stop : tout d'abord, figurez-vous que les vrai...\n",
              "2732    \"On s'est alors dit que le terrain commençait ...\n",
              "Name: sentence, Length: 3840, dtype: object"
            ]
          },
          "metadata": {},
          "execution_count": 15
        }
      ]
    },
    {
      "cell_type": "markdown",
      "source": [
        "##Logistic Regression"
      ],
      "metadata": {
        "id": "emUVPfdlU_SE"
      }
    },
    {
      "cell_type": "markdown",
      "source": [
        "###With Spacy"
      ],
      "metadata": {
        "id": "pueSQ8rlYosB"
      }
    },
    {
      "cell_type": "code",
      "source": [
        "# Define classifier\n",
        "LR_spacy_model= LogisticRegression(solver = \"lbfgs\", multi_class = 'multinomial')\n",
        "\n",
        "# Create pipeline\n",
        "## The purpose of the pipeline is to assemble several steps that can be cross-validated together while setting different parameters.\n",
        "LR_spacy_pipe = Pipeline([('vectorizer', tfidf_vector_spacy), ('classifier', LR_spacy_model)])\n",
        "\n",
        "# Fit model on training set\n",
        "LR_spacy_pipe.fit(X_train, y_train)\n",
        "\n",
        "LR_spacy_pred = LR_spacy_pipe.predict(X_test)\n",
        "\n",
        "LR_spacy_report = evaluate(y_test, LR_spacy_pred)\n",
        "\n",
        "# Storing the model performance results in a DF called reports\n",
        "reports['Logistic Regression Spacy'] = LR_spacy_report\n",
        "\n",
        "LR_spacy_report"
      ],
      "metadata": {
        "id": "-cjyBc0nVLLQ",
        "colab": {
          "base_uri": "https://localhost:8080/"
        },
        "outputId": "661c6a90-625a-47fa-a462-99ecb5958ea5"
      },
      "execution_count": 16,
      "outputs": [
        {
          "output_type": "execute_result",
          "data": {
            "text/plain": [
              "{'accuracy': 0.47708333333333336,\n",
              " 'recall': 0.4776555731965663,\n",
              " 'precision': 0.47618103606302115,\n",
              " 'f1_score': 0.4747294688325296}"
            ]
          },
          "metadata": {},
          "execution_count": 16
        }
      ]
    },
    {
      "cell_type": "code",
      "source": [
        "plot_confusion_matrix(y_test, LR_spacy_pred, LR_spacy_pipe)"
      ],
      "metadata": {
        "id": "TEOdVofCa9qn",
        "colab": {
          "base_uri": "https://localhost:8080/",
          "height": 54
        },
        "outputId": "9d0d353b-34d0-4803-a749-98a75059752f"
      },
      "execution_count": 17,
      "outputs": [
        {
          "output_type": "display_data",
          "data": {
            "text/plain": [
              "<Figure size 432x288 with 2 Axes>"
            ],
            "image/png": "[encoded data removed]"
          },
          "metadata": {
            "needs_background": "light"
          }
        }
      ]
    },
    {
      "cell_type": "markdown",
      "source": [
        "Example of type of errors"
      ],
      "metadata": {
        "id": "DVxcCb4absax"
      }
    },
    {
      "cell_type": "code",
      "source": [
        "badly_predicted = pd.DataFrame({'sentence':X_test[LR_spacy_pred != y_test],\n",
        "              'predicted':LR_spacy_pred[LR_spacy_pred != y_test],\n",
        "              'true':y_test[LR_spacy_pred != y_test]})\n",
        "\n",
        "\n",
        "for i, row in badly_predicted.sample(3).iterrows():\n",
        "    print(row.sentence)\n",
        "    print(f\"Predicted: {row.predicted}\")\n",
        "    print(f\"Actual: {row.true}\")"
      ],
      "metadata": {
        "id": "AHMXLg68bpmC",
        "colab": {
          "base_uri": "https://localhost:8080/"
        },
        "outputId": "cd6531c8-b719-4633-cf20-9ebfcc800f12"
      },
      "execution_count": 18,
      "outputs": [
        {
          "output_type": "stream",
          "name": "stdout",
          "text": [
            "Le réseau social annonce ce mardi la constitution d'un \"comité consultatif européen de sécurité\", composé de neuf membres de la société civile.\n",
            "Predicted: C1\n",
            "Actual: B2\n",
            "À 40 ans, il est usé.\n",
            "Predicted: A1\n",
            "Actual: B1\n",
            "Il y a beaucoup de désordre dans l'appartement.\n",
            "Predicted: A2\n",
            "Actual: A1\n"
          ]
        }
      ]
    },
    {
      "cell_type": "markdown",
      "source": [
        "###With NLTK"
      ],
      "metadata": {
        "id": "dQpT9TzUZ64X"
      }
    },
    {
      "cell_type": "markdown",
      "source": [
        "NLTK == Natural Language Toolkit"
      ],
      "metadata": {
        "id": "sk3luBHhaMg2"
      }
    },
    {
      "cell_type": "code",
      "source": [
        "# Define classifier\n",
        "LR_model_nltk = LogisticRegression(solver = \"lbfgs\", multi_class = 'multinomial')\n",
        "\n",
        "# Create pipeline\n",
        "## The purpose of the pipeline is to assemble several steps that can be cross-validated together while setting different parameters.\n",
        "LR_nltk_pipe = Pipeline([('vectorizer', tfidf_vector_nltk), ('classifier', LR_model_nltk)])\n",
        "\n",
        "# Fit model on training set\n",
        "LR_nltk_pipe.fit(X_train, y_train)\n",
        "\n",
        "LR_nltk_pred = LR_nltk_pipe.predict(X_test)\n",
        "\n",
        "LR_nltk_report = evaluate(y_test, LR_nltk_pred)\n",
        "\n",
        "# Storing the model performance results in a DF called reports\n",
        "reports['Logistic Regression NLTK'] = LR_nltk_report\n",
        "\n",
        "LR_nltk_report"
      ],
      "metadata": {
        "id": "OCDws7QdYmsm",
        "colab": {
          "base_uri": "https://localhost:8080/"
        },
        "outputId": "804b1d88-ab51-45cf-c399-97ecc8b6cc44"
      },
      "execution_count": 19,
      "outputs": [
        {
          "output_type": "execute_result",
          "data": {
            "text/plain": [
              "{'accuracy': 0.4864583333333333,\n",
              " 'recall': 0.48852107075520407,\n",
              " 'precision': 0.48299665579640344,\n",
              " 'f1_score': 0.4820740600661711}"
            ]
          },
          "metadata": {},
          "execution_count": 19
        }
      ]
    },
    {
      "cell_type": "code",
      "source": [
        "plot_confusion_matrix(y_test, LR_nltk_pred, LR_nltk_pipe)"
      ],
      "metadata": {
        "id": "8wOpnKihbXLk",
        "colab": {
          "base_uri": "https://localhost:8080/",
          "height": 54
        },
        "outputId": "240a0401-7177-44cc-e80e-c0477edac799"
      },
      "execution_count": 20,
      "outputs": [
        {
          "output_type": "display_data",
          "data": {
            "text/plain": [
              "<Figure size 432x288 with 2 Axes>"
            ],
            "image/png": "[encoded data removed]"
          },
          "metadata": {
            "needs_background": "light"
          }
        }
      ]
    },
    {
      "cell_type": "markdown",
      "source": [
        "Example of type of errors"
      ],
      "metadata": {
        "id": "_ySFnfhncleK"
      }
    },
    {
      "cell_type": "code",
      "source": [
        "badly_predicted = pd.DataFrame({'sentence':X_test[LR_nltk_pred != y_test],\n",
        "              'predicted':LR_nltk_pred[LR_nltk_pred != y_test],\n",
        "              'true':y_test[LR_nltk_pred != y_test]})\n",
        "\n",
        "\n",
        "for i, row in badly_predicted.sample(3).iterrows():\n",
        "    print(row.sentence)\n",
        "    print(f\"Predicted: {row.predicted}\")\n",
        "    print(f\"Actual: {row.true}\")"
      ],
      "metadata": {
        "id": "Efzlwu0gcpH2",
        "colab": {
          "base_uri": "https://localhost:8080/"
        },
        "outputId": "2e3dc4ab-fa07-4402-a9ff-e7022a1c8e0d"
      },
      "execution_count": 21,
      "outputs": [
        {
          "output_type": "stream",
          "name": "stdout",
          "text": [
            "Après, je vais dans la cuisine et je bois mon café\n",
            "Predicted: A2\n",
            "Actual: A1\n",
            "La dynamique de la vie de ces couples, ponctuée par des crises successives et des étapes semblables à celles de n'importe quel couple, a pourtant sa logique propre.\n",
            "Predicted: C1\n",
            "Actual: C2\n",
            "Les articulations sont en haut la hanche, au milieu le genou en en bas la cheville\n",
            "Predicted: C1\n",
            "Actual: B1\n"
          ]
        }
      ]
    },
    {
      "cell_type": "markdown",
      "source": [
        "##kNN"
      ],
      "metadata": {
        "id": "C6Fs620Nd3SU"
      }
    },
    {
      "cell_type": "markdown",
      "source": [
        "###With Spacy"
      ],
      "metadata": {
        "id": "dhR4y8HleKHr"
      }
    },
    {
      "cell_type": "code",
      "source": [
        "# Define classifier\n",
        "knn_spacy_model = KNeighborsClassifier()\n",
        "Nknn = list(range(1, 100))\n",
        "param_grid = dict(n_neighbors=Nknn)\n",
        "\n",
        "# Create pipeline\n",
        "## The purpose of the pipeline is to assemble several steps that can be cross-validated together while setting different parameters.\n",
        "\n",
        "knn_spacy_grid = GridSearchCV(knn_spacy_model, param_grid, cv=5, scoring='accuracy', return_train_score=False,verbose=1)\n",
        "\n",
        "knn_spacy_pipe = Pipeline([('vectorizer',  tfidf_vector_spacy), ('classifier', knn_spacy_grid)])\n",
        "# Fit model on training set\n",
        "knn_spacy_pipe.fit(X_train, y_train)\n",
        "\n",
        "best_param_knn_spacy = knn_spacy_grid .best_params_.get('n_neighbors')\n",
        "print(knn_spacy_grid .best_params_)"
      ],
      "metadata": {
        "id": "ztS54OgLdy-1",
        "colab": {
          "base_uri": "https://localhost:8080/"
        },
        "outputId": "db6a88e3-14f1-4375-e9e2-aca361f8575e"
      },
      "execution_count": 22,
      "outputs": [
        {
          "output_type": "stream",
          "name": "stdout",
          "text": [
            "Fitting 5 folds for each of 99 candidates, totalling 495 fits\n",
            "{'n_neighbors': 12}\n"
          ]
        }
      ]
    },
    {
      "cell_type": "code",
      "source": [
        "knn_spacy_classifier = KNeighborsClassifier(n_neighbors=best_param_knn_spacy)\n",
        "# Create pipeline\n",
        "## The purpose of the pipeline is to assemble several steps that can be cross-validated together while setting different parameters.\n",
        "KNN_spacy_pipe = Pipeline([('vectorizer', tfidf_vector_spacy), ('classifier', knn_spacy_classifier)])\n",
        "\n",
        "# Fit model on training set\n",
        "KNN_spacy_pipe.fit(X_train, y_train)\n",
        "\n",
        "# Predictions\n",
        "KNN_spacy_pred = KNN_spacy_pipe.predict(X_test)\n",
        "\n",
        "KNN_spacy_pred_report = evaluate(y_test, KNN_spacy_pred)\n",
        "\n",
        "# Storing the model performance results in a DF called reports\n",
        "reports['KNN Spacy'] = KNN_spacy_pred_report\n",
        "\n",
        "KNN_spacy_pred_report"
      ],
      "metadata": {
        "id": "Zwqa0GiEgMOk",
        "colab": {
          "base_uri": "https://localhost:8080/"
        },
        "outputId": "3e0496d2-6449-403d-e929-ca474354b67e"
      },
      "execution_count": 23,
      "outputs": [
        {
          "output_type": "execute_result",
          "data": {
            "text/plain": [
              "{'accuracy': 0.33958333333333335,\n",
              " 'recall': 0.3390992681026839,\n",
              " 'precision': 0.3878947666751313,\n",
              " 'f1_score': 0.31931761937572006}"
            ]
          },
          "metadata": {},
          "execution_count": 23
        }
      ]
    },
    {
      "cell_type": "code",
      "source": [
        "plot_confusion_matrix(y_test, KNN_spacy_pred, KNN_spacy_pipe)"
      ],
      "metadata": {
        "id": "y2-RAAZflDj7",
        "colab": {
          "base_uri": "https://localhost:8080/",
          "height": 54
        },
        "outputId": "89f98ff9-8702-4be8-812b-128a123c4544"
      },
      "execution_count": 24,
      "outputs": [
        {
          "output_type": "display_data",
          "data": {
            "text/plain": [
              "<Figure size 432x288 with 2 Axes>"
            ],
            "image/png": "[encoded data removed]"
          },
          "metadata": {
            "needs_background": "light"
          }
        }
      ]
    },
    {
      "cell_type": "markdown",
      "source": [
        "###With NLTK"
      ],
      "metadata": {
        "id": "5b6ImOiulMPV"
      }
    },
    {
      "cell_type": "code",
      "source": [
        "# Define classifier\n",
        "knn_nltk_model = KNeighborsClassifier()\n",
        "Nknn = list(range(1, 100))\n",
        "param_grid = dict(n_neighbors=Nknn)\n",
        "\n",
        "# Create pipeline\n",
        "## The purpose of the pipeline is to assemble several steps that can be cross-validated together while setting different parameters.\n",
        "\n",
        "knn_nltk_grid = GridSearchCV(knn_nltk_model, param_grid, cv=5, scoring='accuracy', return_train_score=False,verbose=1)\n",
        "\n",
        "knn_nltk_pipe = Pipeline([('vectorizer',  tfidf_vector_nltk), ('classifier', knn_nltk_grid)])\n",
        "# Fit model on training set\n",
        "knn_nltk_pipe.fit(X_train, y_train)\n",
        "\n",
        "best_param_knn_nltk = knn_nltk_grid .best_params_.get('n_neighbors')\n",
        "print(knn_nltk_grid .best_params_)"
      ],
      "metadata": {
        "id": "1IMQn_b2lO3-",
        "colab": {
          "base_uri": "https://localhost:8080/"
        },
        "outputId": "45e432d6-3bfe-4d82-ddbc-39f42f1f7768"
      },
      "execution_count": 25,
      "outputs": [
        {
          "output_type": "stream",
          "name": "stdout",
          "text": [
            "Fitting 5 folds for each of 99 candidates, totalling 495 fits\n",
            "{'n_neighbors': 36}\n"
          ]
        }
      ]
    },
    {
      "cell_type": "code",
      "source": [
        "knn_nltk_classifier = KNeighborsClassifier(n_neighbors=best_param_knn_nltk)\n",
        "# Create pipeline\n",
        "## The purpose of the pipeline is to assemble several steps that can be cross-validated together while setting different parameters.\n",
        "KNN_nltk_pipe = Pipeline([('vectorizer', tfidf_vector_nltk), ('classifier', knn_nltk_classifier)])\n",
        "\n",
        "# Fit model on training set\n",
        "KNN_nltk_pipe.fit(X_train, y_train)\n",
        "\n",
        "# Predictions\n",
        "KNN_nltk_pred = KNN_nltk_pipe.predict(X_test)\n",
        "\n",
        "KNN_nltk_pred_report = evaluate(y_test, KNN_nltk_pred)\n",
        "\n",
        "# Storing the model performance results in a DF called reports\n",
        "reports['KNN NLTK'] = KNN_nltk_pred_report\n",
        "\n",
        "KNN_nltk_pred_report"
      ],
      "metadata": {
        "id": "RUzJ7EzmllMm",
        "colab": {
          "base_uri": "https://localhost:8080/"
        },
        "outputId": "9ce3433d-ca4d-47b3-e7fb-23701eab0895"
      },
      "execution_count": 26,
      "outputs": [
        {
          "output_type": "execute_result",
          "data": {
            "text/plain": [
              "{'accuracy': 0.3572916666666667,\n",
              " 'recall': 0.35709204798993505,\n",
              " 'precision': 0.3793709754833736,\n",
              " 'f1_score': 0.3255541547284067}"
            ]
          },
          "metadata": {},
          "execution_count": 26
        }
      ]
    },
    {
      "cell_type": "code",
      "source": [
        "plot_confusion_matrix(y_test, KNN_nltk_pred, KNN_nltk_pipe)"
      ],
      "metadata": {
        "id": "FFsGMIEVmBXL",
        "colab": {
          "base_uri": "https://localhost:8080/",
          "height": 54
        },
        "outputId": "e4fb7ef6-c341-4918-bb88-3a73f4ea50e3"
      },
      "execution_count": 27,
      "outputs": [
        {
          "output_type": "display_data",
          "data": {
            "text/plain": [
              "<Figure size 432x288 with 2 Axes>"
            ],
            "image/png": "[encoded data removed]"
          },
          "metadata": {
            "needs_background": "light"
          }
        }
      ]
    },
    {
      "cell_type": "markdown",
      "source": [
        "##Decision Tree"
      ],
      "metadata": {
        "id": "renriEfumKb8"
      }
    },
    {
      "cell_type": "markdown",
      "source": [
        "####With Spacy"
      ],
      "metadata": {
        "id": "itR2d-KYmXDn"
      }
    },
    {
      "cell_type": "code",
      "source": [
        "tree_spacy_model = DecisionTreeClassifier()\n",
        "\n",
        "tree_spacy_pipe = Pipeline([('vectorizer', tfidf_vector_spacy),\n",
        "                 ('classifier', tree_spacy_model)])\n",
        "\n",
        "\n",
        "tree_spacy_pipe.fit(X_train, y_train)\n",
        "\n",
        "tree_spacy_pred = tree_spacy_pipe.predict(X_test)\n",
        "\n",
        "tree_spacy_report = evaluate(y_test, tree_spacy_pred)\n",
        "\n",
        "# Store model performance results\n",
        "reports['Decision Tree Spacy'] = tree_spacy_report\n",
        "\n",
        "tree_spacy_report"
      ],
      "metadata": {
        "id": "8AKk7jd-mMFD",
        "colab": {
          "base_uri": "https://localhost:8080/"
        },
        "outputId": "a88317f2-9605-484a-83c8-d78cb5b7ba51"
      },
      "execution_count": 28,
      "outputs": [
        {
          "output_type": "execute_result",
          "data": {
            "text/plain": [
              "{'accuracy': 0.34375,\n",
              " 'recall': 0.3442394457397307,\n",
              " 'precision': 0.34113116376110003,\n",
              " 'f1_score': 0.34125788703968696}"
            ]
          },
          "metadata": {},
          "execution_count": 28
        }
      ]
    },
    {
      "cell_type": "code",
      "source": [
        "plot_confusion_matrix(y_test, tree_spacy_pred, tree_spacy_pipe)"
      ],
      "metadata": {
        "id": "IbG1eAEPm4_R",
        "colab": {
          "base_uri": "https://localhost:8080/",
          "height": 54
        },
        "outputId": "7e7538a6-17cc-4b07-ac5a-7de55d072663"
      },
      "execution_count": 29,
      "outputs": [
        {
          "output_type": "display_data",
          "data": {
            "text/plain": [
              "<Figure size 432x288 with 2 Axes>"
            ],
            "image/png": "[encoded data removed]"
          },
          "metadata": {
            "needs_background": "light"
          }
        }
      ]
    },
    {
      "cell_type": "markdown",
      "source": [
        "####With NLTK"
      ],
      "metadata": {
        "id": "5Oxo9FQdm-yt"
      }
    },
    {
      "cell_type": "code",
      "source": [
        "tree_nltk_model = DecisionTreeClassifier()\n",
        "\n",
        "tree_nltk_pipe = Pipeline([('vectorizer', tfidf_vector_nltk),\n",
        "                 ('classifier', tree_nltk_model)])\n",
        "\n",
        "\n",
        "tree_nltk_pipe.fit(X_train, y_train)\n",
        "\n",
        "tree_nltk_pred = tree_nltk_pipe.predict(X_test)\n",
        "\n",
        "tree_nltk_report = evaluate(y_test, tree_nltk_pred)\n",
        "\n",
        "# Store model performance results\n",
        "reports['Decision Tree NLTK'] = tree_nltk_report\n",
        "\n",
        "tree_nltk_report"
      ],
      "metadata": {
        "id": "VFmjZO8-nBX7",
        "colab": {
          "base_uri": "https://localhost:8080/"
        },
        "outputId": "6c2cb046-8899-4105-8280-f7a73fb110c2"
      },
      "execution_count": 30,
      "outputs": [
        {
          "output_type": "execute_result",
          "data": {
            "text/plain": [
              "{'accuracy': 0.30104166666666665,\n",
              " 'recall': 0.30249052597314957,\n",
              " 'precision': 0.30042939029783566,\n",
              " 'f1_score': 0.29766569264845205}"
            ]
          },
          "metadata": {},
          "execution_count": 30
        }
      ]
    },
    {
      "cell_type": "code",
      "source": [
        "plot_confusion_matrix(y_test, tree_nltk_pred, tree_nltk_pipe)"
      ],
      "metadata": {
        "id": "YyQSZY7rnl-u",
        "colab": {
          "base_uri": "https://localhost:8080/",
          "height": 54
        },
        "outputId": "682a307d-5ef6-48f3-af87-3c8e0959ba57"
      },
      "execution_count": 31,
      "outputs": [
        {
          "output_type": "display_data",
          "data": {
            "text/plain": [
              "<Figure size 432x288 with 2 Axes>"
            ],
            "image/png": "[encoded data removed]"
          },
          "metadata": {
            "needs_background": "light"
          }
        }
      ]
    },
    {
      "cell_type": "markdown",
      "source": [
        "##Random Forest"
      ],
      "metadata": {
        "id": "2HS9KVtTn96m"
      }
    },
    {
      "cell_type": "markdown",
      "source": [
        "####With Spacy"
      ],
      "metadata": {
        "id": "68VACqGYpZlX"
      }
    },
    {
      "cell_type": "code",
      "source": [
        "forest_spacy_model = RandomForestClassifier()\n",
        "\n",
        "forest_spacy_pipe = Pipeline([('vectorizer', tfidf_vector_spacy),\n",
        "                 ('classifier', forest_spacy_model)])\n",
        "\n",
        "forest_spacy_pipe.fit(X_train, y_train)\n",
        "\n",
        "forest_spacy_pred = forest_spacy_pipe.predict(X_test)\n",
        "\n",
        "forest_spacy_report = evaluate(y_test, forest_spacy_pred)\n",
        "\n",
        "# Store model performance results\n",
        "reports['Random Forest Spacy'] = forest_spacy_report\n",
        "\n",
        "forest_spacy_report"
      ],
      "metadata": {
        "id": "1cGKM68loByY",
        "colab": {
          "base_uri": "https://localhost:8080/"
        },
        "outputId": "99ea85ea-bf19-4d3c-ad37-326eaa1227c0"
      },
      "execution_count": 32,
      "outputs": [
        {
          "output_type": "execute_result",
          "data": {
            "text/plain": [
              "{'accuracy': 0.4041666666666667,\n",
              " 'recall': 0.4048496435699671,\n",
              " 'precision': 0.406328163567175,\n",
              " 'f1_score': 0.39489197934597325}"
            ]
          },
          "metadata": {},
          "execution_count": 32
        }
      ]
    },
    {
      "cell_type": "code",
      "source": [
        "plot_confusion_matrix(y_test, forest_spacy_pred, forest_spacy_pipe)"
      ],
      "metadata": {
        "id": "Dni5FvxUo2_i",
        "colab": {
          "base_uri": "https://localhost:8080/",
          "height": 54
        },
        "outputId": "3c344347-028e-4c27-9a11-30621e0af8d1"
      },
      "execution_count": 33,
      "outputs": [
        {
          "output_type": "display_data",
          "data": {
            "text/plain": [
              "<Figure size 432x288 with 2 Axes>"
            ],
            "image/png": "[encoded data removed]"
          },
          "metadata": {
            "needs_background": "light"
          }
        }
      ]
    },
    {
      "cell_type": "markdown",
      "source": [
        "####With NLTK"
      ],
      "metadata": {
        "id": "fPRNJKfephSr"
      }
    },
    {
      "cell_type": "code",
      "source": [
        "forest_nltk_model = RandomForestClassifier()\n",
        "\n",
        "forest_nltk_pipe = Pipeline([('vectorizer', tfidf_vector_nltk),\n",
        "                 ('classifier', forest_nltk_model)])\n",
        "\n",
        "forest_nltk_pipe.fit(X_train, y_train)\n",
        "\n",
        "forest_nltk_pred = forest_nltk_pipe.predict(X_test)\n",
        "\n",
        "forest_nltk_report = evaluate(y_test, forest_nltk_pred)\n",
        "\n",
        "# Store model performance results\n",
        "reports['Random Forest NLTK'] = forest_nltk_report\n",
        "\n",
        "forest_nltk_report"
      ],
      "metadata": {
        "id": "ZKjogIvRpkhM",
        "colab": {
          "base_uri": "https://localhost:8080/"
        },
        "outputId": "5a5360c0-9c4e-4f0d-e8ff-b76b6524f497"
      },
      "execution_count": 34,
      "outputs": [
        {
          "output_type": "execute_result",
          "data": {
            "text/plain": [
              "{'accuracy': 0.403125,\n",
              " 'recall': 0.4058812820890086,\n",
              " 'precision': 0.4076792134859777,\n",
              " 'f1_score': 0.391922876500749}"
            ]
          },
          "metadata": {},
          "execution_count": 34
        }
      ]
    },
    {
      "cell_type": "code",
      "source": [
        "plot_confusion_matrix(y_test, forest_nltk_pred, forest_nltk_pipe)"
      ],
      "metadata": {
        "id": "sYfcg0lbp7Sf",
        "colab": {
          "base_uri": "https://localhost:8080/",
          "height": 54
        },
        "outputId": "e28feb27-9d25-4558-aa45-285bc0f3db08"
      },
      "execution_count": 35,
      "outputs": [
        {
          "output_type": "display_data",
          "data": {
            "text/plain": [
              "<Figure size 432x288 with 2 Axes>"
            ],
            "image/png": "[encoded data removed]"
          },
          "metadata": {
            "needs_background": "light"
          }
        }
      ]
    },
    {
      "cell_type": "markdown",
      "source": [
        "##Ridge classifier"
      ],
      "metadata": {
        "id": "Z4oga3zwqhN_"
      }
    },
    {
      "cell_type": "markdown",
      "source": [
        "Ridge classifier is a type of linear classifier that is trained using Ridge regression, which is a variant of least squares linear regression that uses L2 regularization. Ridge regression adds a penalty term to the objective function that is being optimized, which helps to prevent overfitting and improve the generalization performance of the model."
      ],
      "metadata": {
        "id": "Gy-SseLilLCe"
      }
    },
    {
      "cell_type": "markdown",
      "source": [
        "####With Spacy"
      ],
      "metadata": {
        "id": "mpqEOZVcrTp2"
      }
    },
    {
      "cell_type": "code",
      "source": [
        "ridge_spacy_model = RidgeClassifier()\n",
        "\n",
        "ridge_spacy_pipe = Pipeline([('vectorizer', tfidf_vector_spacy),\n",
        "                             ('classifier', ridge_spacy_model)])\n",
        "\n",
        "ridge_spacy_pipe.fit(X_train, y_train)\n",
        "\n",
        "ridge_spacy_pred = ridge_spacy_pipe.predict(X_test)\n",
        "\n",
        "ridge_spacy_report = evaluate(y_test, ridge_spacy_pred)\n",
        "\n",
        "# Store model performance results\n",
        "reports['Ridge Classifier Spacy'] = ridge_spacy_report\n",
        "\n",
        "ridge_spacy_report"
      ],
      "metadata": {
        "id": "Lh2IYc1eqvq0",
        "colab": {
          "base_uri": "https://localhost:8080/"
        },
        "outputId": "caf53026-bc3b-454f-9993-7ed28ff04daa"
      },
      "execution_count": 36,
      "outputs": [
        {
          "output_type": "execute_result",
          "data": {
            "text/plain": [
              "{'accuracy': 0.46458333333333335,\n",
              " 'recall': 0.4647618612515534,\n",
              " 'precision': 0.4659453701846607,\n",
              " 'f1_score': 0.4619179523466987}"
            ]
          },
          "metadata": {},
          "execution_count": 36
        }
      ]
    },
    {
      "cell_type": "code",
      "source": [
        "plot_confusion_matrix(y_test, ridge_spacy_pred, ridge_spacy_pipe)"
      ],
      "metadata": {
        "id": "WV1lN22KrYIS",
        "colab": {
          "base_uri": "https://localhost:8080/",
          "height": 54
        },
        "outputId": "1bf9b8e5-b9c6-4d68-b274-c3f8701a52fc"
      },
      "execution_count": 37,
      "outputs": [
        {
          "output_type": "display_data",
          "data": {
            "text/plain": [
              "<Figure size 432x288 with 2 Axes>"
            ],
            "image/png": "[encoded data removed]"
          },
          "metadata": {
            "needs_background": "light"
          }
        }
      ]
    },
    {
      "cell_type": "markdown",
      "source": [
        "####With NLTK"
      ],
      "metadata": {
        "id": "lGZSlO0arfgN"
      }
    },
    {
      "cell_type": "code",
      "source": [
        "ridge_nltk_model = RidgeClassifier()\n",
        "\n",
        "ridge_nltk_pipe = Pipeline([('vectorizer', tfidf_vector_nltk),\n",
        "                             ('classifier', ridge_nltk_model)])\n",
        "\n",
        "ridge_nltk_pipe.fit(X_train, y_train)\n",
        "\n",
        "ridge_nltk_pred = ridge_nltk_pipe.predict(X_test)\n",
        "\n",
        "ridge_nltk_report = evaluate(y_test, ridge_nltk_pred)\n",
        "\n",
        "# Store model performance results\n",
        "reports['Ridge Classifier NLTK'] = ridge_nltk_report\n",
        "\n",
        "ridge_nltk_report"
      ],
      "metadata": {
        "id": "DEdjYLPRrrNQ",
        "colab": {
          "base_uri": "https://localhost:8080/"
        },
        "outputId": "f103fe15-c056-4d8b-d8f3-f407e8312579"
      },
      "execution_count": 38,
      "outputs": [
        {
          "output_type": "execute_result",
          "data": {
            "text/plain": [
              "{'accuracy': 0.48854166666666665,\n",
              " 'recall': 0.4896766905572185,\n",
              " 'precision': 0.4874729561439978,\n",
              " 'f1_score': 0.48364906264711555}"
            ]
          },
          "metadata": {},
          "execution_count": 38
        }
      ]
    },
    {
      "cell_type": "markdown",
      "source": [
        "##Perceptron classifier"
      ],
      "metadata": {
        "id": "qqjAMiqNsC1k"
      }
    },
    {
      "cell_type": "markdown",
      "source": [
        "Perceptron classifier is a type of linear classifier that is used for binary classification. It is based on the perceptron algorithm, which is a simple algorithm that can be used to learn a linear decision boundary between two classes."
      ],
      "metadata": {
        "id": "bGaIJXHllYOA"
      }
    },
    {
      "cell_type": "markdown",
      "source": [
        "####With Spacy"
      ],
      "metadata": {
        "id": "_Zkc2GXSs8nG"
      }
    },
    {
      "cell_type": "code",
      "source": [
        "perceptron_spacy_model = Perceptron()\n",
        "\n",
        "perceptron_spacy_pipe = Pipeline([('vectorizer', tfidf_vector_spacy),\n",
        "                 ('classifier', perceptron_spacy_model)])\n",
        "\n",
        "\n",
        "perceptron_spacy_pipe.fit(X_train, y_train)\n",
        "\n",
        "perceptron_spacy_pred = perceptron_spacy_pipe.predict(X_test)\n",
        "\n",
        "perceptron_spacy_report = evaluate(y_test, perceptron_spacy_pred)\n",
        "\n",
        "# Store model performance results\n",
        "reports['Perceptron Classifier Spacy'] = perceptron_spacy_report\n",
        "\n",
        "perceptron_spacy_report\n"
      ],
      "metadata": {
        "id": "E7O7CDGjsS77",
        "colab": {
          "base_uri": "https://localhost:8080/"
        },
        "outputId": "582099e7-cf86-4529-eb75-104df964ba2c"
      },
      "execution_count": 39,
      "outputs": [
        {
          "output_type": "execute_result",
          "data": {
            "text/plain": [
              "{'accuracy': 0.41041666666666665,\n",
              " 'recall': 0.41035209950055634,\n",
              " 'precision': 0.419992178466476,\n",
              " 'f1_score': 0.4117283025225354}"
            ]
          },
          "metadata": {},
          "execution_count": 39
        }
      ]
    },
    {
      "cell_type": "code",
      "source": [
        "plot_confusion_matrix(y_test, perceptron_spacy_pred, perceptron_spacy_pipe)"
      ],
      "metadata": {
        "id": "YNrrQ1KDs0-e",
        "colab": {
          "base_uri": "https://localhost:8080/",
          "height": 54
        },
        "outputId": "e545e645-fd27-4e33-8411-78e9c3778c1f"
      },
      "execution_count": 40,
      "outputs": [
        {
          "output_type": "display_data",
          "data": {
            "text/plain": [
              "<Figure size 432x288 with 2 Axes>"
            ],
            "image/png": "[encoded data removed]"
          },
          "metadata": {
            "needs_background": "light"
          }
        }
      ]
    },
    {
      "cell_type": "markdown",
      "source": [
        "####With NLTK"
      ],
      "metadata": {
        "id": "euLYn4nftBdG"
      }
    },
    {
      "cell_type": "code",
      "source": [
        "perceptron_nltk_model = Perceptron()\n",
        "\n",
        "perceptron_nltk_pipe = Pipeline([('vectorizer', tfidf_vector_nltk),\n",
        "                 ('classifier', perceptron_nltk_model)])\n",
        "\n",
        "\n",
        "perceptron_nltk_pipe.fit(X_train, y_train)\n",
        "\n",
        "perceptron_nltk_pred = perceptron_nltk_pipe.predict(X_test)\n",
        "\n",
        "perceptron_nltk_report = evaluate(y_test, perceptron_nltk_pred)\n",
        "\n",
        "# Store model performance results\n",
        "reports['Perceptron Classifier NLTK'] = perceptron_nltk_report\n",
        "\n",
        "perceptron_nltk_report\n"
      ],
      "metadata": {
        "id": "i4jhusf2tECS",
        "colab": {
          "base_uri": "https://localhost:8080/"
        },
        "outputId": "881ee7d5-ead7-47d2-eef7-a14f1eac0daf"
      },
      "execution_count": 41,
      "outputs": [
        {
          "output_type": "execute_result",
          "data": {
            "text/plain": [
              "{'accuracy': 0.44583333333333336,\n",
              " 'recall': 0.44498705396339355,\n",
              " 'precision': 0.4463002013881355,\n",
              " 'f1_score': 0.4445842616422033}"
            ]
          },
          "metadata": {},
          "execution_count": 41
        }
      ]
    },
    {
      "cell_type": "code",
      "source": [
        "plot_confusion_matrix(y_test, perceptron_nltk_pred, perceptron_nltk_pipe)"
      ],
      "metadata": {
        "id": "-8_JupfYtY5K",
        "colab": {
          "base_uri": "https://localhost:8080/",
          "height": 54
        },
        "outputId": "dad4e721-5dc1-4c59-c66b-03384a334d5c"
      },
      "execution_count": 42,
      "outputs": [
        {
          "output_type": "display_data",
          "data": {
            "text/plain": [
              "<Figure size 432x288 with 2 Axes>"
            ],
            "image/png": "[encoded data removed]"
          },
          "metadata": {
            "needs_background": "light"
          }
        }
      ]
    },
    {
      "cell_type": "markdown",
      "source": [
        "##GradientBoostingClassifier"
      ],
      "metadata": {
        "id": "yu-MvkWV_l78"
      }
    },
    {
      "cell_type": "markdown",
      "source": [
        "Gradient Boosting Classifier is a type of ensemble learning method that can be used for classification and regression tasks. It combines the predictions of multiple weak models, such as decision trees, to create a strong model that is able to make more accurate predictions."
      ],
      "metadata": {
        "id": "DQS1wRyxloH6"
      }
    },
    {
      "cell_type": "markdown",
      "source": [
        "####With Spacy"
      ],
      "metadata": {
        "id": "St-SKAcf_rhS"
      }
    },
    {
      "cell_type": "code",
      "execution_count": 43,
      "metadata": {
        "id": "wY0fR8cZ7ZQD",
        "colab": {
          "base_uri": "https://localhost:8080/"
        },
        "outputId": "c28a3bff-fd76-498e-e8f8-05e71a3085b1"
      },
      "outputs": [
        {
          "output_type": "execute_result",
          "data": {
            "text/plain": [
              "{'accuracy': 0.41770833333333335,\n",
              " 'recall': 0.41816564007377705,\n",
              " 'precision': 0.4169859247223647,\n",
              " 'f1_score': 0.4139245335774424}"
            ]
          },
          "metadata": {},
          "execution_count": 43
        }
      ],
      "source": [
        "gbc_spacy_model = GradientBoostingClassifier()\n",
        "\n",
        "gbc_spacy_pipe = Pipeline([('vectorizer',  tfidf_vector_spacy),\n",
        "                 ('classifier', gbc_spacy_model)])\n",
        "\n",
        "gbc_spacy_pipe.fit(X_train, y_train)\n",
        "\n",
        "gbc_spacy_pred = gbc_spacy_pipe.predict(X_test)\n",
        "\n",
        "gbc_spacy_report = evaluate(y_test, gbc_spacy_pred)\n",
        "\n",
        "# Store model performance results\n",
        "reports['Gradient Boosting Classifier Spacy'] = gbc_spacy_report\n",
        "\n",
        "gbc_spacy_report\n"
      ]
    },
    {
      "cell_type": "markdown",
      "source": [
        "####With NLTK"
      ],
      "metadata": {
        "id": "BLf2Bf0RAQcf"
      }
    },
    {
      "cell_type": "code",
      "source": [
        "gbc_nltk_model = GradientBoostingClassifier()\n",
        "\n",
        "gbc_nltk_pipe = Pipeline([('vectorizer',  tfidf_vector_nltk),\n",
        "                 ('classifier', gbc_nltk_model)])\n",
        "\n",
        "gbc_nltk_pipe.fit(X_train, y_train)\n",
        "\n",
        "gbc_nltk_pred = gbc_nltk_pipe.predict(X_test)\n",
        "\n",
        "gbc_nltk_report = evaluate(y_test, gbc_nltk_pred)\n",
        "\n",
        "# Store model performance results\n",
        "reports['Gradient Boosting Classifier NLTK'] = gbc_nltk_report\n",
        "\n",
        "gbc_nltk_report"
      ],
      "metadata": {
        "id": "SZKqd-ZJAURi",
        "colab": {
          "base_uri": "https://localhost:8080/"
        },
        "outputId": "8eff6bc9-bb28-43d5-8b9a-485c364b134f"
      },
      "execution_count": 44,
      "outputs": [
        {
          "output_type": "execute_result",
          "data": {
            "text/plain": [
              "{'accuracy': 0.421875,\n",
              " 'recall': 0.42366256510112205,\n",
              " 'precision': 0.4261056797670544,\n",
              " 'f1_score': 0.41766784375434457}"
            ]
          },
          "metadata": {},
          "execution_count": 44
        }
      ]
    },
    {
      "cell_type": "markdown",
      "source": [
        "##XGB classifier"
      ],
      "metadata": {
        "id": "q_9u9DjUEpNS"
      }
    },
    {
      "cell_type": "markdown",
      "source": [
        "XGBoost (Extreme Gradient Boosting) is an open-source implementation of the Gradient Boosting algorithm that was developed by Tianqi Chen. It is a popular choice for many machine learning tasks, including classification, because it is fast, scalable, and can achieve high performance on a wide range of datasets."
      ],
      "metadata": {
        "id": "e9pFay9jl3nT"
      }
    },
    {
      "cell_type": "markdown",
      "source": [
        "####With Spacy"
      ],
      "metadata": {
        "id": "l7ok-EGsEtLi"
      }
    },
    {
      "cell_type": "code",
      "source": [
        "from xgboost import XGBClassifier\n",
        "\n",
        "xgb_spacy_model = XGBClassifier()\n",
        "xgb_spacy_pipe = Pipeline([('vectorizer', tfidf_vector_spacy), ('classifier', xgb_spacy_model)])\n",
        "\n",
        "xgb_spacy_pipe.fit(X_train, y_train)\n",
        "\n",
        "xgb_spacy_pred = xgb_spacy_pipe.predict(X_test)\n",
        "\n",
        "xgb_spacy_report = evaluate(y_test, xgb_spacy_pred)\n",
        "\n",
        "# Store model performance results\n",
        "reports['XGB Classifier Spacy'] = xgb_spacy_report\n",
        "\n",
        "xgb_spacy_report"
      ],
      "metadata": {
        "id": "TFw10v2HCWYc",
        "colab": {
          "base_uri": "https://localhost:8080/"
        },
        "outputId": "aa012215-3bcc-4e6f-b3f3-13515b5a6cfc"
      },
      "execution_count": 45,
      "outputs": [
        {
          "output_type": "execute_result",
          "data": {
            "text/plain": [
              "{'accuracy': 0.40729166666666666,\n",
              " 'recall': 0.40737400249510963,\n",
              " 'precision': 0.40633065314814026,\n",
              " 'f1_score': 0.4004317790331446}"
            ]
          },
          "metadata": {},
          "execution_count": 45
        }
      ]
    },
    {
      "cell_type": "markdown",
      "source": [
        "####With NLTK"
      ],
      "metadata": {
        "id": "GDPL0w9gEvZ6"
      }
    },
    {
      "cell_type": "code",
      "source": [
        "xgb_nltk_model = XGBClassifier()\n",
        "xgb_nltk_pipe = Pipeline([('vectorizer', tfidf_vector_nltk), ('classifier', xgb_nltk_model)])\n",
        "\n",
        "xgb_nltk_pipe.fit(X_train, y_train)\n",
        "\n",
        "xgb_nltk_pred = xgb_nltk_pipe.predict(X_test)\n",
        "\n",
        "xgb_nltk_report = evaluate(y_test, xgb_nltk_pred)\n",
        "\n",
        "# Store model performance results\n",
        "reports['XGB Classifier NLTK'] = xgb_nltk_report \n",
        "\n",
        "xgb_nltk_report"
      ],
      "metadata": {
        "id": "5qWuY_gZEa5k",
        "colab": {
          "base_uri": "https://localhost:8080/"
        },
        "outputId": "f389e793-0b10-4c7d-da63-f352ba78125a"
      },
      "execution_count": 46,
      "outputs": [
        {
          "output_type": "execute_result",
          "data": {
            "text/plain": [
              "{'accuracy': 0.39166666666666666,\n",
              " 'recall': 0.3933612614746378,\n",
              " 'precision': 0.3982022538874536,\n",
              " 'f1_score': 0.38183735819807363}"
            ]
          },
          "metadata": {},
          "execution_count": 46
        }
      ]
    },
    {
      "cell_type": "markdown",
      "source": [
        "##SGD Classifier"
      ],
      "metadata": {
        "id": "A8kq3naOGMha"
      }
    },
    {
      "cell_type": "markdown",
      "source": [
        "Stochastic Gradient Descent (SGD) Classifier is a type of linear classifier that is trained using the stochastic gradient descent optimization algorithm. It is a variant of the Perceptron algorithm, where the model is trained on small batches of data rather than the entire dataset."
      ],
      "metadata": {
        "id": "fIhV-RfDmL3P"
      }
    },
    {
      "cell_type": "markdown",
      "source": [
        "####With spacy"
      ],
      "metadata": {
        "id": "jbx_t0fdGPcJ"
      }
    },
    {
      "cell_type": "code",
      "source": [
        "from sklearn.linear_model import SGDClassifier\n",
        "\n",
        "sgd_spacy_model = SGDClassifier()\n",
        "\n",
        "sgd_spacy_pipe = Pipeline([('vectorizer', tfidf_vector_spacy), ('classifier', sgd_spacy_model)])\n",
        "\n",
        "sgd_spacy_pipe.fit(X_train, y_train)\n",
        "\n",
        "sgd_spacy_pred = sgd_spacy_pipe.predict(X_test)\n",
        "\n",
        "sgd_spacy_report = evaluate(y_test, sgd_spacy_pred)\n",
        "\n",
        "# Store model performance results\n",
        "reports['SGD Classifier Spacy'] = sgd_spacy_report\n",
        "\n",
        "sgd_spacy_report\n"
      ],
      "metadata": {
        "id": "NzePFjJbFgbF",
        "colab": {
          "base_uri": "https://localhost:8080/"
        },
        "outputId": "a314f7ce-7af5-46d3-9daa-ac7947e0e1d7"
      },
      "execution_count": 47,
      "outputs": [
        {
          "output_type": "execute_result",
          "data": {
            "text/plain": [
              "{'accuracy': 0.46145833333333336,\n",
              " 'recall': 0.46232680818220145,\n",
              " 'precision': 0.4631978277966084,\n",
              " 'f1_score': 0.4604971917104665}"
            ]
          },
          "metadata": {},
          "execution_count": 47
        }
      ]
    },
    {
      "cell_type": "markdown",
      "source": [
        "####With NLTK"
      ],
      "metadata": {
        "id": "4JXemBQBGZFU"
      }
    },
    {
      "cell_type": "code",
      "source": [
        "sgd_nltk_model = SGDClassifier()\n",
        "\n",
        "sgd_nltk_pipe = Pipeline([('vectorizer', tfidf_vector_nltk), ('classifier', sgd_nltk_model)])\n",
        "\n",
        "sgd_nltk_pipe.fit(X_train, y_train)\n",
        "\n",
        "sgd_nltk_pred = sgd_nltk_pipe.predict(X_test)\n",
        "\n",
        "sgd_nltk_report = evaluate(y_test, sgd_nltk_pred)\n",
        "\n",
        "# Store model performance results\n",
        "reports['SGD Classifier NLTK'] = sgd_nltk_report\n",
        "\n",
        "sgd_nltk_report\n"
      ],
      "metadata": {
        "id": "EOY8xmswFMid",
        "colab": {
          "base_uri": "https://localhost:8080/"
        },
        "outputId": "82345dce-d840-4eb6-8ec6-c9640ce09b83"
      },
      "execution_count": 48,
      "outputs": [
        {
          "output_type": "execute_result",
          "data": {
            "text/plain": [
              "{'accuracy': 0.46875,\n",
              " 'recall': 0.4698720432373856,\n",
              " 'precision': 0.4682247399082408,\n",
              " 'f1_score': 0.46523304185083675}"
            ]
          },
          "metadata": {},
          "execution_count": 48
        }
      ]
    },
    {
      "cell_type": "markdown",
      "source": [
        "#F. Models Comparison"
      ],
      "metadata": {
        "id": "XBVSdj5Btk-N"
      }
    },
    {
      "cell_type": "markdown",
      "source": [
        "The results are displayed in this section. We can see which models are more promising comparing them all. In the below graph and table, each model is displayed using both NPL."
      ],
      "metadata": {
        "id": "ztvNHy56MgY4"
      }
    },
    {
      "cell_type": "code",
      "source": [
        "fig, ax = plt.subplots(1, 1, figsize=(30,9))\n",
        "\n",
        "width = 0.70\n",
        "labels = reports.keys()\n",
        "report_values_accuracy = [x['accuracy'] for x in reports.values()]\n",
        "\n",
        "ax.bar(labels, report_values_accuracy, \n",
        "        label='Accuracy', width=width)\n",
        "\n",
        "plt.xticks(rotation=45)\n",
        "ax.legend()\n",
        "plt.title(\"Accuracy per Model using both NLTK and SPACY NLPs\")\n",
        "plt.show()"
      ],
      "metadata": {
        "id": "OL_-XZUXtsfP",
        "colab": {
          "base_uri": "https://localhost:8080/",
          "height": 672
        },
        "outputId": "a4d41b1a-b7b8-45fe-f849-15204dc9bd1f"
      },
      "execution_count": 57,
      "outputs": [
        {
          "output_type": "display_data",
          "data": {
            "text/plain": [
              "<Figure size 2160x648 with 1 Axes>"
            ],
            "image/png": "[encoded data removed]"
          },
          "metadata": {
            "needs_background": "light"
          }
        }
      ]
    },
    {
      "cell_type": "code",
      "source": [
        "fig, ax = plt.subplots(1, 1, figsize=(30,9))\n",
        "\n",
        "width = 0.70\n",
        "labels = reports.keys()\n",
        "report_values_recall = [x['recall'] for x in reports.values()]\n",
        "\n",
        "ax.bar(labels, report_values_recall, \n",
        "        label='Recall', width=width)\n",
        "\n",
        "plt.xticks(rotation=45)\n",
        "ax.legend()\n",
        "plt.title(\"Recall per Model using both NLTK and SPACY NLPs\")\n",
        "plt.show()"
      ],
      "metadata": {
        "id": "LeYI2daU8OPk",
        "outputId": "24382caf-6e2d-4290-ff84-2bd1798634df",
        "colab": {
          "base_uri": "https://localhost:8080/",
          "height": 672
        }
      },
      "execution_count": 58,
      "outputs": [
        {
          "output_type": "display_data",
          "data": {
            "text/plain": [
              "<Figure size 2160x648 with 1 Axes>"
            ],
            "image/png": "[encoded data removed]"
          },
          "metadata": {
            "needs_background": "light"
          }
        }
      ]
    },
    {
      "cell_type": "code",
      "source": [
        "fig, ax = plt.subplots(1, 1, figsize=(30,9))\n",
        "\n",
        "width = 0.70\n",
        "labels = reports.keys()\n",
        "report_values_precision = [x['precision'] for x in reports.values()]\n",
        "\n",
        "ax.bar(labels, report_values_precision, \n",
        "        label='Precision', width=width)\n",
        "\n",
        "plt.xticks(rotation=45)\n",
        "ax.legend()\n",
        "plt.title(\"Precision per Model using both NLTK and SPACY NLPs\")\n",
        "plt.show()"
      ],
      "metadata": {
        "id": "7WB76P5_81l5",
        "outputId": "033dbcd4-1e48-4b59-a826-33e8e3bf8340",
        "colab": {
          "base_uri": "https://localhost:8080/",
          "height": 672
        }
      },
      "execution_count": 59,
      "outputs": [
        {
          "output_type": "display_data",
          "data": {
            "text/plain": [
              "<Figure size 2160x648 with 1 Axes>"
            ],
            "image/png": "[encoded data removed]"
          },
          "metadata": {
            "needs_background": "light"
          }
        }
      ]
    },
    {
      "cell_type": "code",
      "source": [
        "fig, ax = plt.subplots(1, 1, figsize=(30,9))\n",
        "\n",
        "width = 0.70\n",
        "labels = reports.keys()\n",
        "report_values_f1_score = [x['f1_score'] for x in reports.values()]\n",
        "\n",
        "ax.bar(labels, report_values_f1_score, \n",
        "        label='F1 score', width=width)\n",
        "\n",
        "plt.xticks(rotation=45)\n",
        "ax.legend()\n",
        "plt.title(\"F1 score per Model using both NLTK and SPACY NLPs\")\n",
        "plt.show()"
      ],
      "metadata": {
        "id": "ZiKq9q_w9LHy",
        "outputId": "9eae5265-ee2b-430b-b09a-9e7cc5c9f4a7",
        "colab": {
          "base_uri": "https://localhost:8080/",
          "height": 672
        }
      },
      "execution_count": 60,
      "outputs": [
        {
          "output_type": "display_data",
          "data": {
            "text/plain": [
              "<Figure size 2160x648 with 1 Axes>"
            ],
            "image/png": "[encoded data removed]"
          },
          "metadata": {
            "needs_background": "light"
          }
        }
      ]
    },
    {
      "cell_type": "code",
      "source": [
        "models_comparaison_table2 = pd.DataFrame({'Model name':pd.Series(reports.keys()),'Accuracy':pd.Series(report_values_accuracy),'Recall':pd.Series(report_values_recall),'Precision':pd.Series(report_values_precision),'F1 Score':pd.Series(report_values_f1_score),}).sort_values(by=['Accuracy'],ascending=False)\n",
        "models_comparaison_table2.set_index(['Model name']).T"
      ],
      "metadata": {
        "id": "gCaS5xLGOgfE",
        "colab": {
          "base_uri": "https://localhost:8080/",
          "height": 270
        },
        "outputId": "7a45c023-06d3-4977-b460-b659abde1bee"
      },
      "execution_count": 75,
      "outputs": [
        {
          "output_type": "execute_result",
          "data": {
            "text/plain": [
              "Model name  Ridge Classifier NLTK  Logistic Regression NLTK  \\\n",
              "Accuracy                 0.488542                  0.486458   \n",
              "Recall                   0.489677                  0.488521   \n",
              "Precision                0.487473                  0.482997   \n",
              "F1 Score                 0.483649                  0.482074   \n",
              "\n",
              "Model name  Logistic Regression Spacy  SGD Classifier NLTK  \\\n",
              "Accuracy                     0.477083             0.468750   \n",
              "Recall                       0.477656             0.469872   \n",
              "Precision                    0.476181             0.468225   \n",
              "F1 Score                     0.474729             0.465233   \n",
              "\n",
              "Model name  Ridge Classifier Spacy  SGD Classifier Spacy  \\\n",
              "Accuracy                  0.464583              0.461458   \n",
              "Recall                    0.464762              0.462327   \n",
              "Precision                 0.465945              0.463198   \n",
              "F1 Score                  0.461918              0.460497   \n",
              "\n",
              "Model name  Perceptron Classifier NLTK  Gradient Boosting Classifier NLTK  \\\n",
              "Accuracy                      0.445833                           0.421875   \n",
              "Recall                        0.444987                           0.423663   \n",
              "Precision                     0.446300                           0.426106   \n",
              "F1 Score                      0.444584                           0.417668   \n",
              "\n",
              "Model name  Gradient Boosting Classifier Spacy  Perceptron Classifier Spacy  \\\n",
              "Accuracy                              0.417708                     0.410417   \n",
              "Recall                                0.418166                     0.410352   \n",
              "Precision                             0.416986                     0.419992   \n",
              "F1 Score                              0.413925                     0.411728   \n",
              "\n",
              "Model name  XGB Classifier Spacy  Random Forest Spacy  Random Forest NLTK  \\\n",
              "Accuracy                0.407292             0.404167            0.403125   \n",
              "Recall                  0.407374             0.404850            0.405881   \n",
              "Precision               0.406331             0.406328            0.407679   \n",
              "F1 Score                0.400432             0.394892            0.391923   \n",
              "\n",
              "Model name  XGB Classifier NLTK  KNN NLTK  Decision Tree Spacy  KNN Spacy  \\\n",
              "Accuracy               0.391667  0.357292             0.343750   0.339583   \n",
              "Recall                 0.393361  0.357092             0.344239   0.339099   \n",
              "Precision              0.398202  0.379371             0.341131   0.387895   \n",
              "F1 Score               0.381837  0.325554             0.341258   0.319318   \n",
              "\n",
              "Model name  Decision Tree NLTK  \n",
              "Accuracy              0.301042  \n",
              "Recall                0.302491  \n",
              "Precision             0.300429  \n",
              "F1 Score              0.297666  "
            ],
            "text/html": [
              "\n",
              "  <div id=\"df-ea6f7fd2-8cab-4cb0-a7ab-6acbb5e200b8\">\n",
              "    <div class=\"colab-df-container\">\n",
              "      <div>\n",
              "<style scoped>\n",
              "    .dataframe tbody tr th:only-of-type {\n",
              "        vertical-align: middle;\n",
              "    }\n",
              "\n",
              "    .dataframe tbody tr th {\n",
              "        vertical-align: top;\n",
              "    }\n",
              "\n",
              "    .dataframe thead th {\n",
              "        text-align: right;\n",
              "    }\n",
              "</style>\n",
              "<table border=\"1\" class=\"dataframe\">\n",
              "  <thead>\n",
              "    <tr style=\"text-align: right;\">\n",
              "      <th>Model name</th>\n",
              "      <th>Ridge Classifier NLTK</th>\n",
              "      <th>Logistic Regression NLTK</th>\n",
              "      <th>Logistic Regression Spacy</th>\n",
              "      <th>SGD Classifier NLTK</th>\n",
              "      <th>Ridge Classifier Spacy</th>\n",
              "      <th>SGD Classifier Spacy</th>\n",
              "      <th>Perceptron Classifier NLTK</th>\n",
              "      <th>Gradient Boosting Classifier NLTK</th>\n",
              "      <th>Gradient Boosting Classifier Spacy</th>\n",
              "      <th>Perceptron Classifier Spacy</th>\n",
              "      <th>XGB Classifier Spacy</th>\n",
              "      <th>Random Forest Spacy</th>\n",
              "      <th>Random Forest NLTK</th>\n",
              "      <th>XGB Classifier NLTK</th>\n",
              "      <th>KNN NLTK</th>\n",
              "      <th>Decision Tree Spacy</th>\n",
              "      <th>KNN Spacy</th>\n",
              "      <th>Decision Tree NLTK</th>\n",
              "    </tr>\n",
              "  </thead>\n",
              "  <tbody>\n",
              "    <tr>\n",
              "      <th>Accuracy</th>\n",
              "      <td>0.488542</td>\n",
              "      <td>0.486458</td>\n",
              "      <td>0.477083</td>\n",
              "      <td>0.468750</td>\n",
              "      <td>0.464583</td>\n",
              "      <td>0.461458</td>\n",
              "      <td>0.445833</td>\n",
              "      <td>0.421875</td>\n",
              "      <td>0.417708</td>\n",
              "      <td>0.410417</td>\n",
              "      <td>0.407292</td>\n",
              "      <td>0.404167</td>\n",
              "      <td>0.403125</td>\n",
              "      <td>0.391667</td>\n",
              "      <td>0.357292</td>\n",
              "      <td>0.343750</td>\n",
              "      <td>0.339583</td>\n",
              "      <td>0.301042</td>\n",
              "    </tr>\n",
              "    <tr>\n",
              "      <th>Recall</th>\n",
              "      <td>0.489677</td>\n",
              "      <td>0.488521</td>\n",
              "      <td>0.477656</td>\n",
              "      <td>0.469872</td>\n",
              "      <td>0.464762</td>\n",
              "      <td>0.462327</td>\n",
              "      <td>0.444987</td>\n",
              "      <td>0.423663</td>\n",
              "      <td>0.418166</td>\n",
              "      <td>0.410352</td>\n",
              "      <td>0.407374</td>\n",
              "      <td>0.404850</td>\n",
              "      <td>0.405881</td>\n",
              "      <td>0.393361</td>\n",
              "      <td>0.357092</td>\n",
              "      <td>0.344239</td>\n",
              "      <td>0.339099</td>\n",
              "      <td>0.302491</td>\n",
              "    </tr>\n",
              "    <tr>\n",
              "      <th>Precision</th>\n",
              "      <td>0.487473</td>\n",
              "      <td>0.482997</td>\n",
              "      <td>0.476181</td>\n",
              "      <td>0.468225</td>\n",
              "      <td>0.465945</td>\n",
              "      <td>0.463198</td>\n",
              "      <td>0.446300</td>\n",
              "      <td>0.426106</td>\n",
              "      <td>0.416986</td>\n",
              "      <td>0.419992</td>\n",
              "      <td>0.406331</td>\n",
              "      <td>0.406328</td>\n",
              "      <td>0.407679</td>\n",
              "      <td>0.398202</td>\n",
              "      <td>0.379371</td>\n",
              "      <td>0.341131</td>\n",
              "      <td>0.387895</td>\n",
              "      <td>0.300429</td>\n",
              "    </tr>\n",
              "    <tr>\n",
              "      <th>F1 Score</th>\n",
              "      <td>0.483649</td>\n",
              "      <td>0.482074</td>\n",
              "      <td>0.474729</td>\n",
              "      <td>0.465233</td>\n",
              "      <td>0.461918</td>\n",
              "      <td>0.460497</td>\n",
              "      <td>0.444584</td>\n",
              "      <td>0.417668</td>\n",
              "      <td>0.413925</td>\n",
              "      <td>0.411728</td>\n",
              "      <td>0.400432</td>\n",
              "      <td>0.394892</td>\n",
              "      <td>0.391923</td>\n",
              "      <td>0.381837</td>\n",
              "      <td>0.325554</td>\n",
              "      <td>0.341258</td>\n",
              "      <td>0.319318</td>\n",
              "      <td>0.297666</td>\n",
              "    </tr>\n",
              "  </tbody>\n",
              "</table>\n",
              "</div>\n",
              "      <button class=\"colab-df-convert\" onclick=\"convertToInteractive('df-ea6f7fd2-8cab-4cb0-a7ab-6acbb5e200b8')\"\n",
              "              title=\"Convert this dataframe to an interactive table.\"\n",
              "              style=\"display:none;\">\n",
              "        \n",
              "  <svg xmlns=\"http://www.w3.org/2000/svg\" height=\"24px\"viewBox=\"0 0 24 24\"\n",
              "       width=\"24px\">\n",
              "    <path d=\"M0 0h24v24H0V0z\" fill=\"none\"/>\n",
              "    <path d=\"M18.56 5.44l.94 2.06.94-2.06 2.06-.94-2.06-.94-.94-2.06-.94 2.06-2.06.94zm-11 1L8.5 8.5l.94-2.06 2.06-.94-2.06-.94L8.5 2.5l-.94 2.06-2.06.94zm10 10l.94 2.06.94-2.06 2.06-.94-2.06-.94-.94-2.06-.94 2.06-2.06.94z\"/><path d=\"M17.41 7.96l-1.37-1.37c-.4-.4-.92-.59-1.43-.59-.52 0-1.04.2-1.43.59L10.3 9.45l-7.72 7.72c-.78.78-.78 2.05 0 2.83L4 21.41c.39.39.9.59 1.41.59.51 0 1.02-.2 1.41-.59l7.78-7.78 2.81-2.81c.8-.78.8-2.07 0-2.86zM5.41 20L4 18.59l7.72-7.72 1.47 1.35L5.41 20z\"/>\n",
              "  </svg>\n",
              "      </button>\n",
              "      \n",
              "  <style>\n",
              "    .colab-df-container {\n",
              "      display:flex;\n",
              "      flex-wrap:wrap;\n",
              "      gap: 12px;\n",
              "    }\n",
              "\n",
              "    .colab-df-convert {\n",
              "      background-color: #E8F0FE;\n",
              "      border: none;\n",
              "      border-radius: 50%;\n",
              "      cursor: pointer;\n",
              "      display: none;\n",
              "      fill: #1967D2;\n",
              "      height: 32px;\n",
              "      padding: 0 0 0 0;\n",
              "      width: 32px;\n",
              "    }\n",
              "\n",
              "    .colab-df-convert:hover {\n",
              "      background-color: #E2EBFA;\n",
              "      box-shadow: 0px 1px 2px rgba(60, 64, 67, 0.3), 0px 1px 3px 1px rgba(60, 64, 67, 0.15);\n",
              "      fill: #174EA6;\n",
              "    }\n",
              "\n",
              "    [theme=dark] .colab-df-convert {\n",
              "      background-color: #3B4455;\n",
              "      fill: #D2E3FC;\n",
              "    }\n",
              "\n",
              "    [theme=dark] .colab-df-convert:hover {\n",
              "      background-color: #434B5C;\n",
              "      box-shadow: 0px 1px 3px 1px rgba(0, 0, 0, 0.15);\n",
              "      filter: drop-shadow(0px 1px 2px rgba(0, 0, 0, 0.3));\n",
              "      fill: #FFFFFF;\n",
              "    }\n",
              "  </style>\n",
              "\n",
              "      <script>\n",
              "        const buttonEl =\n",
              "          document.querySelector('#df-ea6f7fd2-8cab-4cb0-a7ab-6acbb5e200b8 button.colab-df-convert');\n",
              "        buttonEl.style.display =\n",
              "          google.colab.kernel.accessAllowed ? 'block' : 'none';\n",
              "\n",
              "        async function convertToInteractive(key) {\n",
              "          const element = document.querySelector('#df-ea6f7fd2-8cab-4cb0-a7ab-6acbb5e200b8');\n",
              "          const dataTable =\n",
              "            await google.colab.kernel.invokeFunction('convertToInteractive',\n",
              "                                                     [key], {});\n",
              "          if (!dataTable) return;\n",
              "\n",
              "          const docLinkHtml = 'Like what you see? Visit the ' +\n",
              "            '<a target=\"_blank\" href=https://colab.research.google.com/notebooks/data_table.ipynb>data table notebook</a>'\n",
              "            + ' to learn more about interactive tables.';\n",
              "          element.innerHTML = '';\n",
              "          dataTable['output_type'] = 'display_data';\n",
              "          await google.colab.output.renderOutput(dataTable, element);\n",
              "          const docLink = document.createElement('div');\n",
              "          docLink.innerHTML = docLinkHtml;\n",
              "          element.appendChild(docLink);\n",
              "        }\n",
              "      </script>\n",
              "    </div>\n",
              "  </div>\n",
              "  "
            ]
          },
          "metadata": {},
          "execution_count": 75
        }
      ]
    },
    {
      "cell_type": "markdown",
      "source": [
        "# G. Some outcomes"
      ],
      "metadata": {
        "id": "rAdCMFVIyKpf"
      }
    },
    {
      "cell_type": "markdown",
      "source": [
        "Based on the results obtained above, we decided to make our first submissions with the following models :\n",
        "\n",
        "*   Ridge Classifier using NLTK with a predicted accuracy of 0.488542 vs a real of 0.46166\n",
        "*   SGD Classifier using NLTK with a predicted accuracy of 0.477083 vs a real of 0.4725\n",
        "*   LR Classifier using NLTK with a predicted accuracy of 0.486458 vs a real of 0.45666\n",
        "\n",
        "<br/><br/>**At this stage we setted our best submission in the competition achieving an accuracy of 0.4725 using the SGD classifier with NLTK NLP**"
      ],
      "metadata": {
        "id": "yj1CiyxjOw9w"
      }
    },
    {
      "cell_type": "markdown",
      "source": [
        "###First Submission (Real accuracy = 0.46166)"
      ],
      "metadata": {
        "id": "_L406M1cGfnK"
      }
    },
    {
      "cell_type": "code",
      "source": [
        "# Used the best model in terms of accuracy\n",
        "geneva_predictions_ridge_nltk = ridge_nltk_pipe.predict(df_unlabeled[\"sentence\"])\n",
        "\n",
        "first_submission = pd.DataFrame(geneva_predictions_ridge_nltk,columns=[\"difficulty\"])\n",
        "first_submission = first_submission.rename_axis(\"id\")\n",
        "\n",
        "first_submission.to_csv(\"Geneva_predictions_ridge_nltk.csv\") "
      ],
      "metadata": {
        "id": "oePisZbr23qM"
      },
      "execution_count": 51,
      "outputs": []
    },
    {
      "cell_type": "code",
      "source": [
        "first_submission"
      ],
      "metadata": {
        "id": "xPDg-pTf5ld3",
        "outputId": "fc9eaaef-1f63-49ea-c1b5-2f0e45b6b075",
        "colab": {
          "base_uri": "https://localhost:8080/",
          "height": 455
        }
      },
      "execution_count": 52,
      "outputs": [
        {
          "output_type": "execute_result",
          "data": {
            "text/plain": [
              "     difficulty\n",
              "id             \n",
              "0            C2\n",
              "1            B1\n",
              "2            A1\n",
              "3            A1\n",
              "4            C2\n",
              "...         ...\n",
              "1195         B1\n",
              "1196         A2\n",
              "1197         C2\n",
              "1198         C1\n",
              "1199         C1\n",
              "\n",
              "[1200 rows x 1 columns]"
            ],
            "text/html": [
              "\n",
              "  <div id=\"df-bf56593b-d8b9-4970-ac03-c2a4d2617063\">\n",
              "    <div class=\"colab-df-container\">\n",
              "      <div>\n",
              "<style scoped>\n",
              "    .dataframe tbody tr th:only-of-type {\n",
              "        vertical-align: middle;\n",
              "    }\n",
              "\n",
              "    .dataframe tbody tr th {\n",
              "        vertical-align: top;\n",
              "    }\n",
              "\n",
              "    .dataframe thead th {\n",
              "        text-align: right;\n",
              "    }\n",
              "</style>\n",
              "<table border=\"1\" class=\"dataframe\">\n",
              "  <thead>\n",
              "    <tr style=\"text-align: right;\">\n",
              "      <th></th>\n",
              "      <th>difficulty</th>\n",
              "    </tr>\n",
              "    <tr>\n",
              "      <th>id</th>\n",
              "      <th></th>\n",
              "    </tr>\n",
              "  </thead>\n",
              "  <tbody>\n",
              "    <tr>\n",
              "      <th>0</th>\n",
              "      <td>C2</td>\n",
              "    </tr>\n",
              "    <tr>\n",
              "      <th>1</th>\n",
              "      <td>B1</td>\n",
              "    </tr>\n",
              "    <tr>\n",
              "      <th>2</th>\n",
              "      <td>A1</td>\n",
              "    </tr>\n",
              "    <tr>\n",
              "      <th>3</th>\n",
              "      <td>A1</td>\n",
              "    </tr>\n",
              "    <tr>\n",
              "      <th>4</th>\n",
              "      <td>C2</td>\n",
              "    </tr>\n",
              "    <tr>\n",
              "      <th>...</th>\n",
              "      <td>...</td>\n",
              "    </tr>\n",
              "    <tr>\n",
              "      <th>1195</th>\n",
              "      <td>B1</td>\n",
              "    </tr>\n",
              "    <tr>\n",
              "      <th>1196</th>\n",
              "      <td>A2</td>\n",
              "    </tr>\n",
              "    <tr>\n",
              "      <th>1197</th>\n",
              "      <td>C2</td>\n",
              "    </tr>\n",
              "    <tr>\n",
              "      <th>1198</th>\n",
              "      <td>C1</td>\n",
              "    </tr>\n",
              "    <tr>\n",
              "      <th>1199</th>\n",
              "      <td>C1</td>\n",
              "    </tr>\n",
              "  </tbody>\n",
              "</table>\n",
              "<p>1200 rows × 1 columns</p>\n",
              "</div>\n",
              "      <button class=\"colab-df-convert\" onclick=\"convertToInteractive('df-bf56593b-d8b9-4970-ac03-c2a4d2617063')\"\n",
              "              title=\"Convert this dataframe to an interactive table.\"\n",
              "              style=\"display:none;\">\n",
              "        \n",
              "  <svg xmlns=\"http://www.w3.org/2000/svg\" height=\"24px\"viewBox=\"0 0 24 24\"\n",
              "       width=\"24px\">\n",
              "    <path d=\"M0 0h24v24H0V0z\" fill=\"none\"/>\n",
              "    <path d=\"M18.56 5.44l.94 2.06.94-2.06 2.06-.94-2.06-.94-.94-2.06-.94 2.06-2.06.94zm-11 1L8.5 8.5l.94-2.06 2.06-.94-2.06-.94L8.5 2.5l-.94 2.06-2.06.94zm10 10l.94 2.06.94-2.06 2.06-.94-2.06-.94-.94-2.06-.94 2.06-2.06.94z\"/><path d=\"M17.41 7.96l-1.37-1.37c-.4-.4-.92-.59-1.43-.59-.52 0-1.04.2-1.43.59L10.3 9.45l-7.72 7.72c-.78.78-.78 2.05 0 2.83L4 21.41c.39.39.9.59 1.41.59.51 0 1.02-.2 1.41-.59l7.78-7.78 2.81-2.81c.8-.78.8-2.07 0-2.86zM5.41 20L4 18.59l7.72-7.72 1.47 1.35L5.41 20z\"/>\n",
              "  </svg>\n",
              "      </button>\n",
              "      \n",
              "  <style>\n",
              "    .colab-df-container {\n",
              "      display:flex;\n",
              "      flex-wrap:wrap;\n",
              "      gap: 12px;\n",
              "    }\n",
              "\n",
              "    .colab-df-convert {\n",
              "      background-color: #E8F0FE;\n",
              "      border: none;\n",
              "      border-radius: 50%;\n",
              "      cursor: pointer;\n",
              "      display: none;\n",
              "      fill: #1967D2;\n",
              "      height: 32px;\n",
              "      padding: 0 0 0 0;\n",
              "      width: 32px;\n",
              "    }\n",
              "\n",
              "    .colab-df-convert:hover {\n",
              "      background-color: #E2EBFA;\n",
              "      box-shadow: 0px 1px 2px rgba(60, 64, 67, 0.3), 0px 1px 3px 1px rgba(60, 64, 67, 0.15);\n",
              "      fill: #174EA6;\n",
              "    }\n",
              "\n",
              "    [theme=dark] .colab-df-convert {\n",
              "      background-color: #3B4455;\n",
              "      fill: #D2E3FC;\n",
              "    }\n",
              "\n",
              "    [theme=dark] .colab-df-convert:hover {\n",
              "      background-color: #434B5C;\n",
              "      box-shadow: 0px 1px 3px 1px rgba(0, 0, 0, 0.15);\n",
              "      filter: drop-shadow(0px 1px 2px rgba(0, 0, 0, 0.3));\n",
              "      fill: #FFFFFF;\n",
              "    }\n",
              "  </style>\n",
              "\n",
              "      <script>\n",
              "        const buttonEl =\n",
              "          document.querySelector('#df-bf56593b-d8b9-4970-ac03-c2a4d2617063 button.colab-df-convert');\n",
              "        buttonEl.style.display =\n",
              "          google.colab.kernel.accessAllowed ? 'block' : 'none';\n",
              "\n",
              "        async function convertToInteractive(key) {\n",
              "          const element = document.querySelector('#df-bf56593b-d8b9-4970-ac03-c2a4d2617063');\n",
              "          const dataTable =\n",
              "            await google.colab.kernel.invokeFunction('convertToInteractive',\n",
              "                                                     [key], {});\n",
              "          if (!dataTable) return;\n",
              "\n",
              "          const docLinkHtml = 'Like what you see? Visit the ' +\n",
              "            '<a target=\"_blank\" href=https://colab.research.google.com/notebooks/data_table.ipynb>data table notebook</a>'\n",
              "            + ' to learn more about interactive tables.';\n",
              "          element.innerHTML = '';\n",
              "          dataTable['output_type'] = 'display_data';\n",
              "          await google.colab.output.renderOutput(dataTable, element);\n",
              "          const docLink = document.createElement('div');\n",
              "          docLink.innerHTML = docLinkHtml;\n",
              "          element.appendChild(docLink);\n",
              "        }\n",
              "      </script>\n",
              "    </div>\n",
              "  </div>\n",
              "  "
            ]
          },
          "metadata": {},
          "execution_count": 52
        }
      ]
    },
    {
      "cell_type": "markdown",
      "source": [
        "###Second Submission (Real accuracy = 0.4725)"
      ],
      "metadata": {
        "id": "Tjt9Ru5-GkXU"
      }
    },
    {
      "cell_type": "code",
      "source": [
        "# Used the best model in terms of accuracy\n",
        "geneva_predictions_sgd_nltk = sgd_nltk_pipe.predict(df_unlabeled[\"sentence\"])\n",
        "\n",
        "second_submission = pd.DataFrame(geneva_predictions_sgd_nltk ,columns=[\"difficulty\"])\n",
        "second_submission = second_submission.rename_axis(\"id\")\n",
        "\n",
        "second_submission.to_csv(\"Geneva_predictions_sgd_nltk.csv\") "
      ],
      "metadata": {
        "id": "VnXknOGGGnBf"
      },
      "execution_count": 53,
      "outputs": []
    },
    {
      "cell_type": "code",
      "source": [
        "second_submission"
      ],
      "metadata": {
        "id": "LOkOMUhJG5ql",
        "outputId": "7ec56fd7-dd36-4b85-ac98-cea88793af70",
        "colab": {
          "base_uri": "https://localhost:8080/",
          "height": 455
        }
      },
      "execution_count": 54,
      "outputs": [
        {
          "output_type": "execute_result",
          "data": {
            "text/plain": [
              "     difficulty\n",
              "id             \n",
              "0            C2\n",
              "1            B1\n",
              "2            A1\n",
              "3            A1\n",
              "4            C2\n",
              "...         ...\n",
              "1195         B1\n",
              "1196         A2\n",
              "1197         C2\n",
              "1198         A1\n",
              "1199         C1\n",
              "\n",
              "[1200 rows x 1 columns]"
            ],
            "text/html": [
              "\n",
              "  <div id=\"df-1641c4bb-95e5-4699-82f0-76d94d6d21fb\">\n",
              "    <div class=\"colab-df-container\">\n",
              "      <div>\n",
              "<style scoped>\n",
              "    .dataframe tbody tr th:only-of-type {\n",
              "        vertical-align: middle;\n",
              "    }\n",
              "\n",
              "    .dataframe tbody tr th {\n",
              "        vertical-align: top;\n",
              "    }\n",
              "\n",
              "    .dataframe thead th {\n",
              "        text-align: right;\n",
              "    }\n",
              "</style>\n",
              "<table border=\"1\" class=\"dataframe\">\n",
              "  <thead>\n",
              "    <tr style=\"text-align: right;\">\n",
              "      <th></th>\n",
              "      <th>difficulty</th>\n",
              "    </tr>\n",
              "    <tr>\n",
              "      <th>id</th>\n",
              "      <th></th>\n",
              "    </tr>\n",
              "  </thead>\n",
              "  <tbody>\n",
              "    <tr>\n",
              "      <th>0</th>\n",
              "      <td>C2</td>\n",
              "    </tr>\n",
              "    <tr>\n",
              "      <th>1</th>\n",
              "      <td>B1</td>\n",
              "    </tr>\n",
              "    <tr>\n",
              "      <th>2</th>\n",
              "      <td>A1</td>\n",
              "    </tr>\n",
              "    <tr>\n",
              "      <th>3</th>\n",
              "      <td>A1</td>\n",
              "    </tr>\n",
              "    <tr>\n",
              "      <th>4</th>\n",
              "      <td>C2</td>\n",
              "    </tr>\n",
              "    <tr>\n",
              "      <th>...</th>\n",
              "      <td>...</td>\n",
              "    </tr>\n",
              "    <tr>\n",
              "      <th>1195</th>\n",
              "      <td>B1</td>\n",
              "    </tr>\n",
              "    <tr>\n",
              "      <th>1196</th>\n",
              "      <td>A2</td>\n",
              "    </tr>\n",
              "    <tr>\n",
              "      <th>1197</th>\n",
              "      <td>C2</td>\n",
              "    </tr>\n",
              "    <tr>\n",
              "      <th>1198</th>\n",
              "      <td>A1</td>\n",
              "    </tr>\n",
              "    <tr>\n",
              "      <th>1199</th>\n",
              "      <td>C1</td>\n",
              "    </tr>\n",
              "  </tbody>\n",
              "</table>\n",
              "<p>1200 rows × 1 columns</p>\n",
              "</div>\n",
              "      <button class=\"colab-df-convert\" onclick=\"convertToInteractive('df-1641c4bb-95e5-4699-82f0-76d94d6d21fb')\"\n",
              "              title=\"Convert this dataframe to an interactive table.\"\n",
              "              style=\"display:none;\">\n",
              "        \n",
              "  <svg xmlns=\"http://www.w3.org/2000/svg\" height=\"24px\"viewBox=\"0 0 24 24\"\n",
              "       width=\"24px\">\n",
              "    <path d=\"M0 0h24v24H0V0z\" fill=\"none\"/>\n",
              "    <path d=\"M18.56 5.44l.94 2.06.94-2.06 2.06-.94-2.06-.94-.94-2.06-.94 2.06-2.06.94zm-11 1L8.5 8.5l.94-2.06 2.06-.94-2.06-.94L8.5 2.5l-.94 2.06-2.06.94zm10 10l.94 2.06.94-2.06 2.06-.94-2.06-.94-.94-2.06-.94 2.06-2.06.94z\"/><path d=\"M17.41 7.96l-1.37-1.37c-.4-.4-.92-.59-1.43-.59-.52 0-1.04.2-1.43.59L10.3 9.45l-7.72 7.72c-.78.78-.78 2.05 0 2.83L4 21.41c.39.39.9.59 1.41.59.51 0 1.02-.2 1.41-.59l7.78-7.78 2.81-2.81c.8-.78.8-2.07 0-2.86zM5.41 20L4 18.59l7.72-7.72 1.47 1.35L5.41 20z\"/>\n",
              "  </svg>\n",
              "      </button>\n",
              "      \n",
              "  <style>\n",
              "    .colab-df-container {\n",
              "      display:flex;\n",
              "      flex-wrap:wrap;\n",
              "      gap: 12px;\n",
              "    }\n",
              "\n",
              "    .colab-df-convert {\n",
              "      background-color: #E8F0FE;\n",
              "      border: none;\n",
              "      border-radius: 50%;\n",
              "      cursor: pointer;\n",
              "      display: none;\n",
              "      fill: #1967D2;\n",
              "      height: 32px;\n",
              "      padding: 0 0 0 0;\n",
              "      width: 32px;\n",
              "    }\n",
              "\n",
              "    .colab-df-convert:hover {\n",
              "      background-color: #E2EBFA;\n",
              "      box-shadow: 0px 1px 2px rgba(60, 64, 67, 0.3), 0px 1px 3px 1px rgba(60, 64, 67, 0.15);\n",
              "      fill: #174EA6;\n",
              "    }\n",
              "\n",
              "    [theme=dark] .colab-df-convert {\n",
              "      background-color: #3B4455;\n",
              "      fill: #D2E3FC;\n",
              "    }\n",
              "\n",
              "    [theme=dark] .colab-df-convert:hover {\n",
              "      background-color: #434B5C;\n",
              "      box-shadow: 0px 1px 3px 1px rgba(0, 0, 0, 0.15);\n",
              "      filter: drop-shadow(0px 1px 2px rgba(0, 0, 0, 0.3));\n",
              "      fill: #FFFFFF;\n",
              "    }\n",
              "  </style>\n",
              "\n",
              "      <script>\n",
              "        const buttonEl =\n",
              "          document.querySelector('#df-1641c4bb-95e5-4699-82f0-76d94d6d21fb button.colab-df-convert');\n",
              "        buttonEl.style.display =\n",
              "          google.colab.kernel.accessAllowed ? 'block' : 'none';\n",
              "\n",
              "        async function convertToInteractive(key) {\n",
              "          const element = document.querySelector('#df-1641c4bb-95e5-4699-82f0-76d94d6d21fb');\n",
              "          const dataTable =\n",
              "            await google.colab.kernel.invokeFunction('convertToInteractive',\n",
              "                                                     [key], {});\n",
              "          if (!dataTable) return;\n",
              "\n",
              "          const docLinkHtml = 'Like what you see? Visit the ' +\n",
              "            '<a target=\"_blank\" href=https://colab.research.google.com/notebooks/data_table.ipynb>data table notebook</a>'\n",
              "            + ' to learn more about interactive tables.';\n",
              "          element.innerHTML = '';\n",
              "          dataTable['output_type'] = 'display_data';\n",
              "          await google.colab.output.renderOutput(dataTable, element);\n",
              "          const docLink = document.createElement('div');\n",
              "          docLink.innerHTML = docLinkHtml;\n",
              "          element.appendChild(docLink);\n",
              "        }\n",
              "      </script>\n",
              "    </div>\n",
              "  </div>\n",
              "  "
            ]
          },
          "metadata": {},
          "execution_count": 54
        }
      ]
    },
    {
      "cell_type": "markdown",
      "source": [
        "###Third Submission (Real accuracy = 0.45666)"
      ],
      "metadata": {
        "id": "sJ_A3S6mR3SZ"
      }
    },
    {
      "cell_type": "code",
      "source": [
        "# Used the best model in terms of accuracy\n",
        "geneva_predictions_LR_nltk = LR_nltk_pipe.predict(df_unlabeled[\"sentence\"])\n",
        "\n",
        "third_submission = pd.DataFrame(geneva_predictions_LR_nltk ,columns=[\"difficulty\"])\n",
        "third_submission = third_submission.rename_axis(\"id\")\n",
        "\n",
        "third_submission.to_csv(\"Geneva_predictions_LR_nltk.csv\") "
      ],
      "metadata": {
        "id": "9mev4T8YR6Ky"
      },
      "execution_count": 55,
      "outputs": []
    },
    {
      "cell_type": "code",
      "source": [
        "third_submission"
      ],
      "metadata": {
        "id": "rB1m0gBlR-ZK",
        "outputId": "ac479814-d9c8-4cc1-f3da-3de4a872932f",
        "colab": {
          "base_uri": "https://localhost:8080/",
          "height": 455
        }
      },
      "execution_count": 56,
      "outputs": [
        {
          "output_type": "execute_result",
          "data": {
            "text/plain": [
              "     difficulty\n",
              "id             \n",
              "0            C2\n",
              "1            A2\n",
              "2            A1\n",
              "3            B1\n",
              "4            C2\n",
              "...         ...\n",
              "1195         B1\n",
              "1196         A2\n",
              "1197         C2\n",
              "1198         A1\n",
              "1199         B1\n",
              "\n",
              "[1200 rows x 1 columns]"
            ],
            "text/html": [
              "\n",
              "  <div id=\"df-02c108ea-d0f4-4de2-9ae6-749002d847cf\">\n",
              "    <div class=\"colab-df-container\">\n",
              "      <div>\n",
              "<style scoped>\n",
              "    .dataframe tbody tr th:only-of-type {\n",
              "        vertical-align: middle;\n",
              "    }\n",
              "\n",
              "    .dataframe tbody tr th {\n",
              "        vertical-align: top;\n",
              "    }\n",
              "\n",
              "    .dataframe thead th {\n",
              "        text-align: right;\n",
              "    }\n",
              "</style>\n",
              "<table border=\"1\" class=\"dataframe\">\n",
              "  <thead>\n",
              "    <tr style=\"text-align: right;\">\n",
              "      <th></th>\n",
              "      <th>difficulty</th>\n",
              "    </tr>\n",
              "    <tr>\n",
              "      <th>id</th>\n",
              "      <th></th>\n",
              "    </tr>\n",
              "  </thead>\n",
              "  <tbody>\n",
              "    <tr>\n",
              "      <th>0</th>\n",
              "      <td>C2</td>\n",
              "    </tr>\n",
              "    <tr>\n",
              "      <th>1</th>\n",
              "      <td>A2</td>\n",
              "    </tr>\n",
              "    <tr>\n",
              "      <th>2</th>\n",
              "      <td>A1</td>\n",
              "    </tr>\n",
              "    <tr>\n",
              "      <th>3</th>\n",
              "      <td>B1</td>\n",
              "    </tr>\n",
              "    <tr>\n",
              "      <th>4</th>\n",
              "      <td>C2</td>\n",
              "    </tr>\n",
              "    <tr>\n",
              "      <th>...</th>\n",
              "      <td>...</td>\n",
              "    </tr>\n",
              "    <tr>\n",
              "      <th>1195</th>\n",
              "      <td>B1</td>\n",
              "    </tr>\n",
              "    <tr>\n",
              "      <th>1196</th>\n",
              "      <td>A2</td>\n",
              "    </tr>\n",
              "    <tr>\n",
              "      <th>1197</th>\n",
              "      <td>C2</td>\n",
              "    </tr>\n",
              "    <tr>\n",
              "      <th>1198</th>\n",
              "      <td>A1</td>\n",
              "    </tr>\n",
              "    <tr>\n",
              "      <th>1199</th>\n",
              "      <td>B1</td>\n",
              "    </tr>\n",
              "  </tbody>\n",
              "</table>\n",
              "<p>1200 rows × 1 columns</p>\n",
              "</div>\n",
              "      <button class=\"colab-df-convert\" onclick=\"convertToInteractive('df-02c108ea-d0f4-4de2-9ae6-749002d847cf')\"\n",
              "              title=\"Convert this dataframe to an interactive table.\"\n",
              "              style=\"display:none;\">\n",
              "        \n",
              "  <svg xmlns=\"http://www.w3.org/2000/svg\" height=\"24px\"viewBox=\"0 0 24 24\"\n",
              "       width=\"24px\">\n",
              "    <path d=\"M0 0h24v24H0V0z\" fill=\"none\"/>\n",
              "    <path d=\"M18.56 5.44l.94 2.06.94-2.06 2.06-.94-2.06-.94-.94-2.06-.94 2.06-2.06.94zm-11 1L8.5 8.5l.94-2.06 2.06-.94-2.06-.94L8.5 2.5l-.94 2.06-2.06.94zm10 10l.94 2.06.94-2.06 2.06-.94-2.06-.94-.94-2.06-.94 2.06-2.06.94z\"/><path d=\"M17.41 7.96l-1.37-1.37c-.4-.4-.92-.59-1.43-.59-.52 0-1.04.2-1.43.59L10.3 9.45l-7.72 7.72c-.78.78-.78 2.05 0 2.83L4 21.41c.39.39.9.59 1.41.59.51 0 1.02-.2 1.41-.59l7.78-7.78 2.81-2.81c.8-.78.8-2.07 0-2.86zM5.41 20L4 18.59l7.72-7.72 1.47 1.35L5.41 20z\"/>\n",
              "  </svg>\n",
              "      </button>\n",
              "      \n",
              "  <style>\n",
              "    .colab-df-container {\n",
              "      display:flex;\n",
              "      flex-wrap:wrap;\n",
              "      gap: 12px;\n",
              "    }\n",
              "\n",
              "    .colab-df-convert {\n",
              "      background-color: #E8F0FE;\n",
              "      border: none;\n",
              "      border-radius: 50%;\n",
              "      cursor: pointer;\n",
              "      display: none;\n",
              "      fill: #1967D2;\n",
              "      height: 32px;\n",
              "      padding: 0 0 0 0;\n",
              "      width: 32px;\n",
              "    }\n",
              "\n",
              "    .colab-df-convert:hover {\n",
              "      background-color: #E2EBFA;\n",
              "      box-shadow: 0px 1px 2px rgba(60, 64, 67, 0.3), 0px 1px 3px 1px rgba(60, 64, 67, 0.15);\n",
              "      fill: #174EA6;\n",
              "    }\n",
              "\n",
              "    [theme=dark] .colab-df-convert {\n",
              "      background-color: #3B4455;\n",
              "      fill: #D2E3FC;\n",
              "    }\n",
              "\n",
              "    [theme=dark] .colab-df-convert:hover {\n",
              "      background-color: #434B5C;\n",
              "      box-shadow: 0px 1px 3px 1px rgba(0, 0, 0, 0.15);\n",
              "      filter: drop-shadow(0px 1px 2px rgba(0, 0, 0, 0.3));\n",
              "      fill: #FFFFFF;\n",
              "    }\n",
              "  </style>\n",
              "\n",
              "      <script>\n",
              "        const buttonEl =\n",
              "          document.querySelector('#df-02c108ea-d0f4-4de2-9ae6-749002d847cf button.colab-df-convert');\n",
              "        buttonEl.style.display =\n",
              "          google.colab.kernel.accessAllowed ? 'block' : 'none';\n",
              "\n",
              "        async function convertToInteractive(key) {\n",
              "          const element = document.querySelector('#df-02c108ea-d0f4-4de2-9ae6-749002d847cf');\n",
              "          const dataTable =\n",
              "            await google.colab.kernel.invokeFunction('convertToInteractive',\n",
              "                                                     [key], {});\n",
              "          if (!dataTable) return;\n",
              "\n",
              "          const docLinkHtml = 'Like what you see? Visit the ' +\n",
              "            '<a target=\"_blank\" href=https://colab.research.google.com/notebooks/data_table.ipynb>data table notebook</a>'\n",
              "            + ' to learn more about interactive tables.';\n",
              "          element.innerHTML = '';\n",
              "          dataTable['output_type'] = 'display_data';\n",
              "          await google.colab.output.renderOutput(dataTable, element);\n",
              "          const docLink = document.createElement('div');\n",
              "          docLink.innerHTML = docLinkHtml;\n",
              "          element.appendChild(docLink);\n",
              "        }\n",
              "      </script>\n",
              "    </div>\n",
              "  </div>\n",
              "  "
            ]
          },
          "metadata": {},
          "execution_count": 56
        }
      ]
    }
  ]
}